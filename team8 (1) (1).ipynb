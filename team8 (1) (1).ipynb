{
 "cells": [
  {
   "cell_type": "markdown",
   "metadata": {
    "id": "8f-WoJkTU1o5"
   },
   "source": [
    "# Overview of Hostile Post Detection in Hindi\n",
    "- **Goals:** To predict the label set of the set of post collected from Twitter and facebook.\n",
    "\n",
    "- **Traning data:** post with their label.\n",
    "\n",
    "- **Tesing data:** set of posts.\n",
    "- **Types of post:** \n",
    "1. *Fake News:* A claim or information that is verified to be not true.\n",
    "2. *Hate Speech:* A post targeting a specific group of people based on their ethnicity, religious beliefs, geographical belonging, race, etc., with malicious intentions of spreading hate or encouraging violence.\n",
    "3. *Offensive:* A post containing profanity, impolite, rude, or vulgar language to insult a targeted individual or group.\n",
    "4. *Defamation:* A mis-information regarding an individual or group.\n",
    "5. *Non-hostile:* A post without any hostility."
   ]
  },
  {
   "cell_type": "code",
   "execution_count": 6,
   "metadata": {
    "id": "SEqGvMleU1o6"
   },
   "outputs": [],
   "source": []
  },
  {
   "cell_type": "markdown",
   "metadata": {
    "id": "FIDdsC6QU1o9"
   },
   "source": [
    "## Exploring dataset"
   ]
  },
  {
   "cell_type": "code",
   "execution_count": 51,
   "metadata": {
    "id": "y7HpR5wZU1o-"
   },
   "outputs": [],
   "source": [
    "# importing libraries\n",
    "import pandas as pd     \n",
    "import numpy as np\n",
    "import matplotlib.pyplot as plt"
   ]
  },
  {
   "cell_type": "code",
   "execution_count": 52,
   "metadata": {
    "id": "rUt4QAhXU1pA"
   },
   "outputs": [],
   "source": [
    "#load data\n",
    "\n",
    "data = pd.read_csv(\"dataset.csv\")"
   ]
  },
  {
   "cell_type": "code",
   "execution_count": 53,
   "metadata": {
    "colab": {
     "base_uri": "https://localhost:8080/",
     "height": 34
    },
    "id": "45rtWWwZU1pD",
    "outputId": "bc6df1e9-9a1b-417d-995e-e5df931cc021"
   },
   "outputs": [
    {
     "name": "stdout",
     "output_type": "stream",
     "text": [
      "We have 5728 posts in the training set.\n"
     ]
    }
   ],
   "source": [
    "# How many posts do we have in training set\n",
    "\n",
    "print(\"We have\", data.shape[0], \"posts in the training set.\")"
   ]
  },
  {
   "cell_type": "code",
   "execution_count": 54,
   "metadata": {
    "colab": {
     "base_uri": "https://localhost:8080/",
     "height": 195
    },
    "id": "yorlo8vIU1pH",
    "outputId": "d99a370c-a07c-4c61-f6c5-e85e7e65d841"
   },
   "outputs": [
    {
     "data": {
      "text/html": [
       "<div>\n",
       "<style scoped>\n",
       "    .dataframe tbody tr th:only-of-type {\n",
       "        vertical-align: middle;\n",
       "    }\n",
       "\n",
       "    .dataframe tbody tr th {\n",
       "        vertical-align: top;\n",
       "    }\n",
       "\n",
       "    .dataframe thead th {\n",
       "        text-align: right;\n",
       "    }\n",
       "</style>\n",
       "<table border=\"1\" class=\"dataframe\">\n",
       "  <thead>\n",
       "    <tr style=\"text-align: right;\">\n",
       "      <th></th>\n",
       "      <th>Unique ID</th>\n",
       "      <th>Post</th>\n",
       "      <th>Labels Set</th>\n",
       "      <th>Unnamed: 3</th>\n",
       "      <th>Unnamed: 4</th>\n",
       "    </tr>\n",
       "  </thead>\n",
       "  <tbody>\n",
       "    <tr>\n",
       "      <th>0</th>\n",
       "      <td>1</td>\n",
       "      <td>मेरे देश के हिन्दु बहुत निराले है। कुछ तो पक्क...</td>\n",
       "      <td>hate,offensive</td>\n",
       "      <td>NaN</td>\n",
       "      <td>NaN</td>\n",
       "    </tr>\n",
       "    <tr>\n",
       "      <th>1</th>\n",
       "      <td>2</td>\n",
       "      <td>सरकार हमेशा से किसानों की कमाई को बढ़ाने के लि...</td>\n",
       "      <td>non-hostile</td>\n",
       "      <td>NaN</td>\n",
       "      <td>NaN</td>\n",
       "    </tr>\n",
       "    <tr>\n",
       "      <th>2</th>\n",
       "      <td>3</td>\n",
       "      <td>सुशांत ने जो बिजनेस डील 9 जून को की थी, वो डील...</td>\n",
       "      <td>non-hostile</td>\n",
       "      <td>NaN</td>\n",
       "      <td>NaN</td>\n",
       "    </tr>\n",
       "    <tr>\n",
       "      <th>3</th>\n",
       "      <td>4</td>\n",
       "      <td>@prabhav218 साले जेएनयू छाप कमिने लोग हिन्दुओं...</td>\n",
       "      <td>defamation,offensive</td>\n",
       "      <td>NaN</td>\n",
       "      <td>NaN</td>\n",
       "    </tr>\n",
       "    <tr>\n",
       "      <th>4</th>\n",
       "      <td>5</td>\n",
       "      <td>#unlock4guidelines - अनलॉक-4 के लिए गाइडलाइन्स...</td>\n",
       "      <td>non-hostile</td>\n",
       "      <td>NaN</td>\n",
       "      <td>NaN</td>\n",
       "    </tr>\n",
       "  </tbody>\n",
       "</table>\n",
       "</div>"
      ],
      "text/plain": [
       "   Unique ID                                               Post  \\\n",
       "0          1  मेरे देश के हिन्दु बहुत निराले है। कुछ तो पक्क...   \n",
       "1          2  सरकार हमेशा से किसानों की कमाई को बढ़ाने के लि...   \n",
       "2          3  सुशांत ने जो बिजनेस डील 9 जून को की थी, वो डील...   \n",
       "3          4  @prabhav218 साले जेएनयू छाप कमिने लोग हिन्दुओं...   \n",
       "4          5  #unlock4guidelines - अनलॉक-4 के लिए गाइडलाइन्स...   \n",
       "\n",
       "             Labels Set  Unnamed: 3  Unnamed: 4  \n",
       "0        hate,offensive         NaN         NaN  \n",
       "1           non-hostile         NaN         NaN  \n",
       "2           non-hostile         NaN         NaN  \n",
       "3  defamation,offensive         NaN         NaN  \n",
       "4           non-hostile         NaN         NaN  "
      ]
     },
     "execution_count": 54,
     "metadata": {},
     "output_type": "execute_result"
    }
   ],
   "source": [
    "data.head()"
   ]
  },
  {
   "cell_type": "code",
   "execution_count": 55,
   "metadata": {
    "colab": {
     "base_uri": "https://localhost:8080/",
     "height": 195
    },
    "id": "LBjtXf6CVsBp",
    "outputId": "dd051ee8-53db-41b5-db36-66e5e94e4641"
   },
   "outputs": [
    {
     "data": {
      "text/html": [
       "<div>\n",
       "<style scoped>\n",
       "    .dataframe tbody tr th:only-of-type {\n",
       "        vertical-align: middle;\n",
       "    }\n",
       "\n",
       "    .dataframe tbody tr th {\n",
       "        vertical-align: top;\n",
       "    }\n",
       "\n",
       "    .dataframe thead th {\n",
       "        text-align: right;\n",
       "    }\n",
       "</style>\n",
       "<table border=\"1\" class=\"dataframe\">\n",
       "  <thead>\n",
       "    <tr style=\"text-align: right;\">\n",
       "      <th></th>\n",
       "      <th>Unique ID</th>\n",
       "      <th>Post</th>\n",
       "      <th>Labels Set</th>\n",
       "      <th>Unnamed: 3</th>\n",
       "      <th>Unnamed: 4</th>\n",
       "    </tr>\n",
       "  </thead>\n",
       "  <tbody>\n",
       "    <tr>\n",
       "      <th>5723</th>\n",
       "      <td>5724</td>\n",
       "      <td>उदितराज जी हिम्मत  जुटा कर उस नेता के लिए कुछ ...</td>\n",
       "      <td>hate</td>\n",
       "      <td>NaN</td>\n",
       "      <td>NaN</td>\n",
       "    </tr>\n",
       "    <tr>\n",
       "      <th>5724</th>\n",
       "      <td>5725</td>\n",
       "      <td>उप्र: पीएम रिपोर्ट में खुलासा: हार्टअटैक से हु...</td>\n",
       "      <td>non-hostile</td>\n",
       "      <td>NaN</td>\n",
       "      <td>NaN</td>\n",
       "    </tr>\n",
       "    <tr>\n",
       "      <th>5725</th>\n",
       "      <td>5726</td>\n",
       "      <td>नौकरी गंवा चुके दोस्त की मदद: नगद के बजाए गिफ्...</td>\n",
       "      <td>non-hostile</td>\n",
       "      <td>NaN</td>\n",
       "      <td>NaN</td>\n",
       "    </tr>\n",
       "    <tr>\n",
       "      <th>5726</th>\n",
       "      <td>5727</td>\n",
       "      <td>बंगाल में हिन्दू मरे हैं इसलिए मुझे कोई फर्क न...</td>\n",
       "      <td>fake</td>\n",
       "      <td>NaN</td>\n",
       "      <td>NaN</td>\n",
       "    </tr>\n",
       "    <tr>\n",
       "      <th>5727</th>\n",
       "      <td>5728</td>\n",
       "      <td>रक्षा मंत्री @rajnathsingh ने पूर्व राष्ट्रपति...</td>\n",
       "      <td>non-hostile</td>\n",
       "      <td>NaN</td>\n",
       "      <td>NaN</td>\n",
       "    </tr>\n",
       "  </tbody>\n",
       "</table>\n",
       "</div>"
      ],
      "text/plain": [
       "      Unique ID                                               Post  \\\n",
       "5723       5724  उदितराज जी हिम्मत  जुटा कर उस नेता के लिए कुछ ...   \n",
       "5724       5725  उप्र: पीएम रिपोर्ट में खुलासा: हार्टअटैक से हु...   \n",
       "5725       5726  नौकरी गंवा चुके दोस्त की मदद: नगद के बजाए गिफ्...   \n",
       "5726       5727  बंगाल में हिन्दू मरे हैं इसलिए मुझे कोई फर्क न...   \n",
       "5727       5728  रक्षा मंत्री @rajnathsingh ने पूर्व राष्ट्रपति...   \n",
       "\n",
       "       Labels Set  Unnamed: 3  Unnamed: 4  \n",
       "5723         hate         NaN         NaN  \n",
       "5724  non-hostile         NaN         NaN  \n",
       "5725  non-hostile         NaN         NaN  \n",
       "5726         fake         NaN         NaN  \n",
       "5727  non-hostile         NaN         NaN  "
      ]
     },
     "execution_count": 55,
     "metadata": {},
     "output_type": "execute_result"
    }
   ],
   "source": [
    "data.tail()"
   ]
  },
  {
   "cell_type": "code",
   "execution_count": 56,
   "metadata": {
    "colab": {
     "base_uri": "https://localhost:8080/",
     "height": 218
    },
    "id": "K0nEa0QLU1pJ",
    "outputId": "83a0c220-f70f-41b4-b35e-fd84d23778da"
   },
   "outputs": [
    {
     "name": "stdout",
     "output_type": "stream",
     "text": [
      "<class 'pandas.core.frame.DataFrame'>\n",
      "RangeIndex: 5728 entries, 0 to 5727\n",
      "Data columns (total 5 columns):\n",
      " #   Column      Non-Null Count  Dtype  \n",
      "---  ------      --------------  -----  \n",
      " 0   Unique ID   5728 non-null   int64  \n",
      " 1   Post        5728 non-null   object \n",
      " 2   Labels Set  5728 non-null   object \n",
      " 3   Unnamed: 3  0 non-null      float64\n",
      " 4   Unnamed: 4  0 non-null      float64\n",
      "dtypes: float64(2), int64(1), object(2)\n",
      "memory usage: 223.9+ KB\n"
     ]
    }
   ],
   "source": [
    "data.info()"
   ]
  },
  {
   "cell_type": "code",
   "execution_count": 57,
   "metadata": {
    "id": "Cuusc2RuU1pM"
   },
   "outputs": [],
   "source": [
    "#removing extra columns\n",
    "data=data.drop(data.columns[[0,3,4]], axis=1)"
   ]
  },
  {
   "cell_type": "code",
   "execution_count": 58,
   "metadata": {
    "colab": {
     "base_uri": "https://localhost:8080/",
     "height": 168
    },
    "id": "NLO9o5MpU1pP",
    "outputId": "d1d6e10a-2d79-41ef-aeda-9b5f28709da0"
   },
   "outputs": [
    {
     "name": "stdout",
     "output_type": "stream",
     "text": [
      "<class 'pandas.core.frame.DataFrame'>\n",
      "RangeIndex: 5728 entries, 0 to 5727\n",
      "Data columns (total 2 columns):\n",
      " #   Column      Non-Null Count  Dtype \n",
      "---  ------      --------------  ----- \n",
      " 0   Post        5728 non-null   object\n",
      " 1   Labels Set  5728 non-null   object\n",
      "dtypes: object(2)\n",
      "memory usage: 89.6+ KB\n"
     ]
    }
   ],
   "source": [
    "data.info()"
   ]
  },
  {
   "cell_type": "code",
   "execution_count": 59,
   "metadata": {
    "colab": {
     "base_uri": "https://localhost:8080/",
     "height": 195
    },
    "id": "da8yvF7jU1pR",
    "outputId": "a1b54760-70e9-4e44-e025-857e8748458f"
   },
   "outputs": [
    {
     "data": {
      "text/html": [
       "<div>\n",
       "<style scoped>\n",
       "    .dataframe tbody tr th:only-of-type {\n",
       "        vertical-align: middle;\n",
       "    }\n",
       "\n",
       "    .dataframe tbody tr th {\n",
       "        vertical-align: top;\n",
       "    }\n",
       "\n",
       "    .dataframe thead th {\n",
       "        text-align: right;\n",
       "    }\n",
       "</style>\n",
       "<table border=\"1\" class=\"dataframe\">\n",
       "  <thead>\n",
       "    <tr style=\"text-align: right;\">\n",
       "      <th></th>\n",
       "      <th>Post</th>\n",
       "      <th>Labels Set</th>\n",
       "    </tr>\n",
       "  </thead>\n",
       "  <tbody>\n",
       "    <tr>\n",
       "      <th>0</th>\n",
       "      <td>मेरे देश के हिन्दु बहुत निराले है। कुछ तो पक्क...</td>\n",
       "      <td>hate,offensive</td>\n",
       "    </tr>\n",
       "    <tr>\n",
       "      <th>1</th>\n",
       "      <td>सरकार हमेशा से किसानों की कमाई को बढ़ाने के लि...</td>\n",
       "      <td>non-hostile</td>\n",
       "    </tr>\n",
       "    <tr>\n",
       "      <th>2</th>\n",
       "      <td>सुशांत ने जो बिजनेस डील 9 जून को की थी, वो डील...</td>\n",
       "      <td>non-hostile</td>\n",
       "    </tr>\n",
       "    <tr>\n",
       "      <th>3</th>\n",
       "      <td>@prabhav218 साले जेएनयू छाप कमिने लोग हिन्दुओं...</td>\n",
       "      <td>defamation,offensive</td>\n",
       "    </tr>\n",
       "    <tr>\n",
       "      <th>4</th>\n",
       "      <td>#unlock4guidelines - अनलॉक-4 के लिए गाइडलाइन्स...</td>\n",
       "      <td>non-hostile</td>\n",
       "    </tr>\n",
       "  </tbody>\n",
       "</table>\n",
       "</div>"
      ],
      "text/plain": [
       "                                                Post            Labels Set\n",
       "0  मेरे देश के हिन्दु बहुत निराले है। कुछ तो पक्क...        hate,offensive\n",
       "1  सरकार हमेशा से किसानों की कमाई को बढ़ाने के लि...           non-hostile\n",
       "2  सुशांत ने जो बिजनेस डील 9 जून को की थी, वो डील...           non-hostile\n",
       "3  @prabhav218 साले जेएनयू छाप कमिने लोग हिन्दुओं...  defamation,offensive\n",
       "4  #unlock4guidelines - अनलॉक-4 के लिए गाइडलाइन्स...           non-hostile"
      ]
     },
     "execution_count": 59,
     "metadata": {},
     "output_type": "execute_result"
    }
   ],
   "source": [
    "data.head()"
   ]
  },
  {
   "cell_type": "code",
   "execution_count": 60,
   "metadata": {
    "colab": {
     "base_uri": "https://localhost:8080/",
     "height": 195
    },
    "id": "IFRAZ75BU1pU",
    "outputId": "02134fbe-b8f5-447f-9ef8-7ebd5dabf9a7"
   },
   "outputs": [
    {
     "data": {
      "text/html": [
       "<div>\n",
       "<style scoped>\n",
       "    .dataframe tbody tr th:only-of-type {\n",
       "        vertical-align: middle;\n",
       "    }\n",
       "\n",
       "    .dataframe tbody tr th {\n",
       "        vertical-align: top;\n",
       "    }\n",
       "\n",
       "    .dataframe thead th {\n",
       "        text-align: right;\n",
       "    }\n",
       "</style>\n",
       "<table border=\"1\" class=\"dataframe\">\n",
       "  <thead>\n",
       "    <tr style=\"text-align: right;\">\n",
       "      <th></th>\n",
       "      <th>Post</th>\n",
       "      <th>Labels Set</th>\n",
       "    </tr>\n",
       "  </thead>\n",
       "  <tbody>\n",
       "    <tr>\n",
       "      <th>5723</th>\n",
       "      <td>उदितराज जी हिम्मत  जुटा कर उस नेता के लिए कुछ ...</td>\n",
       "      <td>hate</td>\n",
       "    </tr>\n",
       "    <tr>\n",
       "      <th>5724</th>\n",
       "      <td>उप्र: पीएम रिपोर्ट में खुलासा: हार्टअटैक से हु...</td>\n",
       "      <td>non-hostile</td>\n",
       "    </tr>\n",
       "    <tr>\n",
       "      <th>5725</th>\n",
       "      <td>नौकरी गंवा चुके दोस्त की मदद: नगद के बजाए गिफ्...</td>\n",
       "      <td>non-hostile</td>\n",
       "    </tr>\n",
       "    <tr>\n",
       "      <th>5726</th>\n",
       "      <td>बंगाल में हिन्दू मरे हैं इसलिए मुझे कोई फर्क न...</td>\n",
       "      <td>fake</td>\n",
       "    </tr>\n",
       "    <tr>\n",
       "      <th>5727</th>\n",
       "      <td>रक्षा मंत्री @rajnathsingh ने पूर्व राष्ट्रपति...</td>\n",
       "      <td>non-hostile</td>\n",
       "    </tr>\n",
       "  </tbody>\n",
       "</table>\n",
       "</div>"
      ],
      "text/plain": [
       "                                                   Post   Labels Set\n",
       "5723  उदितराज जी हिम्मत  जुटा कर उस नेता के लिए कुछ ...         hate\n",
       "5724  उप्र: पीएम रिपोर्ट में खुलासा: हार्टअटैक से हु...  non-hostile\n",
       "5725  नौकरी गंवा चुके दोस्त की मदद: नगद के बजाए गिफ्...  non-hostile\n",
       "5726  बंगाल में हिन्दू मरे हैं इसलिए मुझे कोई फर्क न...         fake\n",
       "5727  रक्षा मंत्री @rajnathsingh ने पूर्व राष्ट्रपति...  non-hostile"
      ]
     },
     "execution_count": 60,
     "metadata": {},
     "output_type": "execute_result"
    }
   ],
   "source": [
    "data.tail()"
   ]
  },
  {
   "cell_type": "code",
   "execution_count": 61,
   "metadata": {
    "colab": {
     "base_uri": "https://localhost:8080/",
     "height": 67
    },
    "id": "k4NQUDcHU1pW",
    "outputId": "9b3ea895-fc04-444e-e4e6-71f08cae4333"
   },
   "outputs": [
    {
     "data": {
      "text/plain": [
       "Post          0\n",
       "Labels Set    0\n",
       "dtype: int64"
      ]
     },
     "execution_count": 61,
     "metadata": {},
     "output_type": "execute_result"
    }
   ],
   "source": [
    "#Calculating the null values in each columns\n",
    "\n",
    "data.isnull().sum()"
   ]
  },
  {
   "cell_type": "markdown",
   "metadata": {
    "id": "IeEtVtaYi7Tk"
   },
   "source": [
    "###Number of columns and rows in train data set\n",
    "\n",
    "\n"
   ]
  },
  {
   "cell_type": "code",
   "execution_count": 62,
   "metadata": {
    "colab": {
     "base_uri": "https://localhost:8080/",
     "height": 34
    },
    "id": "UrpjElybibvK",
    "outputId": "cabbf91c-d579-4f96-f2b2-43659b538766"
   },
   "outputs": [
    {
     "name": "stdout",
     "output_type": "stream",
     "text": [
      "(5728, 2) is the dimension of the data\n"
     ]
    }
   ],
   "source": [
    "data.shape\n",
    "print(data.shape,\"is the dimension of the data\")"
   ]
  },
  {
   "cell_type": "markdown",
   "metadata": {
    "id": "EMUZ2jXZmkmR"
   },
   "source": [
    "**--> Checking for the duplicates in the dataset.**"
   ]
  },
  {
   "cell_type": "code",
   "execution_count": 63,
   "metadata": {},
   "outputs": [
    {
     "name": "stdout",
     "output_type": "stream",
     "text": [
      "10\n"
     ]
    }
   ],
   "source": [
    "print(len(data['Post'])-len(set(data['Post'])))"
   ]
  },
  {
   "cell_type": "code",
   "execution_count": 64,
   "metadata": {
    "colab": {
     "base_uri": "https://localhost:8080/",
     "height": 255
    },
    "id": "eOh3Yz3kmj1_",
    "outputId": "eb97d90f-af42-4587-b476-9f50e069fefe"
   },
   "outputs": [
    {
     "name": "stdout",
     "output_type": "stream",
     "text": [
      "Post\n",
      "\\nHimat Gohel\\n@himatgohel\\nBJP विधायक अनिल उपाध्याय की इस हरकत पर क्या कहेगे मोदी जी, give your \\n your Reaction की ये पूरा हिन्दुस्तान देख सके..👇                                                                                                                                                                                                                                                                                                                                                                                                                                                                                                                                                                                                                                                                                                                                                                                                                                                                                                                                                                                                                                                                                                                                                                                                                                                                                                                                                                                                                                                                                                                                                                                                                                                                                                                                                                                                                                                                                                                                                                                                                                                                                                                                                                                                                                                                                                         1\n",
      " 1. हमारी सरकार बनते ही पाकिस्तान को 5 हज़ार करोड़ का क़र्ज़ देंगे बिना ब्याज 50 साल के लिए। 2 . कश्मीर पाकिस्तान को दे देना चाहिए। 3 . मेरे पूर्वज मुस्लिम थे , मै मुसलमान हूँ । 4 . वोट बैंक के लिए मै नकली हिंदू बना ।\\n\\n                                                                                                                                                                                                                                                                                                                                                                                                                                                                                                                                                                                                                                                                                                                                                                                                                                                                                                                                                                                                                                                                                                                                                                                                                                                                                                                                                                                                                                                                                                                                                                                                                                                                                                                                                                                                                                                                                                                                                                                                                                                                                                                                                                                                                                   1\n",
      " कल एक तब्लीगी मिला था, हमने कहा सिंध बलूच POK और चीन में हमारे मुस्लिम भाईयों पर अत्याचार हो रहा है, बस गुस्से में बचपन की दोस्ती तोड़ कर चला गया 🤔                                                                                                                                                                                                                                                                                                                                                                                                                                                                                                                                                                                                                                                                                                                                                                                                                                                                                                                                                                                                                                                                                                                                                                                                                                                                                                                                                                                                                                                                                                                                                                                                                                                                                                                                                                                                                                                                                                                                                                                                                                                                                                                                                                                                                                                                                                        1\n",
      " कोरोनावायरस आने के पहले इटली में 'गे पार्टी' हुई थी, वायरस हमले के पहले यह इटली में हुई आखिरी समलैंगिक कॉन्फ्रेंस थी                                                                                                                                                                                                                                                                                                                                                                                                                                                                                                                                                                                                                                                                                                                                                                                                                                                                                                                                                                                                                                                                                                                                                                                                                                                                                                                                                                                                                                                                                                                                                                                                                                                                                                                                                                                                                                                                                                                                                                                                                                                                                                                                                                                                                                                                                                                                       1\n",
      " चीन ने सीमाओं पर मिसाइल तैनात कर दी हैं, संसद में हो चर्चा, PM दें जवाब '  : @INCIndia \\n\\n#IndiaChinaFaceOff \\n\\nhttps://t.co/VSB4eVIJth                                                                                                                                                                                                                                                                                                                                                                                                                                                                                                                                                                                                                                                                                                                                                                                                                                                                                                                                                                                                                                                                                                                                                                                                                                                                                                                                                                                                                                                                                                                                                                                                                                                                                                                                                                                                                                                                                                                                                                                                                                                                                                                                                                                                                                                                                                                  1\n",
      "                                                                                                                                                                                                                                                                                                                                                                                                                                                                                                                                                                                                                                                                                                                                                                                                                                                                                                                                                                                                                                                                                                                                                                                                                                                                                                                                                                                                                                                                                                                                                                                                                                                                                                                                                                                                                                                                                                                                                                                                                                                                                                                                                                                                                                                                                                                                                                                                                                                           ..\n",
      "💖💖\\n\"अच्छी सोच ★ प्रेरणादायक सुविचार\"💖 ग्रुप मे आप सभी का स्वागत है 🌹🌹\\nAnd Just Enjoy -:\\nमित्रों सभी ग्रुप समुदाय के नियम कानुन कायदे होते हैं उसी तरह इस अपने समुह के भी कुछ नियम है जिनको आप हम सभी को समान रुप से फोलो करना है ।\\n👥 group rules:-\\n1.- ग्रुप मे अश्लील,\\nजातिवादी,\\nधर्मविरोधी,\\nअफवाहे,\\nराजनीति संबंधित व\\nहिंसा फैंलाने वाली पोस्ट ना करे ।\\n(ऐसी पोस्ट ग्रुप मे पाए जाने पर पोस्ट के रचयिता को हमेशा के लिए बाहर या ब्लॉक कर दिया जाएगा ।)\\n2.- ग्रुप मे\\nFree Recharge,\\nRequirement,\\nJob,\\nखरिदों-बेचो ऐसी पोस्टे Group में ना करें !❌\\n3.- एक सख़्त हिदायत -->>कोई भी Male Member किसी भी Femel Member को तब तक Friend Request ना भेजे जब तक की दोनों परस्पर Femilier ना महसूस करने लगें हो और अप्रिय कार्यवाही से बचें !\\n4.- किसी भी अन्जान लड़की से बिना उसकी इजाजत के (yaar/add me इत्यादि) शब्दों से बात नही करे।\\n5.- ईश्वर की आस्था हमें भी है लेकिन बेवजह उनकी फोटो ना भेजे हां अगर किसी देवी-देवता से सम्बन्धीत कहानी आप डाल रहे है तो बेशक एक सीमा तक आप उनकी फोटो डाल सकते है ।\\n6.- Group में अपनी व किसी अन्य आम व्यक्ति की पर्सनल फोटो भी ना साझा करे ।\\n(विशेष स्थिति या ज्यादा ही जरुरी तो डाल सकते हैं कोई गुनाह नहीं)\\n7.- कोशिश करे ऐसी पोस्ट ना करे जिससे किसी व्यक्ति विशेष या समुदाय को ठेस पहुंचती हो..\\n8.- Others' Group link or page/group shared posts इत्यादि ग्रुप मे ना डाले ।\\n(💓सभी ग्रुप व्यवस्थापक इस विषय पर ध्यान देवे, ऐसी पोस्टों को इस ग्रुप मे स्वीकृति ना देवे, ताकि अपना समुह साफ सुथरा बना रहे 👍)\\n9.- Admin team का सहयोग करें, पोस्ट या किसी भी प्रकार के कमेंट जो अनुचित हो उनकी \"रिपोर्ट टू एडमीन\" करे।\\n10.- ग्रुप के नियम सभी पर समान लागू होते है जिनका आप-हम सभी को पालन करना होता हैं फिर चाहे आप हम ग्रुप के संचालक(Admin) हो या ग्रुप के सदस्य....\\nअश्लील पोस्ट या अश्लील कम्मेन्ट करने वाले को ग्रुप से बाहर या ब्लोक कर दिया जायेगा और उचित कारवाई की जायेगी ।\\nग्रुप के किसी भी सदस्य को अगर कोई अश्लील या गंदी या अनुचित पोस्ट या टिप्पणी दिखाई दे तो उनकी रिपोर्ट टु एडमीन कर दें ।\\nइस ग्रुप में कम से कम 20 से 50 मित्र सदस्य जोड़िये..\\nअगर आप की पोस्ट इस ग्रुप में स्वत् एपुरवल नहीं हो रही तो उसे स्वत् एपुरवल करवाईये ।\\n📌ग्रुप से सम्बन्धीत किसी भी प्रकार की बातचीत आप ग्रुप पर पिन की गयी पोस्ट या घोषणा के रुप मे जोड़ी गयी किसी भी पोस्ट पर कर सकते है । किसी भी प्रकार की शिकायत / सुझाव के लिए ग्रुप admin से बात करें..\\nअच्छी सोच ★ प्रेरणादायक सुविचार 🌟\\n👉ग्रुप लिंक-- https://www.facebook.com/groups/481283325377304/\\n💖💖💖Thanks\\n💖Kríshñá💖💖    1\n",
      "💠अहमदाबाद मेट्रो लाइन की सेवाएं शुरू\\n💠संक्रमण को देखते हुए यात्रियों को उचित दूरी रखना आवश्यक \\n@DDNewsHindi #MetroBackOnTrack #AhmedabadMetro https://t.co/JCVEA86vGB                                                                                                                                                                                                                                                                                                                                                                                                                                                                                                                                                                                                                                                                                                                                                                                                                                                                                                                                                                                                                                                                                                                                                                                                                                                                                                                                                                                                                                                                                                                                                                                                                                                                                                                                                                                                                                                                                                                                                                                                                                                                                                                                                                                                                                                                                     1\n",
      "🔷ऑक्सीजन जाँच अभियान🔷\\nमाननीय मुख्यमंत्री श्री @ArvindKejriwal के आह्वान पर \"आप\" कार्यकर्ताओं द्वारा देशव्यापि अभियान चलाया जा रहा है और उन सभी को ऑक्सीमित्र नाम से संबोधित किया जा रहा है।\\n\\nसिहोरा विधानसभा में उपाध्यक्ष संतोष वर्मा https://t.co/tea6nxnhc2                                                                                                                                                                                                                                                                                                                                                                                                                                                                                                                                                                                                                                                                                                                                                                                                                                                                                                                                                                                                                                                                                                                                                                                                                                                                                                                                                                                                                                                                                                                                                                                                                                                                                                                                                                                                                                                                                                                                                                                                                                                                                                                                                                                           1\n",
      "😂👇\\n#मियां_खलीफा_से_कम_नहीं_है\\nलिब्रलों की नयी प्रिंसेस जिसे चाटने कू रेडी थे कल सब के सब ........\\n\\nजो साऊदी की सो कोल्ड राजकुमारी ट्विटर पर ट्वीट पर ट्वीट पेली जा रही थी और यहाँ के शान्तिदूत भी खुश हो रहे थे कि अब तो बस किसी भी दिन सऊदी भारत पर बम मार देगा, वो अभी दो- तीन दिन पहले लंदन के एक होटल में 7 लोगों के साथ मूँह काला करते हुए दबोच ली गयी, इस खबर को दबाने के लिए तेल के कुओं में रहने वाले मेंढकों ने अखबार को 50 मिलियन डॉलर (करीब 3 अरब रु.) देने की पेशकश भी की कि इस खबर को दबा दिया जाए, मगर अखबार ने ये कहते हुए मना कर दिया कि हम #NDTV नहीं हैं....                                                                                                                                                                                                                                                                                                                                                                                                                                                                                                                                                                                                                                                                                                                                                                                                                                                                                                                                                                                                                                                                                                                                                                                                                                                                                                                                                                                                                                                                                                                                                                                                                                                                                                                                                                                                                                                                          1\n",
      "😎\\nचूहे भी साले इंजीनियर होते हैं!सालों को सब पता ही होता है ! कौन-सी तार काटने से मशीन बंद होगी!\\n😉😉😉😂😂😂                                                                                                                                                                                                                                                                                                                                                                                                                                                                                                                                                                                                                                                                                                                                                                                                                                                                                                                                                                                                                                                                                                                                                                                                                                                                                                                                                                                                                                                                                                                                                                                                                                                                                                                                                                                                                                                                                                                                                                                                                                                                                                                                                                                                                                                                                                                                                   1\n",
      "Length: 5718, dtype: int64\n"
     ]
    }
   ],
   "source": [
    "dups_shape = data.pivot_table(index=['Post'], aggfunc='size')\n",
    "print (dups_shape)"
   ]
  },
  {
   "cell_type": "code",
   "execution_count": 65,
   "metadata": {
    "colab": {
     "base_uri": "https://localhost:8080/",
     "height": 118
    },
    "id": "ZLxcrMXpWk8Y",
    "outputId": "d0dbcfee-d3e3-4ace-b775-b6cabaf6cd50"
   },
   "outputs": [
    {
     "name": "stdout",
     "output_type": "stream",
     "text": [
      "             count percentage\n",
      "hate           792     12.58%\n",
      "offensive      742     11.79%\n",
      "non-hostile   3050     48.47%\n",
      "defamation     564     8.963%\n",
      "fake          1144     18.18%\n"
     ]
    }
   ],
   "source": [
    "d={}\n",
    "total=0\n",
    "for i in data['Labels Set']:\n",
    "    ar=list(i.split(','))\n",
    "    for j in ar:\n",
    "        try:\n",
    "            d[j]+=1\n",
    "        except:\n",
    "            d[j]=1\n",
    "        total+=1\n",
    "\n",
    "\n",
    "percentageHolder={}\n",
    "for i in d:\n",
    "    percentageHolder[i]=str((d[i]/total)*100)[:5]+'%'\n",
    "\n",
    "\n",
    "\n",
    "table={'count':d,'percentage':percentageHolder}\n",
    "print(pd.DataFrame(table))"
   ]
  },
  {
   "cell_type": "code",
   "execution_count": 66,
   "metadata": {
    "colab": {
     "base_uri": "https://localhost:8080/",
     "height": 357
    },
    "id": "sbCPQocVU1pZ",
    "outputId": "ac082a34-8536-4ce8-917f-6a57d802bcb0"
   },
   "outputs": [
    {
     "data": {
      "image/png": "[encoded data removed]",
      "text/plain": [
       "<Figure size 432x432 with 1 Axes>"
      ]
     },
     "metadata": {},
     "output_type": "display_data"
    }
   ],
   "source": [
    "#pie chart creation\n",
    "\n",
    "labels = list(d.keys())\n",
    "values = list(d.values())\n",
    "plt.figure(figsize=(6,6))\n",
    "plt.pie(values, labels=labels,autopct=\"%1.2f%%\")\n",
    "plt.show()"
   ]
  },
  {
   "cell_type": "code",
   "execution_count": 67,
   "metadata": {
    "colab": {
     "base_uri": "https://localhost:8080/",
     "height": 547
    },
    "id": "eqzu6pkKpD4H",
    "outputId": "684775c9-1446-495a-aa63-56284337b084"
   },
   "outputs": [
    {
     "data": {
      "text/plain": [
       "([0, 1, 2, 3, 4],\n",
       " [Text(0, 0, ''),\n",
       "  Text(0, 0, ''),\n",
       "  Text(0, 0, ''),\n",
       "  Text(0, 0, ''),\n",
       "  Text(0, 0, '')])"
      ]
     },
     "execution_count": 67,
     "metadata": {},
     "output_type": "execute_result"
    },
    {
     "data": {
      "image/png": "[encoded data removed]",
      "text/plain": [
       "<Figure size 432x288 with 1 Axes>"
      ]
     },
     "metadata": {},
     "output_type": "display_data"
    }
   ],
   "source": [
    "plt.bar(d.keys(), d.values(), 0.6, color=['g','g','r','g','g'])\n",
    "plt.xlabel(\"Labels\", labelpad=14)\n",
    "plt.ylabel(\"Frequency\", labelpad=14)\n",
    "sb.set(font_scale=1.4)\n",
    "plt.xticks(fontsize=14, rotation=90)"
   ]
  },
  {
   "cell_type": "markdown",
   "metadata": {
    "id": "SQ5Y6zW_U1pb"
   },
   "source": [
    "Analysis:\n",
    "\n",
    "1) We observe that non-hostile posts has the highest proportion."
   ]
  }
 ],
 "metadata": {
  "colab": {
   "collapsed_sections": [],
   "name": "D(18).ipynb",
   "provenance": []
  },
  "kernelspec": {
   "display_name": "Python 3",
   "language": "python",
   "name": "python3"
  },
  "language_info": {
   "codemirror_mode": {
    "name": "ipython",
    "version": 3
   },
   "file_extension": ".py",
   "mimetype": "text/x-python",
   "name": "python",
   "nbconvert_exporter": "python",
   "pygments_lexer": "ipython3",
   "version": "3.8.2"
  }
 },
 "nbformat": 4,
 "nbformat_minor": 1
}
