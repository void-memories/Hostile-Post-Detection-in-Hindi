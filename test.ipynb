{
 "cells": [
  {
   "cell_type": "markdown",
   "metadata": {},
   "source": [
    "# Overview of Hostile Post Detection in Hindi\n",
    "- **Goals:** To predict the label set of the set of post collected from Twitter and facebook.\n",
    "\n",
    "- **Traning data:** post with their label.\n",
    "\n",
    "- **Tesing data:** set of posts.\n",
    "- **Types of post:** \n",
    "1. *Fake News:* A claim or information that is verified to be not true.\n",
    "2. *Hate Speech:* A post targeting a specific group of people based on their ethnicity, religious beliefs, geographical belonging, race, etc., with malicious intentions of spreading hate or encouraging violence.\n",
    "3. *Offensive:* A post containing profanity, impolite, rude, or vulgar language to insult a targeted individual or group.\n",
    "4. *Defamation:* A mis-information regarding an individual or group.\n",
    "5. *Non-hostile:* A post without any hostility."
   ]
  },
  {
   "cell_type": "markdown",
   "metadata": {},
   "source": [
    "## Exploring dataset"
   ]
  },
  {
   "cell_type": "code",
   "execution_count": 1,
   "metadata": {},
   "outputs": [],
   "source": [
    "# importing libraries\n",
    "import pandas as pd\n",
    "import numpy as np\n",
    "import matplotlib.pyplot as plt"
   ]
  },
  {
   "cell_type": "code",
   "execution_count": 2,
   "metadata": {},
   "outputs": [],
   "source": [
    "#load data\n",
    "\n",
    "data = pd.read_csv(\"consumption.csv\")"
   ]
  },
  {
   "cell_type": "code",
   "execution_count": 3,
   "metadata": {},
   "outputs": [
    {
     "name": "stdout",
     "output_type": "stream",
     "text": [
      "We have 3248 posts in the training set.\n"
     ]
    }
   ],
   "source": [
    "# How many posts do we have in training set\n",
    "\n",
    "print(\"We have\", data.shape[0], \"posts in the training set.\")"
   ]
  },
  {
   "cell_type": "code",
   "execution_count": 4,
   "metadata": {},
   "outputs": [
    {
     "data": {
      "text/html": [
       "<div>\n",
       "<style scoped>\n",
       "    .dataframe tbody tr th:only-of-type {\n",
       "        vertical-align: middle;\n",
       "    }\n",
       "\n",
       "    .dataframe tbody tr th {\n",
       "        vertical-align: top;\n",
       "    }\n",
       "\n",
       "    .dataframe thead th {\n",
       "        text-align: right;\n",
       "    }\n",
       "</style>\n",
       "<table border=\"1\" class=\"dataframe\">\n",
       "  <thead>\n",
       "    <tr style=\"text-align: right;\">\n",
       "      <th></th>\n",
       "      <th>meter_id</th>\n",
       "      <th>2017-01-01 00:00:00</th>\n",
       "      <th>2017-01-01 00:30:00</th>\n",
       "      <th>2017-01-01 01:00:00</th>\n",
       "      <th>2017-01-01 01:30:00</th>\n",
       "      <th>2017-01-01 02:00:00</th>\n",
       "      <th>2017-01-01 02:30:00</th>\n",
       "      <th>2017-01-01 03:00:00</th>\n",
       "      <th>2017-01-01 03:30:00</th>\n",
       "      <th>2017-01-01 04:00:00</th>\n",
       "      <th>...</th>\n",
       "      <th>2017-12-31 19:00:00</th>\n",
       "      <th>2017-12-31 19:30:00</th>\n",
       "      <th>2017-12-31 20:00:00</th>\n",
       "      <th>2017-12-31 20:30:00</th>\n",
       "      <th>2017-12-31 21:00:00</th>\n",
       "      <th>2017-12-31 21:30:00</th>\n",
       "      <th>2017-12-31 22:00:00</th>\n",
       "      <th>2017-12-31 22:30:00</th>\n",
       "      <th>2017-12-31 23:00:00</th>\n",
       "      <th>2017-12-31 23:30:00</th>\n",
       "    </tr>\n",
       "  </thead>\n",
       "  <tbody>\n",
       "    <tr>\n",
       "      <th>0</th>\n",
       "      <td>0xa62b9f23553ff183f61e2bf943aab3d5983d02d7</td>\n",
       "      <td>NaN</td>\n",
       "      <td>NaN</td>\n",
       "      <td>NaN</td>\n",
       "      <td>NaN</td>\n",
       "      <td>NaN</td>\n",
       "      <td>NaN</td>\n",
       "      <td>NaN</td>\n",
       "      <td>NaN</td>\n",
       "      <td>NaN</td>\n",
       "      <td>...</td>\n",
       "      <td>0.052</td>\n",
       "      <td>0.091</td>\n",
       "      <td>0.083</td>\n",
       "      <td>0.082</td>\n",
       "      <td>0.090</td>\n",
       "      <td>0.074</td>\n",
       "      <td>0.092</td>\n",
       "      <td>0.076</td>\n",
       "      <td>0.055</td>\n",
       "      <td>0.036</td>\n",
       "    </tr>\n",
       "    <tr>\n",
       "      <th>1</th>\n",
       "      <td>0x459c834d1f6cfb5b734b82aa9f5410fa97fb70da</td>\n",
       "      <td>NaN</td>\n",
       "      <td>NaN</td>\n",
       "      <td>NaN</td>\n",
       "      <td>NaN</td>\n",
       "      <td>NaN</td>\n",
       "      <td>NaN</td>\n",
       "      <td>NaN</td>\n",
       "      <td>NaN</td>\n",
       "      <td>NaN</td>\n",
       "      <td>...</td>\n",
       "      <td>0.402</td>\n",
       "      <td>0.639</td>\n",
       "      <td>0.537</td>\n",
       "      <td>0.834</td>\n",
       "      <td>0.868</td>\n",
       "      <td>0.394</td>\n",
       "      <td>0.073</td>\n",
       "      <td>0.077</td>\n",
       "      <td>0.049</td>\n",
       "      <td>0.048</td>\n",
       "    </tr>\n",
       "    <tr>\n",
       "      <th>2</th>\n",
       "      <td>0x4a1ed36825360a058cec2bdd409fc2459e1ce54f</td>\n",
       "      <td>NaN</td>\n",
       "      <td>NaN</td>\n",
       "      <td>NaN</td>\n",
       "      <td>NaN</td>\n",
       "      <td>NaN</td>\n",
       "      <td>NaN</td>\n",
       "      <td>NaN</td>\n",
       "      <td>NaN</td>\n",
       "      <td>NaN</td>\n",
       "      <td>...</td>\n",
       "      <td>0.110</td>\n",
       "      <td>0.123</td>\n",
       "      <td>0.012</td>\n",
       "      <td>0.034</td>\n",
       "      <td>0.006</td>\n",
       "      <td>0.027</td>\n",
       "      <td>0.001</td>\n",
       "      <td>0.044</td>\n",
       "      <td>0.004</td>\n",
       "      <td>0.035</td>\n",
       "    </tr>\n",
       "    <tr>\n",
       "      <th>3</th>\n",
       "      <td>0x5b76d3c0e0aefc6e0a8d1d031f96388a23263407</td>\n",
       "      <td>NaN</td>\n",
       "      <td>NaN</td>\n",
       "      <td>NaN</td>\n",
       "      <td>NaN</td>\n",
       "      <td>NaN</td>\n",
       "      <td>NaN</td>\n",
       "      <td>NaN</td>\n",
       "      <td>NaN</td>\n",
       "      <td>NaN</td>\n",
       "      <td>...</td>\n",
       "      <td>0.118</td>\n",
       "      <td>0.096</td>\n",
       "      <td>0.135</td>\n",
       "      <td>0.041</td>\n",
       "      <td>0.018</td>\n",
       "      <td>0.057</td>\n",
       "      <td>0.018</td>\n",
       "      <td>0.038</td>\n",
       "      <td>0.040</td>\n",
       "      <td>0.014</td>\n",
       "    </tr>\n",
       "    <tr>\n",
       "      <th>4</th>\n",
       "      <td>0x943ebe39ef2be6ef807c42c5a647e27112ca5b0f</td>\n",
       "      <td>NaN</td>\n",
       "      <td>NaN</td>\n",
       "      <td>NaN</td>\n",
       "      <td>NaN</td>\n",
       "      <td>NaN</td>\n",
       "      <td>NaN</td>\n",
       "      <td>NaN</td>\n",
       "      <td>NaN</td>\n",
       "      <td>NaN</td>\n",
       "      <td>...</td>\n",
       "      <td>0.022</td>\n",
       "      <td>0.010</td>\n",
       "      <td>0.036</td>\n",
       "      <td>0.006</td>\n",
       "      <td>0.024</td>\n",
       "      <td>0.014</td>\n",
       "      <td>0.028</td>\n",
       "      <td>0.006</td>\n",
       "      <td>0.024</td>\n",
       "      <td>0.025</td>\n",
       "    </tr>\n",
       "  </tbody>\n",
       "</table>\n",
       "<p>5 rows × 17521 columns</p>\n",
       "</div>"
      ],
      "text/plain": [
       "                                     meter_id  2017-01-01 00:00:00  \\\n",
       "0  0xa62b9f23553ff183f61e2bf943aab3d5983d02d7                  NaN   \n",
       "1  0x459c834d1f6cfb5b734b82aa9f5410fa97fb70da                  NaN   \n",
       "2  0x4a1ed36825360a058cec2bdd409fc2459e1ce54f                  NaN   \n",
       "3  0x5b76d3c0e0aefc6e0a8d1d031f96388a23263407                  NaN   \n",
       "4  0x943ebe39ef2be6ef807c42c5a647e27112ca5b0f                  NaN   \n",
       "\n",
       "   2017-01-01 00:30:00  2017-01-01 01:00:00  2017-01-01 01:30:00  \\\n",
       "0                  NaN                  NaN                  NaN   \n",
       "1                  NaN                  NaN                  NaN   \n",
       "2                  NaN                  NaN                  NaN   \n",
       "3                  NaN                  NaN                  NaN   \n",
       "4                  NaN                  NaN                  NaN   \n",
       "\n",
       "   2017-01-01 02:00:00  2017-01-01 02:30:00  2017-01-01 03:00:00  \\\n",
       "0                  NaN                  NaN                  NaN   \n",
       "1                  NaN                  NaN                  NaN   \n",
       "2                  NaN                  NaN                  NaN   \n",
       "3                  NaN                  NaN                  NaN   \n",
       "4                  NaN                  NaN                  NaN   \n",
       "\n",
       "   2017-01-01 03:30:00  2017-01-01 04:00:00  ...  2017-12-31 19:00:00  \\\n",
       "0                  NaN                  NaN  ...                0.052   \n",
       "1                  NaN                  NaN  ...                0.402   \n",
       "2                  NaN                  NaN  ...                0.110   \n",
       "3                  NaN                  NaN  ...                0.118   \n",
       "4                  NaN                  NaN  ...                0.022   \n",
       "\n",
       "   2017-12-31 19:30:00  2017-12-31 20:00:00  2017-12-31 20:30:00  \\\n",
       "0                0.091                0.083                0.082   \n",
       "1                0.639                0.537                0.834   \n",
       "2                0.123                0.012                0.034   \n",
       "3                0.096                0.135                0.041   \n",
       "4                0.010                0.036                0.006   \n",
       "\n",
       "   2017-12-31 21:00:00  2017-12-31 21:30:00  2017-12-31 22:00:00  \\\n",
       "0                0.090                0.074                0.092   \n",
       "1                0.868                0.394                0.073   \n",
       "2                0.006                0.027                0.001   \n",
       "3                0.018                0.057                0.018   \n",
       "4                0.024                0.014                0.028   \n",
       "\n",
       "   2017-12-31 22:30:00  2017-12-31 23:00:00  2017-12-31 23:30:00  \n",
       "0                0.076                0.055                0.036  \n",
       "1                0.077                0.049                0.048  \n",
       "2                0.044                0.004                0.035  \n",
       "3                0.038                0.040                0.014  \n",
       "4                0.006                0.024                0.025  \n",
       "\n",
       "[5 rows x 17521 columns]"
      ]
     },
     "execution_count": 4,
     "metadata": {},
     "output_type": "execute_result"
    }
   ],
   "source": [
    "data.head()"
   ]
  },
  {
   "cell_type": "code",
   "execution_count": 9,
   "metadata": {},
   "outputs": [
    {
     "data": {
      "image/png": "[encoded data removed]",
      "text/plain": [
       "<Figure size 432x288 with 1 Axes>"
      ]
     },
     "metadata": {
      "needs_background": "light"
     },
     "output_type": "display_data"
    }
   ],
   "source": [
    "allMean=[]\n",
    "indexes=[]\n",
    "for i in data.columns:\n",
    "    if i!='meter_id':\n",
    "        allMean.append(np.mean(data[i]))\n",
    "        indexes.append(i)\n",
    "        \n",
    "df = pd.DataFrame({\n",
    "   'mean': allMean\n",
    "   }, index=indexes)\n",
    "lines = df.plot.line(rot=90)\n",
    "\n"
   ]
  },
  {
   "cell_type": "code",
   "execution_count": 11,
   "metadata": {},
   "outputs": [
    {
     "data": {
      "image/png": "[encoded data removed]",
      "text/plain": [
       "<Figure size 432x288 with 1 Axes>"
      ]
     },
     "metadata": {
      "needs_background": "light"
     },
     "output_type": "display_data"
    }
   ],
   "source": [
    "plt.bar(indexes, allMean, 0.6, color=['b'])\n",
    "plt.xlabel(\"TimeStamp\", labelpad=14)\n",
    "plt.ylabel(\"Mean\", labelpad=14)\n",
    "plt.xticks(fontsize=14, rotation=90)\n",
    "plt.show()"
   ]
  },
  {
   "cell_type": "code",
   "execution_count": 8,
   "metadata": {},
   "outputs": [],
   "source": [
    "#removing extra columns\n",
    "\n",
    "data=data.drop(data.columns[[0,3,4]], axis=1)"
   ]
  },
  {
   "cell_type": "code",
   "execution_count": 9,
   "metadata": {},
   "outputs": [
    {
     "name": "stdout",
     "output_type": "stream",
     "text": [
      "<class 'pandas.core.frame.DataFrame'>\n",
      "RangeIndex: 5728 entries, 0 to 5727\n",
      "Data columns (total 2 columns):\n",
      " #   Column      Non-Null Count  Dtype \n",
      "---  ------      --------------  ----- \n",
      " 0   Post        5728 non-null   object\n",
      " 1   Labels Set  5728 non-null   object\n",
      "dtypes: object(2)\n",
      "memory usage: 89.6+ KB\n"
     ]
    }
   ],
   "source": [
    "data.info()"
   ]
  },
  {
   "cell_type": "code",
   "execution_count": 10,
   "metadata": {},
   "outputs": [
    {
     "data": {
      "text/html": [
       "<div>\n",
       "<style scoped>\n",
       "    .dataframe tbody tr th:only-of-type {\n",
       "        vertical-align: middle;\n",
       "    }\n",
       "\n",
       "    .dataframe tbody tr th {\n",
       "        vertical-align: top;\n",
       "    }\n",
       "\n",
       "    .dataframe thead th {\n",
       "        text-align: right;\n",
       "    }\n",
       "</style>\n",
       "<table border=\"1\" class=\"dataframe\">\n",
       "  <thead>\n",
       "    <tr style=\"text-align: right;\">\n",
       "      <th></th>\n",
       "      <th>Post</th>\n",
       "      <th>Labels Set</th>\n",
       "    </tr>\n",
       "  </thead>\n",
       "  <tbody>\n",
       "    <tr>\n",
       "      <th>0</th>\n",
       "      <td>मेरे देश के हिन्दु बहुत निराले है। कुछ तो पक्क...</td>\n",
       "      <td>hate,offensive</td>\n",
       "    </tr>\n",
       "    <tr>\n",
       "      <th>1</th>\n",
       "      <td>सरकार हमेशा से किसानों की कमाई को बढ़ाने के लि...</td>\n",
       "      <td>non-hostile</td>\n",
       "    </tr>\n",
       "    <tr>\n",
       "      <th>2</th>\n",
       "      <td>सुशांत ने जो बिजनेस डील 9 जून को की थी, वो डील...</td>\n",
       "      <td>non-hostile</td>\n",
       "    </tr>\n",
       "    <tr>\n",
       "      <th>3</th>\n",
       "      <td>@prabhav218 साले जेएनयू छाप कमिने लोग हिन्दुओं...</td>\n",
       "      <td>defamation,offensive</td>\n",
       "    </tr>\n",
       "    <tr>\n",
       "      <th>4</th>\n",
       "      <td>#unlock4guidelines - अनलॉक-4 के लिए गाइडलाइन्स...</td>\n",
       "      <td>non-hostile</td>\n",
       "    </tr>\n",
       "  </tbody>\n",
       "</table>\n",
       "</div>"
      ],
      "text/plain": [
       "                                                Post            Labels Set\n",
       "0  मेरे देश के हिन्दु बहुत निराले है। कुछ तो पक्क...        hate,offensive\n",
       "1  सरकार हमेशा से किसानों की कमाई को बढ़ाने के लि...           non-hostile\n",
       "2  सुशांत ने जो बिजनेस डील 9 जून को की थी, वो डील...           non-hostile\n",
       "3  @prabhav218 साले जेएनयू छाप कमिने लोग हिन्दुओं...  defamation,offensive\n",
       "4  #unlock4guidelines - अनलॉक-4 के लिए गाइडलाइन्स...           non-hostile"
      ]
     },
     "execution_count": 10,
     "metadata": {},
     "output_type": "execute_result"
    }
   ],
   "source": [
    "data.head()"
   ]
  },
  {
   "cell_type": "code",
   "execution_count": 11,
   "metadata": {},
   "outputs": [
    {
     "data": {
      "text/html": [
       "<div>\n",
       "<style scoped>\n",
       "    .dataframe tbody tr th:only-of-type {\n",
       "        vertical-align: middle;\n",
       "    }\n",
       "\n",
       "    .dataframe tbody tr th {\n",
       "        vertical-align: top;\n",
       "    }\n",
       "\n",
       "    .dataframe thead th {\n",
       "        text-align: right;\n",
       "    }\n",
       "</style>\n",
       "<table border=\"1\" class=\"dataframe\">\n",
       "  <thead>\n",
       "    <tr style=\"text-align: right;\">\n",
       "      <th></th>\n",
       "      <th>Post</th>\n",
       "      <th>Labels Set</th>\n",
       "    </tr>\n",
       "  </thead>\n",
       "  <tbody>\n",
       "    <tr>\n",
       "      <th>5723</th>\n",
       "      <td>उदितराज जी हिम्मत  जुटा कर उस नेता के लिए कुछ ...</td>\n",
       "      <td>hate</td>\n",
       "    </tr>\n",
       "    <tr>\n",
       "      <th>5724</th>\n",
       "      <td>उप्र: पीएम रिपोर्ट में खुलासा: हार्टअटैक से हु...</td>\n",
       "      <td>non-hostile</td>\n",
       "    </tr>\n",
       "    <tr>\n",
       "      <th>5725</th>\n",
       "      <td>नौकरी गंवा चुके दोस्त की मदद: नगद के बजाए गिफ्...</td>\n",
       "      <td>non-hostile</td>\n",
       "    </tr>\n",
       "    <tr>\n",
       "      <th>5726</th>\n",
       "      <td>बंगाल में हिन्दू मरे हैं इसलिए मुझे कोई फर्क न...</td>\n",
       "      <td>fake</td>\n",
       "    </tr>\n",
       "    <tr>\n",
       "      <th>5727</th>\n",
       "      <td>रक्षा मंत्री @rajnathsingh ने पूर्व राष्ट्रपति...</td>\n",
       "      <td>non-hostile</td>\n",
       "    </tr>\n",
       "  </tbody>\n",
       "</table>\n",
       "</div>"
      ],
      "text/plain": [
       "                                                   Post   Labels Set\n",
       "5723  उदितराज जी हिम्मत  जुटा कर उस नेता के लिए कुछ ...         hate\n",
       "5724  उप्र: पीएम रिपोर्ट में खुलासा: हार्टअटैक से हु...  non-hostile\n",
       "5725  नौकरी गंवा चुके दोस्त की मदद: नगद के बजाए गिफ्...  non-hostile\n",
       "5726  बंगाल में हिन्दू मरे हैं इसलिए मुझे कोई फर्क न...         fake\n",
       "5727  रक्षा मंत्री @rajnathsingh ने पूर्व राष्ट्रपति...  non-hostile"
      ]
     },
     "execution_count": 11,
     "metadata": {},
     "output_type": "execute_result"
    }
   ],
   "source": [
    "data.tail()"
   ]
  },
  {
   "cell_type": "code",
   "execution_count": 12,
   "metadata": {},
   "outputs": [
    {
     "data": {
      "text/plain": [
       "Post          0\n",
       "Labels Set    0\n",
       "dtype: int64"
      ]
     },
     "execution_count": 12,
     "metadata": {},
     "output_type": "execute_result"
    }
   ],
   "source": [
    "#Calculating the null values in each columns\n",
    "\n",
    "data.isnull().sum()"
   ]
  },
  {
   "cell_type": "code",
   "execution_count": 13,
   "metadata": {},
   "outputs": [
    {
     "data": {
      "image/png": "[encoded data removed]",
      "text/plain": [
       "<Figure size 432x432 with 1 Axes>"
      ]
     },
     "metadata": {},
     "output_type": "display_data"
    }
   ],
   "source": [
    "#pie chart creation\n",
    "\n",
    "d={}\n",
    "for i in data['Labels Set']:\n",
    "    ar=list(i.split(','))\n",
    "    for j in ar:\n",
    "        try:\n",
    "            d[j]+=1\n",
    "        except:\n",
    "            d[j]=1\n",
    "\n",
    "labels = list(d.keys())\n",
    "values = list(d.values())\n",
    "plt.figure(figsize=(6,6))\n",
    "plt.pie(values, labels=labels,autopct=\"%1.2f%%\")\n",
    "plt.show()"
   ]
  },
  {
   "cell_type": "markdown",
   "metadata": {},
   "source": [
    "Analysis:\n",
    "\n",
    "1) We observe that non-hostile posts has the highest proportion."
   ]
  }
 ],
 "metadata": {
  "kernelspec": {
   "display_name": "Python 3",
   "language": "python",
   "name": "python3"
  },
  "language_info": {
   "codemirror_mode": {
    "name": "ipython",
    "version": 3
   },
   "file_extension": ".py",
   "mimetype": "text/x-python",
   "name": "python",
   "nbconvert_exporter": "python",
   "pygments_lexer": "ipython3",
   "version": "3.8.2"
  }
 },
 "nbformat": 4,
 "nbformat_minor": 4
}
