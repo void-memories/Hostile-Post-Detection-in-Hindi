{
 "cells": [
  {
   "cell_type": "markdown",
   "metadata": {
    "id": "8f-WoJkTU1o5"
   },
   "source": [
    "# Overview of Hostile Post Detection in Hindi\n",
    "- **Goals:** To predict the label set of the set of post collected from Twitter and facebook.\n",
    "\n",
    "- **Traning data:** post with their label.\n",
    "\n",
    "- **Tesing data:** set of posts.\n",
    "- **Types of post:** \n",
    "1. *Fake News:* A claim or information that is verified to be not true.\n",
    "2. *Hate Speech:* A post targeting a specific group of people based on their ethnicity, religious beliefs, geographical belonging, race, etc., with malicious intentions of spreading hate or encouraging violence.\n",
    "3. *Offensive:* A post containing profanity, impolite, rude, or vulgar language to insult a targeted individual or group.\n",
    "4. *Defamation:* A mis-information regarding an individual or group.\n",
    "5. *Non-hostile:* A post without any hostility.\n",
    "\n",
    "\n",
    "\n",
    "- **dataset.csv:** contains trainng data."
   ]
  },
  {
   "cell_type": "markdown",
   "metadata": {
    "id": "FIDdsC6QU1o9"
   },
   "source": [
    "## Exploring dataset"
   ]
  },
  {
   "cell_type": "code",
   "execution_count": 1,
   "metadata": {
    "id": "y7HpR5wZU1o-"
   },
   "outputs": [],
   "source": [
    "# importing libraries\n",
    "import pandas as pd     \n",
    "import numpy as np\n",
    "import seaborn as sb\n",
    "import matplotlib.pyplot as plt\n",
    "from googletrans import Translator\n",
    "from translation import google"
   ]
  },
  {
   "cell_type": "markdown",
   "metadata": {},
   "source": [
    "#### load data"
   ]
  },
  {
   "cell_type": "code",
   "execution_count": 2,
   "metadata": {
    "id": "rUt4QAhXU1pA"
   },
   "outputs": [],
   "source": [
    "data = pd.read_csv(\"dataset.csv\")"
   ]
  },
  {
   "cell_type": "markdown",
   "metadata": {},
   "source": [
    "#### How many posts do we have in training set"
   ]
  },
  {
   "cell_type": "code",
   "execution_count": 4,
   "metadata": {
    "colab": {
     "base_uri": "https://localhost:8080/",
     "height": 34
    },
    "id": "45rtWWwZU1pD",
    "outputId": "bc6df1e9-9a1b-417d-995e-e5df931cc021"
   },
   "outputs": [
    {
     "name": "stdout",
     "output_type": "stream",
     "text": [
      "We have 5728 posts in the training set.\n"
     ]
    }
   ],
   "source": [
    "print(\"We have\", data.shape[0], \"posts in the training set.\")"
   ]
  },
  {
   "cell_type": "markdown",
   "metadata": {},
   "source": [
    "#### First and last five posts of dataset"
   ]
  },
  {
   "cell_type": "code",
   "execution_count": 5,
   "metadata": {
    "colab": {
     "base_uri": "https://localhost:8080/",
     "height": 195
    },
    "id": "yorlo8vIU1pH",
    "outputId": "d99a370c-a07c-4c61-f6c5-e85e7e65d841"
   },
   "outputs": [
    {
     "data": {
      "text/html": [
       "<div>\n",
       "<style scoped>\n",
       "    .dataframe tbody tr th:only-of-type {\n",
       "        vertical-align: middle;\n",
       "    }\n",
       "\n",
       "    .dataframe tbody tr th {\n",
       "        vertical-align: top;\n",
       "    }\n",
       "\n",
       "    .dataframe thead th {\n",
       "        text-align: right;\n",
       "    }\n",
       "</style>\n",
       "<table border=\"1\" class=\"dataframe\">\n",
       "  <thead>\n",
       "    <tr style=\"text-align: right;\">\n",
       "      <th></th>\n",
       "      <th>Unique ID</th>\n",
       "      <th>Post</th>\n",
       "      <th>Labels Set</th>\n",
       "      <th>Unnamed: 3</th>\n",
       "      <th>Unnamed: 4</th>\n",
       "    </tr>\n",
       "  </thead>\n",
       "  <tbody>\n",
       "    <tr>\n",
       "      <th>0</th>\n",
       "      <td>1</td>\n",
       "      <td>मेरे देश के हिन्दु बहुत निराले है। कुछ तो पक्क...</td>\n",
       "      <td>hate,offensive</td>\n",
       "      <td>NaN</td>\n",
       "      <td>NaN</td>\n",
       "    </tr>\n",
       "    <tr>\n",
       "      <th>1</th>\n",
       "      <td>2</td>\n",
       "      <td>सरकार हमेशा से किसानों की कमाई को बढ़ाने के लि...</td>\n",
       "      <td>non-hostile</td>\n",
       "      <td>NaN</td>\n",
       "      <td>NaN</td>\n",
       "    </tr>\n",
       "    <tr>\n",
       "      <th>2</th>\n",
       "      <td>3</td>\n",
       "      <td>सुशांत ने जो बिजनेस डील 9 जून को की थी, वो डील...</td>\n",
       "      <td>non-hostile</td>\n",
       "      <td>NaN</td>\n",
       "      <td>NaN</td>\n",
       "    </tr>\n",
       "    <tr>\n",
       "      <th>3</th>\n",
       "      <td>4</td>\n",
       "      <td>@prabhav218 साले जेएनयू छाप कमिने लोग हिन्दुओं...</td>\n",
       "      <td>defamation,offensive</td>\n",
       "      <td>NaN</td>\n",
       "      <td>NaN</td>\n",
       "    </tr>\n",
       "    <tr>\n",
       "      <th>4</th>\n",
       "      <td>5</td>\n",
       "      <td>#unlock4guidelines - अनलॉक-4 के लिए गाइडलाइन्स...</td>\n",
       "      <td>non-hostile</td>\n",
       "      <td>NaN</td>\n",
       "      <td>NaN</td>\n",
       "    </tr>\n",
       "  </tbody>\n",
       "</table>\n",
       "</div>"
      ],
      "text/plain": [
       "   Unique ID                                               Post  \\\n",
       "0          1  मेरे देश के हिन्दु बहुत निराले है। कुछ तो पक्क...   \n",
       "1          2  सरकार हमेशा से किसानों की कमाई को बढ़ाने के लि...   \n",
       "2          3  सुशांत ने जो बिजनेस डील 9 जून को की थी, वो डील...   \n",
       "3          4  @prabhav218 साले जेएनयू छाप कमिने लोग हिन्दुओं...   \n",
       "4          5  #unlock4guidelines - अनलॉक-4 के लिए गाइडलाइन्स...   \n",
       "\n",
       "             Labels Set  Unnamed: 3  Unnamed: 4  \n",
       "0        hate,offensive         NaN         NaN  \n",
       "1           non-hostile         NaN         NaN  \n",
       "2           non-hostile         NaN         NaN  \n",
       "3  defamation,offensive         NaN         NaN  \n",
       "4           non-hostile         NaN         NaN  "
      ]
     },
     "execution_count": 5,
     "metadata": {},
     "output_type": "execute_result"
    }
   ],
   "source": [
    "data.head()"
   ]
  },
  {
   "cell_type": "code",
   "execution_count": 6,
   "metadata": {
    "colab": {
     "base_uri": "https://localhost:8080/",
     "height": 195
    },
    "id": "LBjtXf6CVsBp",
    "outputId": "dd051ee8-53db-41b5-db36-66e5e94e4641"
   },
   "outputs": [
    {
     "data": {
      "text/html": [
       "<div>\n",
       "<style scoped>\n",
       "    .dataframe tbody tr th:only-of-type {\n",
       "        vertical-align: middle;\n",
       "    }\n",
       "\n",
       "    .dataframe tbody tr th {\n",
       "        vertical-align: top;\n",
       "    }\n",
       "\n",
       "    .dataframe thead th {\n",
       "        text-align: right;\n",
       "    }\n",
       "</style>\n",
       "<table border=\"1\" class=\"dataframe\">\n",
       "  <thead>\n",
       "    <tr style=\"text-align: right;\">\n",
       "      <th></th>\n",
       "      <th>Unique ID</th>\n",
       "      <th>Post</th>\n",
       "      <th>Labels Set</th>\n",
       "      <th>Unnamed: 3</th>\n",
       "      <th>Unnamed: 4</th>\n",
       "    </tr>\n",
       "  </thead>\n",
       "  <tbody>\n",
       "    <tr>\n",
       "      <th>5723</th>\n",
       "      <td>5724</td>\n",
       "      <td>उदितराज जी हिम्मत  जुटा कर उस नेता के लिए कुछ ...</td>\n",
       "      <td>hate</td>\n",
       "      <td>NaN</td>\n",
       "      <td>NaN</td>\n",
       "    </tr>\n",
       "    <tr>\n",
       "      <th>5724</th>\n",
       "      <td>5725</td>\n",
       "      <td>उप्र: पीएम रिपोर्ट में खुलासा: हार्टअटैक से हु...</td>\n",
       "      <td>non-hostile</td>\n",
       "      <td>NaN</td>\n",
       "      <td>NaN</td>\n",
       "    </tr>\n",
       "    <tr>\n",
       "      <th>5725</th>\n",
       "      <td>5726</td>\n",
       "      <td>नौकरी गंवा चुके दोस्त की मदद: नगद के बजाए गिफ्...</td>\n",
       "      <td>non-hostile</td>\n",
       "      <td>NaN</td>\n",
       "      <td>NaN</td>\n",
       "    </tr>\n",
       "    <tr>\n",
       "      <th>5726</th>\n",
       "      <td>5727</td>\n",
       "      <td>बंगाल में हिन्दू मरे हैं इसलिए मुझे कोई फर्क न...</td>\n",
       "      <td>fake</td>\n",
       "      <td>NaN</td>\n",
       "      <td>NaN</td>\n",
       "    </tr>\n",
       "    <tr>\n",
       "      <th>5727</th>\n",
       "      <td>5728</td>\n",
       "      <td>रक्षा मंत्री @rajnathsingh ने पूर्व राष्ट्रपति...</td>\n",
       "      <td>non-hostile</td>\n",
       "      <td>NaN</td>\n",
       "      <td>NaN</td>\n",
       "    </tr>\n",
       "  </tbody>\n",
       "</table>\n",
       "</div>"
      ],
      "text/plain": [
       "      Unique ID                                               Post  \\\n",
       "5723       5724  उदितराज जी हिम्मत  जुटा कर उस नेता के लिए कुछ ...   \n",
       "5724       5725  उप्र: पीएम रिपोर्ट में खुलासा: हार्टअटैक से हु...   \n",
       "5725       5726  नौकरी गंवा चुके दोस्त की मदद: नगद के बजाए गिफ्...   \n",
       "5726       5727  बंगाल में हिन्दू मरे हैं इसलिए मुझे कोई फर्क न...   \n",
       "5727       5728  रक्षा मंत्री @rajnathsingh ने पूर्व राष्ट्रपति...   \n",
       "\n",
       "       Labels Set  Unnamed: 3  Unnamed: 4  \n",
       "5723         hate         NaN         NaN  \n",
       "5724  non-hostile         NaN         NaN  \n",
       "5725  non-hostile         NaN         NaN  \n",
       "5726         fake         NaN         NaN  \n",
       "5727  non-hostile         NaN         NaN  "
      ]
     },
     "execution_count": 6,
     "metadata": {},
     "output_type": "execute_result"
    }
   ],
   "source": [
    "data.tail()"
   ]
  },
  {
   "cell_type": "markdown",
   "metadata": {},
   "source": [
    "#### Information about the attributes and tupples."
   ]
  },
  {
   "cell_type": "code",
   "execution_count": 7,
   "metadata": {
    "colab": {
     "base_uri": "https://localhost:8080/",
     "height": 218
    },
    "id": "K0nEa0QLU1pJ",
    "outputId": "83a0c220-f70f-41b4-b35e-fd84d23778da"
   },
   "outputs": [
    {
     "name": "stdout",
     "output_type": "stream",
     "text": [
      "<class 'pandas.core.frame.DataFrame'>\n",
      "RangeIndex: 5728 entries, 0 to 5727\n",
      "Data columns (total 5 columns):\n",
      " #   Column      Non-Null Count  Dtype  \n",
      "---  ------      --------------  -----  \n",
      " 0   Unique ID   5728 non-null   int64  \n",
      " 1   Post        5728 non-null   object \n",
      " 2   Labels Set  5728 non-null   object \n",
      " 3   Unnamed: 3  0 non-null      float64\n",
      " 4   Unnamed: 4  0 non-null      float64\n",
      "dtypes: float64(2), int64(1), object(2)\n",
      "memory usage: 223.9+ KB\n"
     ]
    }
   ],
   "source": [
    "data.info()"
   ]
  },
  {
   "cell_type": "markdown",
   "metadata": {},
   "source": [
    "#### removing extra columns"
   ]
  },
  {
   "cell_type": "code",
   "execution_count": 12,
   "metadata": {
    "id": "Cuusc2RuU1pM"
   },
   "outputs": [],
   "source": [
    "data=data.drop(data.columns[[0,3,4]], axis=1)"
   ]
  },
  {
   "cell_type": "markdown",
   "metadata": {},
   "source": [
    "#### New information of data "
   ]
  },
  {
   "cell_type": "code",
   "execution_count": 13,
   "metadata": {
    "colab": {
     "base_uri": "https://localhost:8080/",
     "height": 168
    },
    "id": "NLO9o5MpU1pP",
    "outputId": "d1d6e10a-2d79-41ef-aeda-9b5f28709da0"
   },
   "outputs": [
    {
     "name": "stdout",
     "output_type": "stream",
     "text": [
      "<class 'pandas.core.frame.DataFrame'>\n",
      "RangeIndex: 5728 entries, 0 to 5727\n",
      "Data columns (total 2 columns):\n",
      "Post          5728 non-null object\n",
      "Labels Set    5728 non-null object\n",
      "dtypes: object(2)\n",
      "memory usage: 89.6+ KB\n"
     ]
    }
   ],
   "source": [
    "data.info()"
   ]
  },
  {
   "cell_type": "code",
   "execution_count": 14,
   "metadata": {
    "colab": {
     "base_uri": "https://localhost:8080/",
     "height": 195
    },
    "id": "da8yvF7jU1pR",
    "outputId": "a1b54760-70e9-4e44-e025-857e8748458f"
   },
   "outputs": [
    {
     "data": {
      "text/html": [
       "<div>\n",
       "<style scoped>\n",
       "    .dataframe tbody tr th:only-of-type {\n",
       "        vertical-align: middle;\n",
       "    }\n",
       "\n",
       "    .dataframe tbody tr th {\n",
       "        vertical-align: top;\n",
       "    }\n",
       "\n",
       "    .dataframe thead th {\n",
       "        text-align: right;\n",
       "    }\n",
       "</style>\n",
       "<table border=\"1\" class=\"dataframe\">\n",
       "  <thead>\n",
       "    <tr style=\"text-align: right;\">\n",
       "      <th></th>\n",
       "      <th>Post</th>\n",
       "      <th>Labels Set</th>\n",
       "    </tr>\n",
       "  </thead>\n",
       "  <tbody>\n",
       "    <tr>\n",
       "      <th>0</th>\n",
       "      <td>मेरे देश के हिन्दु बहुत निराले है। कुछ तो पक्क...</td>\n",
       "      <td>hate,offensive</td>\n",
       "    </tr>\n",
       "    <tr>\n",
       "      <th>1</th>\n",
       "      <td>सरकार हमेशा से किसानों की कमाई को बढ़ाने के लि...</td>\n",
       "      <td>non-hostile</td>\n",
       "    </tr>\n",
       "    <tr>\n",
       "      <th>2</th>\n",
       "      <td>सुशांत ने जो बिजनेस डील 9 जून को की थी, वो डील...</td>\n",
       "      <td>non-hostile</td>\n",
       "    </tr>\n",
       "    <tr>\n",
       "      <th>3</th>\n",
       "      <td>@prabhav218 साले जेएनयू छाप कमिने लोग हिन्दुओं...</td>\n",
       "      <td>defamation,offensive</td>\n",
       "    </tr>\n",
       "    <tr>\n",
       "      <th>4</th>\n",
       "      <td>#unlock4guidelines - अनलॉक-4 के लिए गाइडलाइन्स...</td>\n",
       "      <td>non-hostile</td>\n",
       "    </tr>\n",
       "  </tbody>\n",
       "</table>\n",
       "</div>"
      ],
      "text/plain": [
       "                                                Post            Labels Set\n",
       "0  मेरे देश के हिन्दु बहुत निराले है। कुछ तो पक्क...        hate,offensive\n",
       "1  सरकार हमेशा से किसानों की कमाई को बढ़ाने के लि...           non-hostile\n",
       "2  सुशांत ने जो बिजनेस डील 9 जून को की थी, वो डील...           non-hostile\n",
       "3  @prabhav218 साले जेएनयू छाप कमिने लोग हिन्दुओं...  defamation,offensive\n",
       "4  #unlock4guidelines - अनलॉक-4 के लिए गाइडलाइन्स...           non-hostile"
      ]
     },
     "execution_count": 14,
     "metadata": {},
     "output_type": "execute_result"
    }
   ],
   "source": [
    "data.head()"
   ]
  },
  {
   "cell_type": "code",
   "execution_count": 15,
   "metadata": {
    "colab": {
     "base_uri": "https://localhost:8080/",
     "height": 195
    },
    "id": "IFRAZ75BU1pU",
    "outputId": "02134fbe-b8f5-447f-9ef8-7ebd5dabf9a7"
   },
   "outputs": [
    {
     "data": {
      "text/html": [
       "<div>\n",
       "<style scoped>\n",
       "    .dataframe tbody tr th:only-of-type {\n",
       "        vertical-align: middle;\n",
       "    }\n",
       "\n",
       "    .dataframe tbody tr th {\n",
       "        vertical-align: top;\n",
       "    }\n",
       "\n",
       "    .dataframe thead th {\n",
       "        text-align: right;\n",
       "    }\n",
       "</style>\n",
       "<table border=\"1\" class=\"dataframe\">\n",
       "  <thead>\n",
       "    <tr style=\"text-align: right;\">\n",
       "      <th></th>\n",
       "      <th>Post</th>\n",
       "      <th>Labels Set</th>\n",
       "    </tr>\n",
       "  </thead>\n",
       "  <tbody>\n",
       "    <tr>\n",
       "      <th>5723</th>\n",
       "      <td>उदितराज जी हिम्मत  जुटा कर उस नेता के लिए कुछ ...</td>\n",
       "      <td>hate</td>\n",
       "    </tr>\n",
       "    <tr>\n",
       "      <th>5724</th>\n",
       "      <td>उप्र: पीएम रिपोर्ट में खुलासा: हार्टअटैक से हु...</td>\n",
       "      <td>non-hostile</td>\n",
       "    </tr>\n",
       "    <tr>\n",
       "      <th>5725</th>\n",
       "      <td>नौकरी गंवा चुके दोस्त की मदद: नगद के बजाए गिफ्...</td>\n",
       "      <td>non-hostile</td>\n",
       "    </tr>\n",
       "    <tr>\n",
       "      <th>5726</th>\n",
       "      <td>बंगाल में हिन्दू मरे हैं इसलिए मुझे कोई फर्क न...</td>\n",
       "      <td>fake</td>\n",
       "    </tr>\n",
       "    <tr>\n",
       "      <th>5727</th>\n",
       "      <td>रक्षा मंत्री @rajnathsingh ने पूर्व राष्ट्रपति...</td>\n",
       "      <td>non-hostile</td>\n",
       "    </tr>\n",
       "  </tbody>\n",
       "</table>\n",
       "</div>"
      ],
      "text/plain": [
       "                                                   Post   Labels Set\n",
       "5723  उदितराज जी हिम्मत  जुटा कर उस नेता के लिए कुछ ...         hate\n",
       "5724  उप्र: पीएम रिपोर्ट में खुलासा: हार्टअटैक से हु...  non-hostile\n",
       "5725  नौकरी गंवा चुके दोस्त की मदद: नगद के बजाए गिफ्...  non-hostile\n",
       "5726  बंगाल में हिन्दू मरे हैं इसलिए मुझे कोई फर्क न...         fake\n",
       "5727  रक्षा मंत्री @rajnathsingh ने पूर्व राष्ट्रपति...  non-hostile"
      ]
     },
     "execution_count": 15,
     "metadata": {},
     "output_type": "execute_result"
    }
   ],
   "source": [
    "data.tail()"
   ]
  },
  {
   "cell_type": "markdown",
   "metadata": {},
   "source": [
    "#### Calculating the null values in each columns"
   ]
  },
  {
   "cell_type": "code",
   "execution_count": 16,
   "metadata": {
    "colab": {
     "base_uri": "https://localhost:8080/",
     "height": 67
    },
    "id": "k4NQUDcHU1pW",
    "outputId": "9b3ea895-fc04-444e-e4e6-71f08cae4333"
   },
   "outputs": [
    {
     "data": {
      "text/plain": [
       "Post          0\n",
       "Labels Set    0\n",
       "dtype: int64"
      ]
     },
     "execution_count": 16,
     "metadata": {},
     "output_type": "execute_result"
    }
   ],
   "source": [
    "data.isnull().sum()"
   ]
  },
  {
   "cell_type": "markdown",
   "metadata": {
    "id": "IeEtVtaYi7Tk"
   },
   "source": [
    "#### Number of columns and rows in train data set"
   ]
  },
  {
   "cell_type": "code",
   "execution_count": 62,
   "metadata": {
    "colab": {
     "base_uri": "https://localhost:8080/",
     "height": 34
    },
    "id": "UrpjElybibvK",
    "outputId": "cabbf91c-d579-4f96-f2b2-43659b538766"
   },
   "outputs": [
    {
     "name": "stdout",
     "output_type": "stream",
     "text": [
      "(5728, 2) is the dimension of the data\n"
     ]
    }
   ],
   "source": [
    "data.shape\n",
    "print(data.shape,\"is the dimension of the data\")"
   ]
  },
  {
   "cell_type": "markdown",
   "metadata": {
    "id": "EMUZ2jXZmkmR"
   },
   "source": [
    "#### Checking for the duplicates in the dataset."
   ]
  },
  {
   "cell_type": "code",
   "execution_count": 63,
   "metadata": {},
   "outputs": [
    {
     "name": "stdout",
     "output_type": "stream",
     "text": [
      "10\n"
     ]
    }
   ],
   "source": [
    "print(len(data['Post'])-len(set(data['Post'])))"
   ]
  },
  {
   "cell_type": "code",
   "execution_count": null,
   "metadata": {},
   "outputs": [],
   "source": []
  },
  {
   "cell_type": "code",
   "execution_count": 17,
   "metadata": {
    "colab": {
     "base_uri": "https://localhost:8080/",
     "height": 255
    },
    "id": "eOh3Yz3kmj1_",
    "outputId": "eb97d90f-af42-4587-b476-9f50e069fefe"
   },
   "outputs": [
    {
     "name": "stdout",
     "output_type": "stream",
     "text": [
      "Post\n",
      "\\nHimat Gohel\\n@himatgohel\\nBJP विधायक अनिल उपाध्याय की इस हरकत पर क्या कहेगे मोदी जी, give your \\n your Reaction की ये पूरा हिन्दुस्तान देख सके..👇                                                                                                                                                                                                                                                                                                                                                                                                                                                                                                                                                                                                                                                                                                                                                                                                                                                                                                                                                                                                                                                                                                                                                                                                                                                                                                                                                                                                                                                                                                                                                                                                                                                                                                                                                                                                                                                                                                                                                                                                                                                                                                                                                                                                                                                                                                         1\n",
      " 1. हमारी सरकार बनते ही पाकिस्तान को 5 हज़ार करोड़ का क़र्ज़ देंगे बिना ब्याज 50 साल के लिए। 2 . कश्मीर पाकिस्तान को दे देना चाहिए। 3 . मेरे पूर्वज मुस्लिम थे , मै मुसलमान हूँ । 4 . वोट बैंक के लिए मै नकली हिंदू बना ।\\n\\n                                                                                                                                                                                                                                                                                                                                                                                                                                                                                                                                                                                                                                                                                                                                                                                                                                                                                                                                                                                                                                                                                                                                                                                                                                                                                                                                                                                                                                                                                                                                                                                                                                                                                                                                                                                                                                                                                                                                                                                                                                                                                                                                                                                                                                   1\n",
      " कल एक तब्लीगी मिला था, हमने कहा सिंध बलूच POK और चीन में हमारे मुस्लिम भाईयों पर अत्याचार हो रहा है, बस गुस्से में बचपन की दोस्ती तोड़ कर चला गया 🤔                                                                                                                                                                                                                                                                                                                                                                                                                                                                                                                                                                                                                                                                                                                                                                                                                                                                                                                                                                                                                                                                                                                                                                                                                                                                                                                                                                                                                                                                                                                                                                                                                                                                                                                                                                                                                                                                                                                                                                                                                                                                                                                                                                                                                                                                                                        1\n",
      " कोरोनावायरस आने के पहले इटली में 'गे पार्टी' हुई थी, वायरस हमले के पहले यह इटली में हुई आखिरी समलैंगिक कॉन्फ्रेंस थी                                                                                                                                                                                                                                                                                                                                                                                                                                                                                                                                                                                                                                                                                                                                                                                                                                                                                                                                                                                                                                                                                                                                                                                                                                                                                                                                                                                                                                                                                                                                                                                                                                                                                                                                                                                                                                                                                                                                                                                                                                                                                                                                                                                                                                                                                                                                       1\n",
      " चीन ने सीमाओं पर मिसाइल तैनात कर दी हैं, संसद में हो चर्चा, PM दें जवाब '  : @INCIndia \\n\\n#IndiaChinaFaceOff \\n\\nhttps://t.co/VSB4eVIJth                                                                                                                                                                                                                                                                                                                                                                                                                                                                                                                                                                                                                                                                                                                                                                                                                                                                                                                                                                                                                                                                                                                                                                                                                                                                                                                                                                                                                                                                                                                                                                                                                                                                                                                                                                                                                                                                                                                                                                                                                                                                                                                                                                                                                                                                                                                  1\n",
      " ज्यादोरादित्य सिंधिया ने अपने ट्विटर बायो से बीजेपी का नाम हटा लिया है, पार्टी छोड़ रहे हैं                                                                                                                                                                                                                                                                                                                                                                                                                                                                                                                                                                                                                                                                                                                                                                                                                                                                                                                                                                                                                                                                                                                                                                                                                                                                                                                                                                                                                                                                                                                                                                                                                                                                                                                                                                                                                                                                                                                                                                                                                                                                                                                                                                                                                                                                                                                                                                 1\n",
      " तमिलनाडु में सद्गुरू जग्गी वासुदेव के कार्यक्रम के चलते कोरोनावायरस फैला, लेकिन सरकार और मीडिया सिर्फ तब्लीगी जमात के पीछे पड़े हैं                                                                                                                                                                                                                                                                                                                                                                                                                                                                                                                                                                                                                                                                                                                                                                                                                                                                                                                                                                                                                                                                                                                                                                                                                                                                                                                                                                                                                                                                                                                                                                                                                                                                                                                                                                                                                                                                                                                                                                                                                                                                                                                                                                                                                                                                                                                         1\n",
      " देश की आकांक्षाओं को पूरा करने में शिक्षा नीति बेहद अहम ' : पीएम मोदी\\n@narendramodi \\n\\nhttps://t.co/61389vtTWt                                                                                                                                                                                                                                                                                                                                                                                                                                                                                                                                                                                                                                                                                                                                                                                                                                                                                                                                                                                                                                                                                                                                                                                                                                                                                                                                                                                                                                                                                                                                                                                                                                                                                                                                                                                                                                                                                                                                                                                                                                                                                                                                                                                                                                                                                                                                           1\n",
      " ये गलवान घाटी की उस मुठभेड़ का वीडियो है, जिसमें 20 भारतीय जवान शहीद हो गए।                                                                                                                                                                                                                                                                                                                                                                                                                                                                                                                                                                                                                                                                                                                                                                                                                                                                                                                                                                                                                                                                                                                                                                                                                                                                                                                                                                                                                                                                                                                                                                                                                                                                                                                                                                                                                                                                                                                                                                                                                                                                                                                                                                                                                                                                                                                                                                                 1\n",
      " सुरेश रैना के बाद हरभजन सिंह ने भी आईपीएल 2020 से किनारा करने का मन बनाया '\\n#IPL2020 \\n\\nhttps://t.co/bDHrVOTkyL                                                                                                                                                                                                                                                                                                                                                                                                                                                                                                                                                                                                                                                                                                                                                                                                                                                                                                                                                                                                                                                                                                                                                                                                                                                                                                                                                                                                                                                                                                                                                                                                                                                                                                                                                                                                                                                                                                                                                                                                                                                                                                                                                                                                                                                                                                                                          1\n",
      "!\\n“ देश के ग़द्दारों को , गोली मारो सालो को”\\n\\nअनुराग ठाकुर 👈\\nये तो वही कहावत हों गयी ,\\n\\n“आ बैल, मुझे मार “ \\n\\nभाजपा के मंत्रीयो को कूटते भारतीय लोग \\n\\n👇👇👇👇                                                                                                                                                                                                                                                                                                                                                                                                                                                                                                                                                                                                                                                                                                                                                                                                                                                                                                                                                                                                                                                                                                                                                                                                                                                                                                                                                                                                                                                                                                                                                                                                                                                                                                                                                                                                                                                                                                                                                                                                                                                                                                                                                                                                                                                                                         1\n",
      "\" \"एक मुस्कुराती तस्वीर है, उसकी मेरे पास,,\\n \\nजो मुझे मुस्कुराने की वजह देती रहती है!!\" \"...™ ❣❣✌😊✌                                                                                                                                                                                                                                                                                                                                                                                                                                                                                                                                                                                                                                                                                                                                                                                                                                                                                                                                                                                                                                                                                                                                                                                                                                                                                                                                                                                                                                                                                                                                                                                                                                                                                                                                                                                                                                                                                                                                                                                                                                                                                                                                                                                                                                                                                                                                                       1\n",
      "\" अगर आपको हमला करना है तो मुझ पर हमला करिए. मेरे दलित भाइयों पर हमला बंद करिए. अगर आपको गोली मारनी है तो मुझे गोली मारिए, लेकिन मेरे दलित भाइयों को नहीं \"\\n\\nप्रिय MP Police, कृपया इस महोदय की शर्त स्वीकार करें.                                                                                                                                                                                                                                                                                                                                                                                                                                                                                                                                                                                                                                                                                                                                                                                                                                                                                                                                                                                                                                                                                                                                                                                                                                                                                                                                                                                                                                                                                                                                                                                                                                                                                                                                                                                                                                                                                                                                                                                                                                                                                                                                                                                                                                        1\n",
      "\"#मिशनरी अस्पतालों में पीड़ित रोगी को मर्फिया का इंजेक्शन यह कह कर दिया जाता है, कि हे प्रभु ईसा इसे ठीक कर दो।चूँकि मार्फिया से दर्द की अनुभुति समाप्त हो जाती है ,अत: रोगी स्वयं को स्वस्थ समझता है । वह अज्ञानी धर्मांध समझता है की उसे प्रभु ईसू ने ठीक किया।#StopConversionKilling                                                                                                                                                                                                                                                                                                                                                                                                                                                                                                                                                                                                                                                                                                                                                                                                                                                                                                                                                                                                                                                                                                                                                                                                                                                                                                                                                                                                                                                                                                                                                                                                                                                                                                                                                                                                                                                                                                                                                                                                                                                                                                                                                                     1\n",
      "\"अल्लाह के घर देर है\\n                  अंधेर नही\"\\nरंजन गोगोई #corona positive                                                                                                                                                                                                                                                                                                                                                                                                                                                                                                                                                                                                                                                                                                                                                                                                                                                                                                                                                                                                                                                                                                                                                                                                                                                                                                                                                                                                                                                                                                                                                                                                                                                                                                                                                                                                                                                                                                                                                                                                                                                                                                                                                                                                                                                                                                                                                                             1\n",
      "\"उत्तर प्रदेश में हमारी राजनीति, विज़न और प्लान यहाँ की जनता तय करेगी\"। आम आदमी पार्टी की यूपी में बढ़ती सक्रियता पर आज दिल्ली के मुख्यमंत्री अरविन्द केजरीवाल को मैंने विशेष साक्षात्कार हेतु आमंत्रित किया। कोरोना दिल्ली मॉडल, कॉंग्रेस् के बिखराव जैसे मुद्दे पर वो खुलकर बोले। https://t.co/zuHx0ppQYV                                                                                                                                                                                                                                                                                                                                                                                                                                                                                                                                                                                                                                                                                                                                                                                                                                                                                                                                                                                                                                                                                                                                                                                                                                                                                                                                                                                                                                                                                                                                                                                                                                                                                                                                                                                                                                                                                                                                                                                                                                                                                                                                                 1\n",
      "\"एक गाँधी मरा , हज़ारों हिन्दू काट दिए\" \"दूसरा गाँधी मरा, हज़ारों सिख जला दिए\" \"तीसरा गाँधी मरा, हज़ारों तमिल मार दिए\" \"ये है गाँधी परिवार का बलिदान\"\\n\\n                                                                                                                                                                                                                                                                                                                                                                                                                                                                                                                                                                                                                                                                                                                                                                                                                                                                                                                                                                                                                                                                                                                                                                                                                                                                                                                                                                                                                                                                                                                                                                                                                                                                                                                                                                                                                                                                                                                                                                                                                                                                                                                                                                                                                                                                                                      1\n",
      "\"एक बच्चे के रूप में मुझे वास्तव में लगता था कि वे मेरी बात सुनते है. आज भी ऐसा ही लगता है\", ऋतिक रोशन \\n#Bollywood #HrithikRoshan #GaneshaChaturthi2020 \\nhttps://t.co/q8d7TInp3p                                                                                                                                                                                                                                                                                                                                                                                                                                                                                                                                                                                                                                                                                                                                                                                                                                                                                                                                                                                                                                                                                                                                                                                                                                                                                                                                                                                                                                                                                                                                                                                                                                                                                                                                                                                                                                                                                                                                                                                                                                                                                                                                                                                                                                                                          1\n",
      "\"कंगना राणावत बाईसा  भाजपा का प्रचार करेंगी बिहार में\" अब सब नाटक समझ आ ही गया होगा....? फिर भी क्या बिहार विधानसभा के आगामी आम चुनाव में भाजपा का एनङीऐ चुनाव हार गया तब भी मोदी और शाह कंगना रनौत को वाई श्रेणी की सुरक्षा यथावत बनाये रखेगी ??                                                                                                                                                                                                                                                                                                                                                                                                                                                                                                                                                                                                                                                                                                                                                                                                                                                                                                                                                                                                                                                                                                                                                                                                                                                                                                                                                                                                                                                                                                                                                                                                                                                                                                                                                                                                                                                                                                                                                                                                                                                                                                                                                                                                           1\n",
      "\"तुलसी पीने से कोरोनावायरस को रोका जा सकेगा, डब्ल्यूएचओ ने सूचना जारी की है                                                                                                                                                                                                                                                                                                                                                                                                                                                                                                                                                                                                                                                                                                                                                                                                                                                                                                                                                                                                                                                                                                                                                                                                                                                                                                                                                                                                                                                                                                                                                                                                                                                                                                                                                                                                                                                                                                                                                                                                                                                                                                                                                                                                                                                                                                                                                                                 1\n",
      "\"बहुत ही ह्र्दयविदारक घटना\" इटली की महिला कोरोना की तीसरी और आखरी स्टेज में थी सामने उसका 18 महीने का बच्चा जो बहुत रो रहा था। उसने अपनी आखरी इच्छा डाक्टरों से जाहिर की वो अपने बच्चे को एक बार गले लगाना चाहती हैं डाक्टरों ने उसकी पूरी बॉडी को पारदर्शी मोम से कवर करके बच्चे को उसकी छाती पर लेटा दिया बच्चा तुरंत चुप हो गया और उसकी मां इस दुनिया से अलविदा हो गई ...।। मां की ममता महान हैं।\\n                                                                                                                                                                                                                                                                                                                                                                                                                                                                                                                                                                                                                                                                                                                                                                                                                                                                                                                                                                                                                                                                                                                                                                                                                                                                                                                                                                                                                                                                                                                                                                                                                                                                                                                                                                                                                                                                                                                                                                                                                                                      1\n",
      "\"मतदान तो देशहित मे ही करूंगा\" 🇮🇳\\n\\nइतना सुनते ही कांग्रेसी समझ जाते है कि 👇 \"ये वोट अपना नही है'😄😂                                                                                                                                                                                                                                                                                                                                                                                                                                                                                                                                                                                                                                                                                                                                                                                                                                                                                                                                                                                                                                                                                                                                                                                                                                                                                                                                                                                                                                                                                                                                                                                                                                                                                                                                                                                                                                                                                                                                                                                                                                                                                                                                                                                                                                                                                                                                                        1\n",
      "\"मेरे साथ बोलिये, अल्लाह-हु-अकबर\" | उनके ये कहने पर भीड़ में से अल्लाह-हु-अकबर की एकमुश्त आवाज़ आती है |\\nअब क्या अब तो कांग्रेस खुलेआम “#अल्लाहहू अकबर” बोलने कह रही!\\n\\n\\n                                                                                                                                                                                                                                                                                                                                                                                                                                                                                                                                                                                                                                                                                                                                                                                                                                                                                                                                                                                                                                                                                                                                                                                                                                                                                                                                                                                                                                                                                                                                                                                                                                                                                                                                                                                                                                                                                                                                                                                                                                                                                                                                                                                                                                                                                  1\n",
      "\"यह महिला उद्योगपति गौतम अडानी की पत्नी है | झुकी हुई गर्दन शायद रामु काका की है | खुद झुक जाते हैं और भक्तो को कहते हैं; मैं देश झुकने नहीं दूंगा, मैं देश बिकने नहीं दूंगा |\\n\\n                                                                                                                                                                                                                                                                                                                                                                                                                                                                                                                                                                                                                                                                                                                                                                                                                                                                                                                                                                                                                                                                                                                                                                                                                                                                                                                                                                                                                                                                                                                                                                                                                                                                                                                                                                                                                                                                                                                                                                                                                                                                                                                                                                                                                                                                          1\n",
      "\"लोकल फाॅर वोकल\" का असर, दीपावली के लिए करनाल में बन रही स्वदेशी लड़ियां\\nhttps://t.co/6voxwZRt7D\\n\\n@DDNewsHindi @DDNewslive @ROBChandigarh @PIBChandigarh @cmohry @PBNS_India @AIRNewsHindi #AatmaNirbharBharat https://t.co/kx2d8R4vUc                                                                                                                                                                                                                                                                                                                                                                                                                                                                                                                                                                                                                                                                                                                                                                                                                                                                                                                                                                                                                                                                                                                                                                                                                                                                                                                                                                                                                                                                                                                                                                                                                                                                                                                                                                                                                                                                                                                                                                                                                                                                                                                                                                                                                   1\n",
      "\"शास्त्र और शस्त्र दोनो का ज्ञान,\\nयही है हिंदुत्व की पहचान।।''\\n\\nजागो हिन्दू जागो, कही देर न हो जाये।।\\nजय श्री राम                                                                                                                                                                                                                                                                                                                                                                                                                                                                                                                                                                                                                                                                                                                                                                                                                                                                                                                                                                                                                                                                                                                                                                                                                                                                                                                                                                                                                                                                                                                                                                                                                                                                                                                                                                                                                                                                                                                                                                                                                                                                                                                                                                                                                                                                                                                                       1\n",
      "\"सच बोलना कंटेप्ट ऑफ कोर्ट नही है ।\"\\n@aajtak @INCIndia @pbhushan1 https://t.co/DcXPq6hPYh                                                                                                                                                                                                                                                                                                                                                                                                                                                                                                                                                                                                                                                                                                                                                                                                                                                                                                                                                                                                                                                                                                                                                                                                                                                                                                                                                                                                                                                                                                                                                                                                                                                                                                                                                                                                                                                                                                                                                                                                                                                                                                                                                                                                                                                                                                                                                                  1\n",
      "\"साँप सूँघ गया पाकिस्तान को, शुगर हो गया चीन को\"                                                                                                                                                                                                                                                                                                                                                                                                                                                                                                                                                                                                                                                                                                                                                                                                                                                                                                                                                                                                                                                                                                                                                                                                                                                                                                                                                                                                                                                                                                                                                                                                                                                                                                                                                                                                                                                                                                                                                                                                                                                                                                                                                                                                                                                                                                                                                                                                            1\n",
      "##दुःखद घटना असामाजिक तत्वों ने पश्चिम बंगाल के 300 मुस्लिम घरों को जलाकर राख कर दिया,\\n\\nयह घटना सुबह 7 बजे मंगलवार को पश्चिम बंगाल के तेलनीपारा जिले में हुई,\\n\\nहिन्दू मुस्लिम नफ़रत की वजह से जलता हुआ भारत कब तक ऐसा होता रहेगा\\n\\n #Islamophobia_In_India #                                                                                                                                                                                                                                                                                                                                                                                                                                                                                                                                                                                                                                                                                                                                                                                                                                                                                                                                                                                                                                                                                                                                                                                                                                                                                                                                                                                                                                                                                                                                                                                                                                                                                                                                                                                                                                                                                                                                                                                                                                                                                                                                                                                           1\n",
      "#10Tak: #LAC पर हाई अलर्ट पर है भारतीय सेना!\\nदेखिए पूरा शो : https://t.co/KclGSCdRbP\\n#India #China #IndiaChinaStandOff https://t.co/jVYxIzxfXm                                                                                                                                                                                                                                                                                                                                                                                                                                                                                                                                                                                                                                                                                                                                                                                                                                                                                                                                                                                                                                                                                                                                                                                                                                                                                                                                                                                                                                                                                                                                                                                                                                                                                                                                                                                                                                                                                                                                                                                                                                                                                                                                                                                                                                                                                                            1\n",
      "                                                                                                                                                                                                                                                                                                                                                                                                                                                                                                                                                                                                                                                                                                                                                                                                                                                                                                                                                                                                                                                                                                                                                                                                                                                                                                                                                                                                                                                                                                                                                                                                                                                                                                                                                                                                                                                                                                                                                                                                                                                                                                                                                                                                                                                                                                                                                                                                                                                           ..\n",
      "होंगे तेरी आइडी में हजारों आशिको की झुण्ड \\nमेरी आइडी में तो भगवा धारी शेर 🐅 दहाड़ते हैं हमें नशा है भगवा रंग का.🚩\\n\\n🙏 जय जय श्री राम 🙏                                                                                                                                                                                                                                                                                                                                                                                                                                                                                                                                                                                                                                                                                                                                                                                                                                                                                                                                                                                                                                                                                                                                                                                                                                                                                                                                                                                                                                                                                                                                                                                                                                                                                                                                                                                                                                                                                                                                                                                                                                                                                                                                                                                                                                                                                                                    1\n",
      "होंडा दिवाली के मौके पर 300 एक्टिवा 5 जी स्कूटर मुफ़्त में दे रही है ।\\n\\n                                                                                                                                                                                                                                                                                                                                                                                                                                                                                                                                                                                                                                                                                                                                                                                                                                                                                                                                                                                                                                                                                                                                                                                                                                                                                                                                                                                                                                                                                                                                                                                                                                                                                                                                                                                                                                                                                                                                                                                                                                                                                                                                                                                                                                                                                                                                                                                   1\n",
      "होम आइसोलेशन में रहने वाले लोग थर्मामीटर तथा पल्स ऑक्सीमीटर साथ रखें। यदि किसी को खांसी या बुखार आये अथवा सांस फूले तो तत्काल हेल्पलाइन नं. 18001805145 अथवा @CMHelpline1076 पर सम्पर्क करे: ACS, चिकित्सा एवं स्वास्थ्य, श्री अमित मोहन प्रसाद जी\\n\\n@ShishirGoUP                                                                                                                                                                                                                                                                                                                                                                                                                                                                                                                                                                                                                                                                                                                                                                                                                                                                                                                                                                                                                                                                                                                                                                                                                                                                                                                                                                                                                                                                                                                                                                                                                                                                                                                                                                                                                                                                                                                                                                                                                                                                                                                                                                                          1\n",
      "होम क्वारनटाइन के दौरान क्या कोरोना मरीज के कपड़े कोरोना\\nबाकी कपड़ों के साथ धो सकते हैं?\\n\\n#IndiaFightsCorona #COVID19 \\n@PIB_India @PrakashJavdekar @shashidigital https://t.co/iwQrYjNORM                                                                                                                                                                                                                                                                                                                                                                                                                                                                                                                                                                                                                                                                                                                                                                                                                                                                                                                                                                                                                                                                                                                                                                                                                                                                                                                                                                                                                                                                                                                                                                                                                                                                                                                                                                                                                                                                                                                                                                                                                                                                                                                                                                                                                                                               1\n",
      "ड़क पर नोट फेंककर कोरोनावायरस फैलाने का काम किया जा रहा है                                                                                                                                                                                                                                                                                                                                                                                                                                                                                                                                                                                                                                                                                                                                                                                                                                                                                                                                                                                                                                                                                                                                                                                                                                                                                                                                                                                                                                                                                                                                                                                                                                                                                                                                                                                                                                                                                                                                                                                                                                                                                                                                                                                                                                                                                                                                                                                                   1\n",
      "फ़ेसबुक पेज @AbhinandanIAF फ़रवरी 27 को बनाया गया था और इसके करीब 2000 फ़ॉलोवर्स हैं। ऐसा प्रतीत होता है कि अंकाउंट स्वंय अभिनंदन द्वारा संचालित किया जा रहा है, लेकिन यह अकाउंट फ़र्ज़ी है।\\nफ़ेसबुक प्रोफ़ाइल Abhinandn Varthaman में Abhinandan के नाम में ‘a’ गायब है प्रोफाइल में लिखा गया है कि वह 2006 में वायु सेना में शामिल हुए थे।\\n\\n\\n                                                                                                                                                                                                                                                                                                                                                                                                                                                                                                                                                                                                                                                                                                                                                                                                                                                                                                                                                                                                                                                                                                                                                                                                                                                                                                                                                                                                                                                                                                                                                                                                                                                                                                                                                                                                                                                                                                                                                                                                                                                                                                               1\n",
      "‘गंदी बात’ से डिजिटल डेब्यू करने वाली ये अभिनेत्री अब दिखेगी इस धार्मिक शो में, यहां पाइए पूरी डिटेल\\n#UrmimalaSinhaRoy #SonyTv #MereSai \\nhttps://t.co/UyawNulUMW                                                                                                                                                                                                                                                                                                                                                                                                                                                                                                                                                                                                                                                                                                                                                                                                                                                                                                                                                                                                                                                                                                                                                                                                                                                                                                                                                                                                                                                                                                                                                                                                                                                                                                                                                                                                                                                                                                                                                                                                                                                                                                                                                                                                                                                                                          1\n",
      "‘छिछोरे’ का एक साल पूरा, साथी कलाकारों ने सुशांत को दी श्रद्धांजलि\\nhttps://t.co/RHcOZDJCZc                                                                                                                                                                                                                                                                                                                                                                                                                                                                                                                                                                                                                                                                                                                                                                                                                                                                                                                                                                                                                                                                                                                                                                                                                                                                                                                                                                                                                                                                                                                                                                                                                                                                                                                                                                                                                                                                                                                                                                                                                                                                                                                                                                                                                                                                                                                                                                 1\n",
      "‘टर्मिनेटर डार्कफेट’ के बाद इस धमाकेदार सीरीज से होगी अर्नाल्ड की वापसी, यहां पाइए पूरी डिटेल\\n@Schwarzenegger @Skydance\\n\\nhttps://t.co/xHFV0ZOk9y                                                                                                                                                                                                                                                                                                                                                                                                                                                                                                                                                                                                                                                                                                                                                                                                                                                                                                                                                                                                                                                                                                                                                                                                                                                                                                                                                                                                                                                                                                                                                                                                                                                                                                                                                                                                                                                                                                                                                                                                                                                                                                                                                                                                                                                                                                         1\n",
      "‘डायबसिटी’एक खास मेडिकल टर्म है जो मोटापे से लिंक डायबिटीज के लिए प्रयुक्‍त होती है। दुर्भाग्‍य से भारत में युवा महिलाओं में भी इसका जोखिम बढ़ता जा रहा है।\\n\\n#selfcare #healthshots \\nhttps://t.co/G70T8KdYqm                                                                                                                                                                                                                                                                                                                                                                                                                                                                                                                                                                                                                                                                                                                                                                                                                                                                                                                                                                                                                                                                                                                                                                                                                                                                                                                                                                                                                                                                                                                                                                                                                                                                                                                                                                                                                                                                                                                                                                                                                                                                                                                                                                                                                                             1\n",
      "‘फूट डालो और राज करो’ एक घिनौनी नीति थी और हमेशा रहेगी। ऐसी सोच को देश ने पहले भी पराजित किया था और आज भी करेगा क्योंकि भाईचारा और सद्भावना हमारे लोकतंत्र की नीव हैं।                                                                                                                                                                                                                                                                                                                                                                                                                                                                                                                                                                                                                                                                                                                                                                                                                                                                                                                                                                                                                                                                                                                                                                                                                                                                                                                                                                                                                                                                                                                                                                                                                                                                                                                                                                                                                                                                                                                                                                                                                                                                                                                                                                                                                                                                                      1\n",
      "‘मोदी ने अर्थव्यवस्था को जर्जर किया’ - जीडीपी पर क्या बोले विदेशी अख़बार https://t.co/Ri7J1ChXpN                                                                                                                                                                                                                                                                                                                                                                                                                                                                                                                                                                                                                                                                                                                                                                                                                                                                                                                                                                                                                                                                                                                                                                                                                                                                                                                                                                                                                                                                                                                                                                                                                                                                                                                                                                                                                                                                                                                                                                                                                                                                                                                                                                                                                                                                                                                                                            1\n",
      "‘राष्ट्रीय भर्ती एजेंसी‘ पर सरकार का निर्णय भर्ती क्षेत्र में बहुत अहम बदलाव वाला साबित होगा जो भर्ती को गांवों और शहरों तक ले जाएगा : केंद्रीय मंत्री @DrJitendraSingh \\n\\nविवरण : https://t.co/h1QENG8F5V\\n\\n#NTA https://t.co/I9d22U93iH                                                                                                                                                                                                                                                                                                                                                                                                                                                                                                                                                                                                                                                                                                                                                                                                                                                                                                                                                                                                                                                                                                                                                                                                                                                                                                                                                                                                                                                                                                                                                                                                                                                                                                                                                                                                                                                                                                                                                                                                                                                                                                                                                                                                                 1\n",
      "‘हरामखोर’ का मतलब ‘नोटि’ होता है -संजय राउत \\n🤙\\nऔर ‘तू’ का मतलब ‘भड़वा’ होता है -कंगना राणावत.                                                                                                                                                                                                                                                                                                                                                                                                                                                                                                                                                                                                                                                                                                                                                                                                                                                                                                                                                                                                                                                                                                                                                                                                                                                                                                                                                                                                                                                                                                                                                                                                                                                                                                                                                                                                                                                                                                                                                                                                                                                                                                                                                                                                                                                                                                                                                             1\n",
      "“JNU देशद्रोही है और पाकिस्तान का समर्थक  है” के बाद हाज़िर है “मुंबई देशद्रोही है और पाकिस्तान जैसा है” \\n\\nये भक्त कौनसा गाँजा फुँकते है..?                                                                                                                                                                                                                                                                                                                                                                                                                                                                                                                                                                                                                                                                                                                                                                                                                                                                                                                                                                                                                                                                                                                                                                                                                                                                                                                                                                                                                                                                                                                                                                                                                                                                                                                                                                                                                                                                                                                                                                                                                                                                                                                                                                                                                                                                                                               1\n",
      "“आत्मनिर्भर भारत” के लक्ष्य को हासिल करने की दिशा में डीआरडीओ ने उद्योग द्वारा डिजाइन, विकास और विनिर्माण के लिए 108 प्रणालियों और उप प्रणालियों की पहचान की \\n\\nविवरण : https://t.co/svdqEhCkGw\\n\\n#AatmaNirbharBharat                                                                                                                                                                                                                                                                                                                                                                                                                                                                                                                                                                                                                                                                                                                                                                                                                                                                                                                                                                                                                                                                                                                                                                                                                                                                                                                                                                                                                                                                                                                                                                                                                                                                                                                                                                                                                                                                                                                                                                                                                                                                                                                                                                                                                                     1\n",
      "“पप्जी गेम में पागल हो गया कृपया अपने बच्चो को मोबाईल पर ऐसे गेम नही खेलने दे ।\\n\\n                                                                                                                                                                                                                                                                                                                                                                                                                                                                                                                                                                                                                                                                                                                                                                                                                                                                                                                                                                                                                                                                                                                                                                                                                                                                                                                                                                                                                                                                                                                                                                                                                                                                                                                                                                                                                                                                                                                                                                                                                                                                                                                                                                                                                                                                                                                                                                         1\n",
      "“योगी जी के राज पर एक नज़र” नृशंस हत्याएँ अख़बार कीं सुर्ख़ियाँ बनी हैं और बाबा जी जनता के घाव पर नमक छिड़क रहे हैं, विधान सभा में अपराध रोकने के नाम पर अपनी पीठ थप-थपा रहे हैं। https://t.co/ZjiQfOAA3J                                                                                                                                                                                                                                                                                                                                                                                                                                                                                                                                                                                                                                                                                                                                                                                                                                                                                                                                                                                                                                                                                                                                                                                                                                                                                                                                                                                                                                                                                                                                                                                                                                                                                                                                                                                                                                                                                                                                                                                                                                                                                                                                                                                                                                                   1\n",
      "₹700 मिल रहा है सुनकर शाहीन बाग से भी कुछ महिलाएं बेगूसराय के लिए निकल रहे हैं। यहां तो सिर्फ ₹500 मिल रहा है। \\nआपस में मिलकर एक रेट फिक्स कर लो, वरना छोटे-छोटे बच्चों को साथ लेकर महिलाएं कितना इधर-उधर करेंगे? उनके बारे में भी थोड़ा सोचो।                                                                                                                                                                                                                                                                                                                                                                                                                                                                                                                                                                                                                                                                                                                                                                                                                                                                                                                                                                                                                                                                                                                                                                                                                                                                                                                                                                                                                                                                                                                                                                                                                                                                                                                                                                                                                                                                                                                                                                                                                                                                                                                                                                                                             1\n",
      "✍️कुछ शायरी हमारे पप्पू के नाम\\n   \\n     नाव लगभग डूब चुकी मुश्किल फ्यूचर में जीतना\\n     बचा कांग्रेस के हाथ, पप्पू के लिए ताली पीटना\\n\\n#मोदी_है_तो_मुमकिन_है \\n\\n@cls_delhi\\n \\n@sumit__hindu\\n \\n@keshu_777                                                                                                                                                                                                                                                                                                                                                                                                                                                                                                                                                                                                                                                                                                                                                                                                                                                                                                                                                                                                                                                                                                                                                                                                                                                                                                                                                                                                                                                                                                                                                                                                                                                                                                                                                                                                                                                                                                                                                                                                                                                                                                                                                                                                                                            1\n",
      "➡️ कुपोषण मुक्त भारत की परिकल्पना को साकार करने की दिशा में पहल। #PoshanMaah2020 #Local4Poshan https://t.co/9rVFmul7UZ                                                                                                                                                                                                                                                                                                                                                                                                                                                                                                                                                                                                                                                                                                                                                                                                                                                                                                                                                                                                                                                                                                                                                                                                                                                                                                                                                                                                                                                                                                                                                                                                                                                                                                                                                                                                                                                                                                                                                                                                                                                                                                                                                                                                                                                                                                                                      1\n",
      "￼लोगों ने दावा किया है कि दो मुंह वाले सांप को धन का देवता कुबेर से रिश्ता होता है। इसके अलावा चीन में पांरपरिक दबाव में मर्दानगी पावर बढ़ाने के काम आता है। मानना है इस सांप को खाने से एड्स जैसी बीमारी से मुक्ति मिल जाती ।                                                                                                                                                                                                                                                                                                                                                                                                                                                                                                                                                                                                                                                                                                                                                                                                                                                                                                                                                                                                                                                                                                                                                                                                                                                                                                                                                                                                                                                                                                                                                                                                                                                                                                                                                                                                                                                                                                                                                                                                                                                                                                                                                                                                                              1\n",
      "🇮🇳 *15 अगस्त स्वतंत्रता दिवस के अवसर पर तिरंगे को छोड़कर,भीमटो ने नीला झंडा फहराया,पुलिस पहुंच गई और अपना डंडा लहराने लगी।*\\n😊☺️😆😂👌👍🏻👊🏻👇🏻                                                                                                                                                                                                                                                                                                                                                                                                                                                                                                                                                                                                                                                                                                                                                                                                                                                                                                                                                                                                                                                                                                                                                                                                                                                                                                                                                                                                                                                                                                                                                                                                                                                                                                                                                                                                                                                                                                                                                                                                                                                                                                                                                                                                                                                                                                                   1\n",
      "🇮🇳देश अगर खतरे में हो तो यह भाग जाते हैं\\n\\nआखिर यह मा बेटे कहां जाते है कोई जबाब देगा, ? ऐसा कौन सा गुप्त रोग का इलाज है जो भारतीय डॉक्टर नहीं कर सकते 🤔❓                                                                                                                                                                                                                                                                                                                                                                                                                                                                                                                                                                                                                                                                                                                                                                                                                                                                                                                                                                                                                                                                                                                                                                                                                                                                                                                                                                                                                                                                                                                                                                                                                                                                                                                                                                                                                                                                                                                                                                                                                                                                                                                                                                                                                                                                                                  1\n",
      "👶 #PoshanMaah2020\\n\\n🍽️  #Local4Poshan \\n\\n➡️ शुद्ध पानी की व्यवस्था और घर की स्वच्छता दोनों जरूरी हैं बच्चे की अच्छी सेहत के लिए ।\\n\\n@MinistryWCD @MIB_Hindi @PIBHindi https://t.co/bruckqptaF                                                                                                                                                                                                                                                                                                                                                                                                                                                                                                                                                                                                                                                                                                                                                                                                                                                                                                                                                                                                                                                                                                                                                                                                                                                                                                                                                                                                                                                                                                                                                                                                                                                                                                                                                                                                                                                                                                                                                                                                                                                                                                                                                                                                                                                            1\n",
      "💖💖\\n\"अच्छी सोच ★ प्रेरणादायक सुविचार\"💖 ग्रुप मे आप सभी का स्वागत है 🌹🌹\\nAnd Just Enjoy -:\\nमित्रों सभी ग्रुप समुदाय के नियम कानुन कायदे होते हैं उसी तरह इस अपने समुह के भी कुछ नियम है जिनको आप हम सभी को समान रुप से फोलो करना है ।\\n👥 group rules:-\\n1.- ग्रुप मे अश्लील,\\nजातिवादी,\\nधर्मविरोधी,\\nअफवाहे,\\nराजनीति संबंधित व\\nहिंसा फैंलाने वाली पोस्ट ना करे ।\\n(ऐसी पोस्ट ग्रुप मे पाए जाने पर पोस्ट के रचयिता को हमेशा के लिए बाहर या ब्लॉक कर दिया जाएगा ।)\\n2.- ग्रुप मे\\nFree Recharge,\\nRequirement,\\nJob,\\nखरिदों-बेचो ऐसी पोस्टे Group में ना करें !❌\\n3.- एक सख़्त हिदायत -->>कोई भी Male Member किसी भी Femel Member को तब तक Friend Request ना भेजे जब तक की दोनों परस्पर Femilier ना महसूस करने लगें हो और अप्रिय कार्यवाही से बचें !\\n4.- किसी भी अन्जान लड़की से बिना उसकी इजाजत के (yaar/add me इत्यादि) शब्दों से बात नही करे।\\n5.- ईश्वर की आस्था हमें भी है लेकिन बेवजह उनकी फोटो ना भेजे हां अगर किसी देवी-देवता से सम्बन्धीत कहानी आप डाल रहे है तो बेशक एक सीमा तक आप उनकी फोटो डाल सकते है ।\\n6.- Group में अपनी व किसी अन्य आम व्यक्ति की पर्सनल फोटो भी ना साझा करे ।\\n(विशेष स्थिति या ज्यादा ही जरुरी तो डाल सकते हैं कोई गुनाह नहीं)\\n7.- कोशिश करे ऐसी पोस्ट ना करे जिससे किसी व्यक्ति विशेष या समुदाय को ठेस पहुंचती हो..\\n8.- Others' Group link or page/group shared posts इत्यादि ग्रुप मे ना डाले ।\\n(💓सभी ग्रुप व्यवस्थापक इस विषय पर ध्यान देवे, ऐसी पोस्टों को इस ग्रुप मे स्वीकृति ना देवे, ताकि अपना समुह साफ सुथरा बना रहे 👍)\\n9.- Admin team का सहयोग करें, पोस्ट या किसी भी प्रकार के कमेंट जो अनुचित हो उनकी \"रिपोर्ट टू एडमीन\" करे।\\n10.- ग्रुप के नियम सभी पर समान लागू होते है जिनका आप-हम सभी को पालन करना होता हैं फिर चाहे आप हम ग्रुप के संचालक(Admin) हो या ग्रुप के सदस्य....\\nअश्लील पोस्ट या अश्लील कम्मेन्ट करने वाले को ग्रुप से बाहर या ब्लोक कर दिया जायेगा और उचित कारवाई की जायेगी ।\\nग्रुप के किसी भी सदस्य को अगर कोई अश्लील या गंदी या अनुचित पोस्ट या टिप्पणी दिखाई दे तो उनकी रिपोर्ट टु एडमीन कर दें ।\\nइस ग्रुप में कम से कम 20 से 50 मित्र सदस्य जोड़िये..\\nअगर आप की पोस्ट इस ग्रुप में स्वत् एपुरवल नहीं हो रही तो उसे स्वत् एपुरवल करवाईये ।\\n📌ग्रुप से सम्बन्धीत किसी भी प्रकार की बातचीत आप ग्रुप पर पिन की गयी पोस्ट या घोषणा के रुप मे जोड़ी गयी किसी भी पोस्ट पर कर सकते है । किसी भी प्रकार की शिकायत / सुझाव के लिए ग्रुप admin से बात करें..\\nअच्छी सोच ★ प्रेरणादायक सुविचार 🌟\\n👉ग्रुप लिंक-- https://www.facebook.com/groups/481283325377304/\\n💖💖💖Thanks\\n💖Kríshñá💖💖    1\n",
      "💠अहमदाबाद मेट्रो लाइन की सेवाएं शुरू\\n💠संक्रमण को देखते हुए यात्रियों को उचित दूरी रखना आवश्यक \\n@DDNewsHindi #MetroBackOnTrack #AhmedabadMetro https://t.co/JCVEA86vGB                                                                                                                                                                                                                                                                                                                                                                                                                                                                                                                                                                                                                                                                                                                                                                                                                                                                                                                                                                                                                                                                                                                                                                                                                                                                                                                                                                                                                                                                                                                                                                                                                                                                                                                                                                                                                                                                                                                                                                                                                                                                                                                                                                                                                                                                                     1\n",
      "🔷ऑक्सीजन जाँच अभियान🔷\\nमाननीय मुख्यमंत्री श्री @ArvindKejriwal के आह्वान पर \"आप\" कार्यकर्ताओं द्वारा देशव्यापि अभियान चलाया जा रहा है और उन सभी को ऑक्सीमित्र नाम से संबोधित किया जा रहा है।\\n\\nसिहोरा विधानसभा में उपाध्यक्ष संतोष वर्मा https://t.co/tea6nxnhc2                                                                                                                                                                                                                                                                                                                                                                                                                                                                                                                                                                                                                                                                                                                                                                                                                                                                                                                                                                                                                                                                                                                                                                                                                                                                                                                                                                                                                                                                                                                                                                                                                                                                                                                                                                                                                                                                                                                                                                                                                                                                                                                                                                                           1\n",
      "😂👇\\n#मियां_खलीफा_से_कम_नहीं_है\\nलिब्रलों की नयी प्रिंसेस जिसे चाटने कू रेडी थे कल सब के सब ........\\n\\nजो साऊदी की सो कोल्ड राजकुमारी ट्विटर पर ट्वीट पर ट्वीट पेली जा रही थी और यहाँ के शान्तिदूत भी खुश हो रहे थे कि अब तो बस किसी भी दिन सऊदी भारत पर बम मार देगा, वो अभी दो- तीन दिन पहले लंदन के एक होटल में 7 लोगों के साथ मूँह काला करते हुए दबोच ली गयी, इस खबर को दबाने के लिए तेल के कुओं में रहने वाले मेंढकों ने अखबार को 50 मिलियन डॉलर (करीब 3 अरब रु.) देने की पेशकश भी की कि इस खबर को दबा दिया जाए, मगर अखबार ने ये कहते हुए मना कर दिया कि हम #NDTV नहीं हैं....                                                                                                                                                                                                                                                                                                                                                                                                                                                                                                                                                                                                                                                                                                                                                                                                                                                                                                                                                                                                                                                                                                                                                                                                                                                                                                                                                                                                                                                                                                                                                                                                                                                                                                                                                                                                                                                                          1\n",
      "😎\\nचूहे भी साले इंजीनियर होते हैं!सालों को सब पता ही होता है ! कौन-सी तार काटने से मशीन बंद होगी!\\n😉😉😉😂😂😂                                                                                                                                                                                                                                                                                                                                                                                                                                                                                                                                                                                                                                                                                                                                                                                                                                                                                                                                                                                                                                                                                                                                                                                                                                                                                                                                                                                                                                                                                                                                                                                                                                                                                                                                                                                                                                                                                                                                                                                                                                                                                                                                                                                                                                                                                                                                                   1\n",
      "Length: 5718, dtype: int64\n"
     ]
    }
   ],
   "source": [
    "dups_shape = data.pivot_table(index=['Post'], aggfunc='size')\n",
    "print (dups_shape)"
   ]
  },
  {
   "cell_type": "markdown",
   "metadata": {},
   "source": [
    "#### Calculating the number and percentage of different types of post."
   ]
  },
  {
   "cell_type": "code",
   "execution_count": 8,
   "metadata": {
    "colab": {
     "base_uri": "https://localhost:8080/",
     "height": 118
    },
    "id": "ZLxcrMXpWk8Y",
    "outputId": "d0dbcfee-d3e3-4ace-b775-b6cabaf6cd50",
    "scrolled": false
   },
   "outputs": [
    {
     "name": "stdout",
     "output_type": "stream",
     "text": [
      "             count percentage\n",
      "hate           792     12.58%\n",
      "offensive      742     11.79%\n",
      "non-hostile   3050     48.47%\n",
      "defamation     564     8.963%\n",
      "fake          1144     18.18%\n"
     ]
    }
   ],
   "source": [
    "d={}\n",
    "total=0\n",
    "for i in data['Labels Set']:\n",
    "    ar=list(i.split(','))\n",
    "    for j in ar:\n",
    "        try:\n",
    "            d[j]+=1\n",
    "        except:\n",
    "            d[j]=1\n",
    "        total+=1\n",
    "\n",
    "\n",
    "percentageHolder={}\n",
    "for i in d:\n",
    "    percentageHolder[i]=str((d[i]/total)*100)[:5]+'%'\n",
    "\n",
    "\n",
    "\n",
    "table={'count':d,'percentage':percentageHolder}\n",
    "print(pd.DataFrame(table))"
   ]
  },
  {
   "cell_type": "markdown",
   "metadata": {},
   "source": [
    "#### Represntation of label"
   ]
  },
  {
   "cell_type": "code",
   "execution_count": 9,
   "metadata": {
    "colab": {
     "base_uri": "https://localhost:8080/",
     "height": 357
    },
    "id": "sbCPQocVU1pZ",
    "outputId": "ac082a34-8536-4ce8-917f-6a57d802bcb0"
   },
   "outputs": [
    {
     "data": {
      "image/png": "[encoded data removed]",
      "text/plain": [
       "<Figure size 432x432 with 1 Axes>"
      ]
     },
     "metadata": {},
     "output_type": "display_data"
    }
   ],
   "source": [
    "#pie chart creation\n",
    "\n",
    "labels = list(d.keys())\n",
    "values = list(d.values())\n",
    "plt.figure(figsize=(6,6))\n",
    "plt.pie(values, labels=labels,autopct=\"%1.2f%%\")\n",
    "plt.show()"
   ]
  },
  {
   "cell_type": "markdown",
   "metadata": {},
   "source": [
    "Analysis:\n",
    "\n",
    "\n",
    "Data is biased towards non-hostile post."
   ]
  },
  {
   "cell_type": "code",
   "execution_count": 12,
   "metadata": {
    "colab": {
     "base_uri": "https://localhost:8080/",
     "height": 547
    },
    "id": "eqzu6pkKpD4H",
    "outputId": "684775c9-1446-495a-aa63-56284337b084"
   },
   "outputs": [
    {
     "data": {
      "text/plain": [
       "([0, 1, 2, 3, 4],\n",
       " [Text(0, 0, ''),\n",
       "  Text(0, 0, ''),\n",
       "  Text(0, 0, ''),\n",
       "  Text(0, 0, ''),\n",
       "  Text(0, 0, '')])"
      ]
     },
     "execution_count": 12,
     "metadata": {},
     "output_type": "execute_result"
    },
    {
     "data": {
      "image/png": "[encoded data removed]",
      "text/plain": [
       "<Figure size 432x288 with 1 Axes>"
      ]
     },
     "metadata": {},
     "output_type": "display_data"
    }
   ],
   "source": [
    "# Bar Plot\n",
    "plt.bar(d.keys(), d.values(), 0.6, color=['g','g','r','g','g'])\n",
    "plt.xlabel(\"Labels\", labelpad=14)\n",
    "plt.ylabel(\"Frequency\", labelpad=14)\n",
    "# sb.set(font_scale=1.4)\n",
    "plt.xticks(fontsize=14, rotation=90)"
   ]
  },
  {
   "cell_type": "markdown",
   "metadata": {
    "id": "SQ5Y6zW_U1pb"
   },
   "source": [
    "Analysis:\n",
    "\n",
    "1) We observe that non-hostile posts has the highest proportion i.e more than 3000."
   ]
  },
  {
   "cell_type": "code",
   "execution_count": null,
   "metadata": {},
   "outputs": [
    {
     "name": "stdout",
     "output_type": "stream",
     "text": [
      "Translated(src=hi, dest=en, text=Uditraj G dare to raise something to the leader, pronunciation=None, extra_data=\"{'translat...\")\n",
      "Translated(src=hi, dest=en, text=The government always brings new schemes to increase the earnings of farmers, so that no more financial burden on them.\n",
      "\n",
      "Https://tiksio/8iy2njrshbas, pronunciation=None, extra_data=\"{'translat...\")\n",
      "Translated(src=hi, dest=en, text=Sushant has been a business deal, on June 9, he does remember the day after the murder of Sushant deal Dipesh? See asks #LIVE the Republic of India Arnab India ': https://t.co/G945HvzM0Z https://t.co/KfH7xF1IdM, pronunciation=None, extra_data=\"{'translat...\")\n",
      "Translated(src=hi, dest=en, text=@ Prabhav218 gives law JNU impression Kmine people say Hindu Constitution everyone equal rights. The truth is that it does not have equal rights., pronunciation=None, extra_data=\"{'translat...\")\n",
      "Translated(src=hi, dest=en, text=# Unlock4guidelines - Unlock issued guidelines to -4\n",
      "\n",
      "- will start train services across the country from September 7\n",
      "- since September 21, rallies and allow 100 people in the rest function\n",
      "- No exemption containment zone\n",
      "- cinema will be closed now\n",
      "- 9 to 12 students will go to school after 21 September. Https://tiksio/4e6lysg0VR, pronunciation=None, extra_data=\"{'translat...\")\n",
      "Translated(src=hi, dest=en, text=China argued the UN to India's opposition only ajar Msud how we keep, do not believe terrorist. Handful of die immersed in urine betrayals. Why now do you think the people of India that they voted for the opposition to ... Vikram Sharma, pronunciation=None, extra_data=\"{'translat...\")\n",
      "Translated(src=hi, dest=en, text=Record case #Corona country\n",
      "#ZeeJankariOnCorona\n",
      "@Ksherin_sherry Https://tiksio/V6UddREAtW, pronunciation=None, extra_data=\"{'translat...\")\n",
      "Translated(src=hi, dest=en, text=Listening to #Students left #JEE Exam center rest will smile on Parents to face with students\n",
      "Https://tiksio/TQ7nfIv0I0 Https://tiksio/ggrcrdyaryaesh6a, pronunciation=None, extra_data=\"{'translat...\")\n",
      "Translated(src=hi, dest=en, text=#AkshayKumar would soon be seen in the Bear Grylls show \"Into the Wild with Bear Grylls.\n",
      "\n",
      "Https://tiksio/wGp2WS0wuM, pronunciation=None, extra_data=\"{'translat...\")\n",
      "Translated(src=hi, dest=en, text=# Jivnsnwad: We would like to take the example of the need to bother, because the struggle front. The new city would be so much new that will we have passed a long time in your root. We are definitely in debt, but we do not want to lose. He fought without.\n",
      "#Jevnsmwd\n",
      "@Dyashnkrni\n",
      "Https://tiksio/nd7troF0JF Https://tiksio/cmashk2nj8s, pronunciation=None, extra_data=\"{'translat...\")\n",
      "Translated(src=hi, dest=en, text=RT @ShilpiSinghINC: 48000 houses has ordered the break, does not matter to anyone!\n",
      "\n",
      "An illegal part of the first houses in 5 rich a ..., pronunciation=None, extra_data=\"{'translat...\")\n",
      "Translated(src=hi, dest=en, text=When BJP spokesperson @sambitswaraj did respond Congress spokesman @SupriyaShrinate said Head Mistress then listen Congress spokesman\n",
      "# Hlla_bol @anjanaomkashyap #RE https://t.co/WWDYuWikCE, pronunciation=None, extra_data=\"{'translat...\")\n",
      "Translated(src=hi, dest=en, text=Bears appear in dangerous jungles with Grylls Akshay Kumar, released video\n",
      "\n",
      "@Akshykumr\n",
      "@Beargrylls\n",
      "\n",
      "Https://tiksio/VPLwEQsqAv, pronunciation=None, extra_data=\"{'translat...\")\n",
      "Translated(src=hi, dest=en, text=Rape by-law on Khan's daughter.\n",
      "Now quatation it arises that the child will say what the real-law of Khan., pronunciation=None, extra_data=\"{'translat...\")\n",
      "Translated(src=hi, dest=en, text=Congress Kangana original Ranaut will BJP campaign in Bihar! #NATIONALNEWS, pronunciation=None, extra_data=\"{'translat...\")\n",
      "Translated(src=hi, dest=en, text=Keep home living in isolation people with thermometer and pulse oximeter. If someone came cough or fever or respiratory swollen immediately helpline number. 18001805145 or to contact @ CMHelpline1076: ACS, Medical and Health, Mr. Amit Mohan Prasad\n",
      "\n",
      "@Kshisirgouf, pronunciation=None, extra_data=\"{'translat...\")\n",
      "Translated(src=hi, dest=en, text=Former Prime Minister. Manmohan Singh paid homage to former President Pranab Mukherjee 10 Rajaji Marg came\n",
      "\n",
      "#PranabMukherjee Https://tiksio/egBXvOgClw, pronunciation=None, extra_data=\"{'translat...\")\n",
      "Translated(src=hi, dest=en, text=IPL leave @harbhajan_singh? @ChennaiIPL official update has\n",
      "\n",
      "Https://tiksio/9zFnEXdtAk\n",
      "\n",
      "#ःArbjnsidarg # IPL2020 Https://tiksio/s9dpfarfaw3i, pronunciation=None, extra_data=\"{'translat...\")\n",
      "Translated(src=hi, dest=en, text=Arrest who shed realization #Saharanpur checking, two vicious criminals arrested by the police, Scotty, recovered 2 pistol, mobile, PA Kotwali police arrested. @Shrnpurpol @digshrnpur @uppoliche #polichemedianews, pronunciation=None, extra_data=\"{'translat...\")\n",
      "Translated(src=hi, dest=en, text=Japan to win the Nobel Prize to claim professor # Tasuku_honjo working in China for 4 years, Corona is natural not artificial virus that has made China., pronunciation=None, extra_data=\"{'translat...\")\n",
      "Translated(src=hi, dest=en, text=Were arrested disguises while illegal arms supplies terrorist jihadist fuel cans to mass killings of Hindus and Sikhs in Delhi., pronunciation=None, extra_data=\"{'translat...\")\n",
      "Translated(src=hi, dest=en, text=The unity of the dog is opposed ideas but still listened today to said Bhatia glory Ashutosh Sir news channel slap on both ears strike was sitting journalist Rohit Sardana in solidarity with the journalist in him I was very sad, pronunciation=None, extra_data=\"{'translat...\")\n",
      "Translated(src=hi, dest=en, text=Pranab Mukherjee has rejected 28 mercy petitions involving 37 applicants. Was president before President Pratibha Patil had saved from the gallows, the most 30 people. Pranab to forgive just punishment of seven.\n",
      "Https://tiksio/lg44ulohri4hri, pronunciation=None, extra_data=\"{'translat...\")\n",
      "Translated(src=hi, dest=en, text=Has over China in Ladakh deployed again to its J-20 fighter aircraft, the persistent fly\n",
      "#IndiaChinaFaceOff\n",
      "\n",
      "Https://tiksio/2VfWAZenTi, pronunciation=None, extra_data=\"{'translat...\")\n",
      "Translated(src=hi, dest=en, text=@ LiHusin1 @KanganaTeam Ha Bay severed land of nativity Hlala of puppy you are not aware of your Abu Who is your Khala know Chudaikhana do not know your Abu Maulavi, uncle, brother killed or neighborhood with Abdul Farooq, Rhys uncle may know thy Abu Haksala pork your ..., pronunciation=None, extra_data=\"{'translat...\")\n",
      "Translated(src=hi, dest=en, text=Home Minister Amit Shah, battling bone cancer, pronunciation=None, extra_data=\"{'translat...\")\n",
      "Translated(src=hi, dest=en, text=Twitter will pay a lot of Cutiye, which will brother get opposing Hindus ... they're own fake id,\n",
      "Now just look at the Chaman Cutiye, kept the pistol Pandey name and is engaged against the Hindus.\n",
      "Will pony a mercenary, 100, will be 50 able to just only to resist. Https://tiksio/cwFuCzYP4O, pronunciation=None, extra_data=\"{'translat...\")\n",
      "Translated(src=hi, dest=en, text=Theft record thief CCTV, were piled recovered all the gold coins\n",
      "@Cpt_ivne @delhifoliche\n",
      "#Delhi\n",
      "Https://tiksio/CWo9EqedoG, pronunciation=None, extra_data=\"{'translat...\")\n",
      "Translated(src=hi, dest=en, text=The so prepare before coming to TV this poor man, pronunciation=None, extra_data=\"{'translat...\")\n",
      "Translated(src=hi, dest=en, text=Now it is impossible to feel that someone is the guy who has been retired and no longer play any cricket, he will return to the CSK. Perhaps, that he may re-auction and no other team buy them '\n",
      "\n",
      "#Csk #suresriaen\n",
      "Https://tiksio/lPZ3fkb8Cj, pronunciation=None, extra_data=\"{'translat...\")\n",
      "Translated(src=hi, dest=en, text=New national education policy: three language policy rejected by the Tamil Nadu government, said Amal will be two languages\n",
      "\n",
      "Https://tiksio/deEf7BQ4i3, pronunciation=None, extra_data=\"{'translat...\")\n",
      "Translated(src=hi, dest=en, text=The second major attack on India's informal economy GST: Rahul Gandhi\n",
      "Https://tiksio/0ckrshyf0rnu, pronunciation=None, extra_data=\"{'translat...\")\n",
      "Translated(src=hi, dest=en, text=Yogi is the result of rigorous Aditya G Uttar Pradesh left behind all Vidmbnaan have had all-round development on the way. Hail @myogiadityanath law., pronunciation=None, extra_data=\"{'translat...\")\n"
     ]
    },
    {
     "name": "stdout",
     "output_type": "stream",
     "text": [
      "Translated(src=hi, dest=en, text=JEE: first shift end exams, by leaving students had said fears about the corona, but the joy is that we have a year left https://t.co/9wHy3UhO11 #JEEMain #JEE is, pronunciation=None, extra_data=\"{'translat...\")\n",
      "Translated(src=hi, dest=en, text=When developing countries suffering around the world. The state faced way bout this difficult time is commendable. Yogi has also died of G's father but he continued to serve successive public showed its commitment to the people of the state, pronunciation=None, extra_data=\"{'translat...\")\n",
      "Translated(src=hi, dest=en, text=President headed @PankajSinghAAP Minister held a meeting of officials today Bhopal zone which has been training on the \"oxygen probe operation starting from September 1\" and Oximeter were distributed.\n",
      "@Arvindkejrivl @AapKaGopalRai Https://tiksio/6nmrinlg7d, pronunciation=None, extra_data=\"{'translat...\")\n",
      "Translated(src=hi, dest=en, text=Stephen Begun by the Indo-US strategic partnership and the third held virtual through the platform Indo-US talks in Leadership Summit., pronunciation=None, extra_data=\"{'translat...\")\n",
      "Translated(src=hi, dest=en, text=What humanity is dead?\n",
      "\n",
      "Https://tiksio/shcrk7knkrshcshjc, pronunciation=None, extra_data=\"{'translat...\")\n",
      "Translated(src=hi, dest=en, text=@LambaAlka He is born of the union branch union branch way spread lies panic spreads that it has initiated education from an early age, it is plasma donated by Corona percent were properly made official through all corruption knowledge not it, pronunciation=None, extra_data=\"{'translat...\")\n",
      "Translated(src=hi, dest=en, text=22 grams of marijuana CBI doing her report is completed Media sleeping hundred and fifty grams of marijuana So where Bihar Chief Minister will Raiding Nitish Kumar's bungalow set back 22 grams, pronunciation=None, extra_data=\"{'translat...\")\n",
      "Translated(src=hi, dest=en, text=Sushant Singh Special 6 'team went CBI from Delhi to open the secrets of the suspicious death of Rajput would Recreation of Crime Scene at Sushant home.\n",
      "#Susntsidargriajput @ Pramodsharm29\n",
      "\n",
      "Https://tiksio/sibe07nahris, pronunciation=None, extra_data=\"{'translat...\")\n",
      "Translated(src=hi, dest=en, text=#Lknu\n",
      "CP will Sujit Pandey press conference,\n",
      "Must be on issues press conference,\n",
      "3 pm will press conference at the police line.\n",
      "@Lcopoliche @lacocp @uppoliche #pulis #folichelaivesnatter #folichebrutlity #folichehriafaorm #policemedianews Https://tiksio/D9ZObVaNm0, pronunciation=None, extra_data=\"{'translat...\")\n",
      "Translated(src=hi, dest=en, text=Photo shows a blue print of the Babri Hospital, pronunciation=None, extra_data=\"{'translat...\")\n",
      "Translated(src=hi, dest=en, text=Amrapali list of 28 projects online, the investor or buyer searches your name here\n",
      "Https://tiksio/aHcisFPei8 via @nwbrttimes\n",
      "#Amrpli #Property Https://tiksio/7OsydqiXdE, pronunciation=None, extra_data=\"{'translat...\")\n",
      "Translated(src=hi, dest=en, text=Show the way to the United States of Delhi model of plasma therapy has saved the lives of hundreds of people in Delhi. The story of humanity and the message of brotherhood Paramjit law will inspire Sure you.\n",
      "\n",
      "#DonatePlasmaSaveLives Https://tiksio/FmCuQMN7Ix, pronunciation=None, extra_data=\"{'translat...\")\n",
      "Translated(src=hi, dest=en, text=Recently a Kashmiri Muslim girl to a Hindu woman beaten by goons RSS feed Shri | India is occupied by RSS | His media, law enforcement, have complete control over the judiciary and national security | What this country remain stable so if it goes on?, pronunciation=None, extra_data=\"{'translat...\")\n",
      "Translated(src=hi, dest=en, text=The country's unity, aborted to protect the integrity and sovereignty Article 370: Vice President @MVenkaiahNaidu\n",
      "\n",
      " Description: https://t.co/622CJ2Wnoj, pronunciation=None, extra_data=\"{'translat...\")\n",
      "Translated(src=hi, dest=en, text=After the # sabotage #JNU # Girls # Spread Hostel # # stuff are blessed here student.\n",
      "Very sorry went seeing all these people books burst., pronunciation=None, extra_data=\"{'translat...\")\n",
      "Translated(src=hi, dest=en, text=Sudeep Birthday: After studying engineering came in acting world Kichcha Sudeep, romantic and too many interesting things\n",
      "@Kichcsudep\n",
      "Https://tiksio/Ml9d7IVo8Q, pronunciation=None, extra_data=\"{'translat...\")\n",
      "Translated(src=hi, dest=en, text=#TaalThokKe: large evidence against Rhea!\n",
      "\n",
      "Tweet on #SushantKaSachKya Give your opinion\n",
      "Watch Live - Https://tiksio/gfUtRWrNnZ Https://tiksio/cn6hriayyna, pronunciation=None, extra_data=\"{'translat...\")\n",
      "Translated(src=hi, dest=en, text=Today in a banquet hall, we began Corona center of 100 beds. The oxygen in every bed. Now will maintain Corona center in many banquet halls all over Delhi in this way.\n",
      "\n",
      "#DelhiFightsCorona Https://tiksio/aunpnflb5k, pronunciation=None, extra_data=\"{'translat...\")\n",
      "Translated(src=hi, dest=en, text=Corrupted the entire system in 90% judge corrupt Justice Katju India in India and the lost need Revolution people fool expect justice from Justice Katju Court Justice Katju need to revolutionize corrupt Justice Katju country ministers from India Sentry, pronunciation=None, extra_data=\"{'translat...\")\n",
      "Translated(src=hi, dest=en, text=@KapilMishra_IND these fuckin ticket Blackia go so brings courage is, pronunciation=None, extra_data=\"{'translat...\")\n",
      "Translated(src=hi, dest=en, text=RT @ShilpiSinghINC: JCB would expect the media to support Kangana when breaking 48,000 slum and would oppose it too! ..., pronunciation=None, extra_data=\"{'translat...\")\n",
      "Translated(src=hi, dest=en, text=Make an election issue in Bihar Sushant Singh Rajput's death, said BJP slogan, \"Do not forget, it will not forget\"\n",
      "\n",
      "Report @ kumarprakash4u\n",
      "\n",
      "Https://tiksio/HCp3i2VURp, pronunciation=None, extra_data=\"{'translat...\")\n",
      "Translated(src=hi, dest=en, text=The re-infection of patients cured by Corona in Bangalore doubt https://t.co/eU5cqZqNUb, pronunciation=None, extra_data=\"{'translat...\")\n",
      "Translated(src=hi, dest=en, text=In this picture are plush Sohfe and world-class interior design is not a drawing room it was bought for the prime minister Boing- 777 VVIP aircraft, with its decked and luxury Shaukat you can imagine yourself to public servants and how luxury has become accustomed to live full lives with guards said she would come to India with world class infrastructure aircraft August or September, then simply turn abroad for Modi.\n",
      "\n",
      "Equipped with a range of modern facilities arrangements are being purchased with 2 Boeing VVIP aircraft worth about Rs 8458 crore!\n",
      "\n",
      "Indians you got confused with the false dreams of the entire nation of Xiao Fkiri and watchmen shall live splendor it was true shed tears of how alligators before becoming Prime Minister Sir Honor was misleading for what has now look reality was ,,\n",
      "\n",
      "Says 10 million suit wearing mystic himself tells beggar herself using food to Japan and drink Wake-India Wake .., pronunciation=None, extra_data=\"{'translat...\")\n",
      "Translated(src=hi, dest=en, text=Before IPL are enjoying the private beach player @lionsdenkxip\n",
      "\n",
      " Https://tiksio/WKmZJCuSpc\n",
      "\n",
      "#KXIP # Ifla2020 #IPLinUAE Https://tiksio/dXuLnXisgv, pronunciation=None, extra_data=\"{'translat...\")\n",
      "Translated(src=hi, dest=en, text=Student was studying in 11th class, Practical exam took place school went to test them was returning from school, then sitting in ambush outside of school is a Muslim youth were the aged reportedly about 25 to 26 years, annually came with a sword, and stabbed to Diakmuslim man was stabbed with a sword Hindu girls worship the student's neck, daughter of Shankar Lal Kotma Anupgd killing of Madhya Pradesh as the reason he was denied his so-called love Jihad love, we Hindus are so poor in this country. ऒr How safe are these further Jehadio. Opens my blood that I, pronunciation=None, extra_data=\"{'translat...\")\n",
      "Translated(src=hi, dest=en, text=Kangana Ranaut compared POK of Mumbai, will now filed a traitor against them? What Kangana will gel?\n",
      "\n",
      "Or be let off the hook in terms of race and religion?, pronunciation=None, extra_data=\"{'translat...\")\n",
      "Translated(src=hi, dest=en, text=What on Corona disaster GDP of bad data in the first quarter of fiscal responsibility?\n",
      "#Jeedeepi #coronfndemic #indianechonomy, pronunciation=None, extra_data=\"{'translat...\")\n"
     ]
    },
    {
     "name": "stdout",
     "output_type": "stream",
     "text": [
      "Translated(src=hi, dest=en, text=#Nordbd\n",
      "A case of suicide, the hotel manager,\n",
      "Wife, sister, including a case on 4 people,\n",
      "Video poison was created account,\n",
      "Wife-case families have been told would responsible for the death, Civil Lines police station. @Mordbdpoliche @digmordbd @uppoliche #uppinnews #uffoliche #polichemedianews, pronunciation=None, extra_data=\"{'translat...\")\n",
      "Translated(src=hi, dest=en, text=If store distances up to 2 km will be on foot., pronunciation=None, extra_data=\"{'translat...\")\n",
      "Translated(src=hi, dest=en, text=The Indian government is going to ban the use of urea in the fields. Farming will now stop using urea government, pronunciation=None, extra_data=\"{'translat...\")\n",
      "Translated(src=hi, dest=en, text=RT @aadhiIa: Thackeray BMC army entered bang in POK\n",
      "\n",
      "Atँkwadi were devastated bunker organizations\n",
      "\n",
      "Federal terrorists, including the Lashkar-e-Noe ..., pronunciation=None, extra_data=\"{'translat...\")\n",
      "Translated(src=hi, dest=en, text=Big news https://t.co/DCIpXa2DdA this time, pronunciation=None, extra_data=\"{'translat...\")\n",
      "Translated(src=hi, dest=en, text=The Corona mounting case and the other festivals, security is your thinking? Https://tiksio/QXENYhLTau, pronunciation=None, extra_data=\"{'translat...\")\n",
      "Translated(src=hi, dest=en, text=#Nonsens_modi\n",
      " Chandrayaan mission was about the success that Modi had went to waste hard months of which scientists there was going to disturb, pronunciation=None, extra_data=\"{'translat...\")\n",
      "Translated(src=hi, dest=en, text=Not devotion or faith or knowledge !!\n",
      "Event, management and your tell !!\n",
      "Who is wearing slippers shoes @narendramodi live in temples?, pronunciation=None, extra_data=\"{'translat...\")\n",
      "Translated(src=hi, dest=en, text=Made as the government soon on Pbji game it is playing with baby's life ban Pbji. Living to life the next generation two, pronunciation=None, extra_data=\"{'translat...\")\n",
      "Translated(src=hi, dest=en, text=#IndianRailways be Surkrn than 960 stations\n",
      "\n",
      "550 stations, which were given orders for 198 MW solar rooftop capacity are under execution,: https://t.co/H7UyoXSGMK\n",
      "\n",
      "@Hriaelninindia @fiyushgoylofarfach @fiyushgoyl, pronunciation=None, extra_data=\"{'translat...\")\n",
      "Translated(src=hi, dest=en, text=@LambaAlka is not in Kashmir, the picture still video look like that will get to see a little trouble and will come to know recently viewed eyes Ladakh go information will get full access betrayals of real photo, pronunciation=None, extra_data=\"{'translat...\")\n",
      "Translated(src=hi, dest=en, text=Every life is precious.\n",
      "#AAP are Oksimitr check all oxygen.\n",
      "# 4september #nadhyfradesh\n",
      "@Arvindkejrivl @aapkgoplriae @adakushnrng_ @PankajSinghAAP Https://tiksio/PWWm3vvpOZ, pronunciation=None, extra_data=\"{'translat...\")\n",
      "Translated(src=hi, dest=en, text=Such as today's craze for Delhi Chief Minister @ArvindKejriwal slogans were in the World Cup match between India and Pakistan,\n",
      "* Win brother will win Kejriwal ... *\n",
      "@Arvindkejrivl\n",
      "@Snjayasdshln, pronunciation=None, extra_data=\"{'translat...\")\n",
      "Translated(src=hi, dest=en, text=IT Minister Ravi Shankar Prasad has written a letter to Mark Zuckerberg, said - says abuse of PM Facebook employee Modi https://t.co/lORjp2gOy3, pronunciation=None, extra_data=\"{'translat...\")\n",
      "Translated(src=hi, dest=en, text=The Korana withdraw placement offers round companies, student upset https://t.co/qRgKcLnkpl, pronunciation=None, extra_data=\"{'translat...\")\n",
      "Translated(src=hi, dest=en, text=Drop Kँgna wall are an attack on democracy ...\n",
      "\n",
      "Hey Ku'7tto\n",
      "Further poor home in Gujarat\n",
      "Which democracy was safe to make wall .., pronunciation=None, extra_data=\"{'translat...\")\n",
      "Translated(src=hi, dest=en, text=In the case of Kfil Khan High Court judge read the yogi to focus Benkhab unjust face Yogi government law, the High Court said \"Kfil Khan appealed speech national unity and integrity is\" and Yogi G declared national to Kfil can be \"embarrassing\" #drkafeelkhan https://t.co/nB9Jhlvm93, pronunciation=None, extra_data=\"{'translat...\")\n",
      "Translated(src=hi, dest=en, text=The way to build the state's first expressway clean, form four-lane road from Aurangabad to Jaynagar\n",
      "\n",
      "#Bhihr #akspresve #aurngbd\n",
      "\n",
      "Https://tiksio/gg9hcshfarpcrnfa, pronunciation=None, extra_data=\"{'translat...\")\n",
      "Translated(src=hi, dest=en, text=Top Maharashtra graph #Corona infection in the country, IMA problem of fear said, and hospital medicine, lack of testing and oxygen\n",
      "Https://tiksio/aunbjrmwb2k, pronunciation=None, extra_data=\"{'translat...\")\n",
      "Translated(src=hi, dest=en, text=It may also have an infectious disease, which is a so staying alert, alert us to defend. We defended the methods of infection and follow firmly: ACS, Medical and Health, Mr. Amit Mohan Prasad\n",
      "\n",
      "@Kshisirgouf, pronunciation=None, extra_data=\"{'translat...\")\n",
      "Translated(src=hi, dest=en, text=RT @_Pb_swain_: today in an electric shop and said \"a Rahul two\"\n",
      "\n",
      "He gave away a tube, currently promoting are long does not ..., pronunciation=None, extra_data=\"{'translat...\")\n",
      "Translated(src=hi, dest=en, text=This photo Hearts enjoyed touching Mahindra, he specifically requested Nitin Gadkari\n",
      "Https://tiksio/5hYMCFz5Pe via @nwbrttimes\n",
      "#Anandnahindra #NitinGadkari Https://tiksio/nfeःibtppri, pronunciation=None, extra_data=\"{'translat...\")\n",
      "Translated(src=hi, dest=en, text=I talk to farmers and can be called many things ...\n",
      "\n",
      "Wait Bia Please speak, pronunciation=None, extra_data=\"{'translat...\")\n",
      "Translated(src=hi, dest=en, text=Unnao rape case convict BJP MLA Kuldeep Singh Sanger was granted bail by the High Court. Now the question arises that the judge has given bail, if the victim is the daughter of the judge, even if he gives the judge granted bail? Shame on such judges. She wolf hidden in the guise of not judge, but the judge.\n",
      " @Lambalk, pronunciation=None, extra_data=\"{'translat...\")\n",
      "Translated(src=hi, dest=en, text=@RajeshpandeyAm @amethipolice -Please for information and necessary action., pronunciation=None, extra_data=\"{'translat...\")\n",
      "Translated(src=hi, dest=en, text=By conversion will SIT probe involving marriage or marriage.\n",
      "#Uttrfradesh #kanpur\n",
      "\n",
      "Https://tiksio/26r4shlarwjrः, pronunciation=None, extra_data=\"{'translat...\")\n",
      "Translated(src=hi, dest=en, text=Expressing grief over Vice President @MVenkaiahNaidu the death #PranabMukherjee said, He that graced with the dignity of every rank and poise it.\n",
      "\n",
      "With his death, India has lost a great leader\n",
      "\n",
      "Https://tiksio/K5ivtqfe7M Https://tiksio/K6MXLfak6I, pronunciation=None, extra_data=\"{'translat...\")\n",
      "Translated(src=hi, dest=en, text=AAP sought by 50 thousand rupees compensation per hectare suture crop lines Kejriwal government failure.\n",
      "@Arvindkejrivl @aapkgoplriae @PankajSinghAAP Https://tiksio/FKkRpuruLm, pronunciation=None, extra_data=\"{'translat...\")\n",
      "Translated(src=hi, dest=en, text=It now needs to drive from Delhi on the UP-Bihar: Ramesh Bidhuri\n",
      "BJP MP Ramesh Bidhuri said should be banished from the capital of Uttar Pradesh, Bihar, pronunciation=None, extra_data=\"{'translat...\")\n",
      "Translated(src=hi, dest=en, text=This video recently crashed in the Ethiopian Airlines. Boom found that viral video from 2013 shows a cargo cargo plane crashed in Dubai in Afghanistan, not Ethiopian passenger plane which crashed recently. Boarded the aircraft went to killing all 157 passengers.\n",
      "\n",
      "Recently the Ethiopian Airlines Crash Video, pronunciation=None, extra_data=\"{'translat...\")\n",
      "Translated(src=hi, dest=en, text=No Sushant of justice 'sponsored' interview\n",
      "Tweet on #IAmSushant Give your opinion\n",
      "Https://tiksio/IXQwI6IUdn\n",
      "@Aditi_tygi @scinarorr\n",
      "@Kshehshd_ind @svetsidargkirt @ishkarnbःandahrii @ Shvmy39 @kngnrnut @ Adakyl9l2\n",
      " @ Sekharsumn7\n",
      "\n",
      " LIve- Https://tiksio/IXQwI6IUdn Https://tiksio/a8s4ः0pk, pronunciation=None, extra_data=\"{'translat...\")\n",
      "Translated(src=hi, dest=en, text=The son of Baijan ....\n",
      "Fruit of the water of the river is saving washed clean water.\n",
      "Hindus, buy fruits from this great patriotic Pryavarnpremi fast Navratri.\n",
      "Jai Mata Di !!!!!!!!, pronunciation=None, extra_data=\"{'translat...\")\n",
      "Translated(src=hi, dest=en, text=RT @ WasiuddinSiddi1: \"is an anchor comes and says a special community infiltrate UPSC whether it can be more deadly helpful? Like ..., pronunciation=None, extra_data=\"{'translat...\")\n"
     ]
    },
    {
     "name": "stdout",
     "output_type": "stream",
     "text": [
      "Translated(src=hi, dest=en, text=I'm with the privatization ...\n",
      "\n",
      "Because 90% Govt of India. Employees take salary to work, and take bribes to work!, pronunciation=None, extra_data=\"{'translat...\")\n",
      "Translated(src=hi, dest=en, text=Mehul Choksi and Rana Kapoor paid to #RajivGandhiFoundation; Jinnesh Shah Foundation also paid Rs 50 lakh BJP\n",
      "\n",
      "Full press conference: Https://tiksio/6HNzre8Q3z Https://tiksio/T5zZ0QlsSf, pronunciation=None, extra_data=\"{'translat...\")\n",
      "Translated(src=hi, dest=en, text=Tunnel the Pandavas in the Mahabharata era was built this place in Bihar, where local people are farming today\n",
      "\n",
      "#Nahbrt #bhihr\n",
      "\n",
      "Https://tiksio/DVTH8tvQ3u, pronunciation=None, extra_data=\"{'translat...\")\n",
      "Translated(src=hi, dest=en, text=#Folticsdinbr\n",
      "- salute bravery\n",
      "- Modi today Tamil Nadu tour\n",
      "- Return of the rebel BJP! Https://tiksio/MVupTqjtnl, pronunciation=None, extra_data=\"{'translat...\")\n",
      "Translated(src=hi, dest=en, text=Honorable MP Ranjan Gogoi Ji received the news of being infected Corona. I, World creator pray for their health benefits of Lord Rama., pronunciation=None, extra_data=\"{'translat...\")\n",
      "Translated(src=hi, dest=en, text=The second time in 24 hours, cross-contamination of 90 thousand\n",
      "#ZeeJankariOnCorona @riportr_pooja Https://tiksio/kndsebfadg, pronunciation=None, extra_data=\"{'translat...\")\n",
      "Translated(src=hi, dest=en, text=Peaceful protest, really? Speaking two also defeats made the Delhi Police., pronunciation=None, extra_data=\"{'translat...\")\n",
      "Translated(src=hi, dest=en, text=NEET-in JEE examinations in Mumbai for the students to facilitate 46 additional local trains craft set\n",
      "Https://tiksio/vpyDxkPQPk, pronunciation=None, extra_data=\"{'translat...\")\n",
      "Translated(src=hi, dest=en, text=Modi pays tributes to the nation's stock photo of Pranab Mukherjee ...\n",
      "\n",
      "News: - https://t.co/NoJ7uQ7NDQ https://t.co/FmKxoiEVKC, pronunciation=None, extra_data=\"{'translat...\")\n",
      "Translated(src=hi, dest=en, text=Continue Oksimitr campaign #AAP in various parts of the country ...\n",
      "\n",
      "#AAPKeOxiMitra Https://tiksio/3mc0urshjoj, pronunciation=None, extra_data=\"{'translat...\")\n",
      "Translated(src=hi, dest=en, text=Delhi's Lodhi were consigned to flames amid with full state honors in Road crematorium former President\n",
      " Https://tiksio/4dA67gihQw, pronunciation=None, extra_data=\"{'translat...\")\n",
      "Translated(src=hi, dest=en, text=Drunken, fake nationalist, Kejriwal no use. Be careful when voting in the future, Delhi\n",
      "\n",
      "Delhi Chief Minister Arvind Kejriwal on Facebook Live Video drunk during the recording and video to show the said wobble fake., pronunciation=None, extra_data=\"{'translat...\")\n",
      "Translated(src=hi, dest=en, text=Six accused #ISIS confessed his crime before a court #Delhi.\n",
      "\n",
      "Https://tiksio/nbkshifab45au, pronunciation=None, extra_data=\"{'translat...\")\n",
      "Translated(src=hi, dest=en, text=# RealmeX7 and # realmex7pro launch, will be at the rear of photography setup 4 cameras\n",
      "# Hriaalme7seris\n",
      "Https://tiksio/pKzSxcXXe2, pronunciation=None, extra_data=\"{'translat...\")\n",
      "Translated(src=hi, dest=en, text=Bollywood actress Kangana Ranaut Union Home Ministry 'Y' security category\n",
      "@Kngnteam #kngnrianaut\n",
      "Https://tiksio/B6pkX9J2e8, pronunciation=None, extra_data=\"{'translat...\")\n",
      "Translated(src=hi, dest=en, text=District September 2 (Wednesday) by the Department of Fisheries in Tuiyan in the morning and half at 10 village bhattu section in saltwater will be conducting one-day seminar on white shrimp fishery. Program chief Deputy Commissioner Dr. V. Singh Bangar. @Chmohry @diprःaryan @DFatehabad @ddnewsःisr, pronunciation=None, extra_data=\"{'translat...\")\n",
      "Translated(src=hi, dest=en, text=Million Kovid said in mind radio address has already been free to treat patients -19 |, pronunciation=None, extra_data=\"{'translat...\")\n",
      "Translated(src=hi, dest=en, text=Bihar has the same work, are performed demanding equal pay police guest professors baton\n",
      "\n",
      "Report @ kumarprakash4u\n",
      "\n",
      "Https://tiksio/lsukhakancshyap, pronunciation=None, extra_data=\"{'translat...\")\n",
      "Translated(src=hi, dest=en, text=Gathering of people in such large numbers outside Jama Masjid in Bandra is a matter of concern. They called you? If they do not stuff their hands had to catch the train to go back home?, pronunciation=None, extra_data=\"{'translat...\")\n",
      "Translated(src=hi, dest=en, text=The rims and Kelly bungalow Ranchi with the approaching day of assembly elections in Bihar began to grow stir. #Bhihr #laluyadv # biharelection2020 | @satyajeetAT Https://tiksio/j2ISl4DDWt, pronunciation=None, extra_data=\"{'translat...\")\n",
      "Translated(src=hi, dest=en, text=Unlock take what kind of care -4?\n",
      " \n",
      "#IndiaFightsCorona # COVID19\n",
      "@Pib_india @frkshjwdekr @shashidigital Https://tiksio/YUaelPQlg9, pronunciation=None, extra_data=\"{'translat...\")\n",
      "Translated(src=hi, dest=en, text=Doctors in Mumbai Manisha went dead after treating 188 Corona patient Patil. They could not save themselves, pronunciation=None, extra_data=\"{'translat...\")\n",
      "Translated(src=hi, dest=en, text=JEE exams start today: Students arrived masks and gloves, wearing centers, social framed circle of distancing; Someone has traveled 100 km by bike https://t.co/uPiNugwu78 #JEEMain #SocialDistancing @EduMinOfIndia @DrRPNishank, pronunciation=None, extra_data=\"{'translat...\")\n",
      "Translated(src=hi, dest=en, text=Uncle, Htyaः @ImRaina the types of the asked who killer @capt_amarinder Punjab?\n",
      "Https://tiksio/5bndtlyaocu\n",
      "\n",
      "#Suresriaen # Suresran3 #suresh Raina Https://tiksio/XRBiBlVpEB, pronunciation=None, extra_data=\"{'translat...\")\n",
      "Translated(src=hi, dest=en, text=Come tomorrow's IT sales people came against Yogi G. In the field you with what it is to think., pronunciation=None, extra_data=\"{'translat...\")\n",
      "Translated(src=hi, dest=en, text=Another big step @newsvishvas against lies. Fake fight against News connected with our WhatsApp Catbat and we'll meet True https://t.co/1obLoyZiH1\n",
      "\n",
      "#FactCheck #News Https://tiksio/YHSjjckKVG, pronunciation=None, extra_data=\"{'translat...\")\n",
      "Translated(src=hi, dest=en, text=# Sitapur you stopped #Sitapur by MP @SanjayAzadSln police, present a huge police force in Sitapur, were returning to Lucknow Khiri were to mourn the death of Sanjay Singh, former MLA, ASP Sitapur MP Singh stopped. @Sitpurpoliche\n",
      "@Uppoliche #uffoliche\n",
      "#Uppinnews #polichemedianews, pronunciation=None, extra_data=\"{'translat...\")\n",
      "Translated(src=hi, dest=en, text=#BreakingNews: addressing the country's new National Education Policy PM\n",
      "\n",
      "See LIVE- https://t.co/smwhXUzF4C https://t.co/5KG02TLVmA, pronunciation=None, extra_data=\"{'translat...\")\n",
      "Translated(src=hi, dest=en, text=@kajal_jaihind It was the same bastard who ever used ticket Blake's picture out of the theater., pronunciation=None, extra_data=\"{'translat...\")\n",
      "Translated(src=hi, dest=en, text=In the battle of Article 370 says the support of Pakistan Farooq Abdullah: puppet of someone's hands\n",
      "\n",
      "#JammuKashmir # Article370 #Pakistan #FarooqAbdullah # Jammu # Article 370 # Pakistan # Farukabdulla\n",
      "\n",
      "Https://tiksio/0Z2h3HEPxD, pronunciation=None, extra_data=\"{'translat...\")\n",
      "Translated(src=hi, dest=en, text=#Puri\n",
      "\n",
      "Thousands Sahupd village near Kanas at a distance of 40Km from Jagannath Dham year to meet the Shivling has become a matter of curiosity\n",
      "\n",
      "It is discovered by a farmer plowing ... maybe thousands of years ago it has been a place of worship, pronunciation=None, extra_data=\"{'translat...\")\n",
      "Translated(src=hi, dest=en, text=The monsoon session of parliament on September 14; Given the epidemic of preparations on a macro level https://t.co/pgWQLMF19n, pronunciation=None, extra_data=\"{'translat...\")\n",
      "Translated(src=hi, dest=en, text=FTSE 100: Apple at the forefront, the total market capitalization of the stock exchange even less!\n",
      "Https://tiksio/unm6nMfCSm via @nwbrttimes\n",
      "# FTSE100 #appl #MarketCap Https://tiksio/zdLZnN6aVl, pronunciation=None, extra_data=\"{'translat...\")\n",
      "Translated(src=hi, dest=en, text=Soon replaced by \"Pbji G\" \"Sahbji\" game to call, it will only play \"Andbkt\", pronunciation=None, extra_data=\"{'translat...\")\n",
      "Translated(src=hi, dest=en, text=300 Activa on the occasion of Diwali Honda 5g scooter giving free., pronunciation=None, extra_data=\"{'translat...\")\n",
      "Translated(src=hi, dest=en, text=Saya Corona historic Ramlila will be two hundred years old tradition broken!\n",
      "\n",
      "#Varanasi #hriamlil\n",
      "\n",
      "Https://tiksio/yargrempri7l, pronunciation=None, extra_data=\"{'translat...\")\n"
     ]
    },
    {
     "name": "stdout",
     "output_type": "stream",
     "text": [
      "Translated(src=hi, dest=en, text=If the government has imposed restrictions on the go more than five people for prayers at the mosque, people are willing to give their lives., pronunciation=None, extra_data=\"{'translat...\")\n",
      "Translated(src=hi, dest=en, text=#Apple could Tomorrow is a big announcement, launching what # would ipadAir4?\n",
      "\n",
      "Https://tiksio/2ःः3van39ya, pronunciation=None, extra_data=\"{'translat...\")\n",
      "Translated(src=hi, dest=en, text=This decision will provide a great opportunity to build weapons to use the design and development capabilities here in the Indian defense industry or meet the requirements of adopting military technologies developed by DRDO.\n",
      "# Atmnirbrbartabian\n",
      "@Narendramodi\n",
      "@Rjtrthsidarg, pronunciation=None, extra_data=\"{'translat...\")\n",
      "Translated(src=hi, dest=en, text=In this picture are plush Sohfe and world-class interior design does not have the drawing room is the nation's # purchased prime Boing- 777 VVIP aircraft on Earth.In live much luxury life you're gonna say servant and guard the public has become accustomed.\n",
      "@Jyotin_do, pronunciation=None, extra_data=\"{'translat...\")\n",
      "Translated(src=hi, dest=en, text=# Can not ask questions in Parliament, then roads for what?\n",
      "\n",
      "# Government every # politicians and officials\n",
      " Surround the intersection of questions Punco !!, pronunciation=None, extra_data=\"{'translat...\")\n",
      "Translated(src=hi, dest=en, text=Incident of mob lynching in front of the police,\n",
      "Police went not crooks also hospitals,\n",
      "Angry helpless saw police in front of the villagers,\n",
      "Trya Suzanne Rampur double murder in Bangra. @Kushinagrpol @uppoliche #polichemedianews, pronunciation=None, extra_data=\"{'translat...\")\n",
      "Translated(src=hi, dest=en, text=Madhya Pradesh Chief Minister 2 as @ChouhanShivraj G ... https://t.co/YXxKQfR7QP, pronunciation=None, extra_data=\"{'translat...\")\n",
      "Translated(src=hi, dest=en, text=@narendramodi brought Fada of state-owned company damage BSNL Xiao Airtel 5 million went If six years ago would have 4G to BSNL, it is five million Indian vault cost of public services from India safe those who recognized the traitor of the country went up Visit corruption, pronunciation=None, extra_data=\"{'translat...\")\n",
      "Translated(src=hi, dest=en, text=@threadreaderapp @ anuragkashyap72 @anikspeaks brother wise sage should go to jail and it supports the fuckin bald ringing drug to force Creep, pronunciation=None, extra_data=\"{'translat...\")\n",
      "Translated(src=hi, dest=en, text=A faster car public Kroford market in south Mumbai went deeply into the cafe. Late night went an over speed car was uncontrolled and roadside made public bumped cafe. The incident so far the news of the killing of four people.\n",
      "Https://tiksio/INyEHl7GJQ, pronunciation=None, extra_data=\"{'translat...\")\n",
      "Translated(src=hi, dest=en, text=Multicolored has expressed concern over reports of \"drug parties\" involving actors wrote to the Union Information and Broadcasting Minister Prakash Javadekar.\n",
      "#ःIndinews\n",
      "Https://tiksio/ःonclrk5fdg, pronunciation=None, extra_data=\"{'translat...\")\n",
      "Translated(src=hi, dest=en, text=Deployed in Siachen Glacier Indian Army | Here the temperature is minus 50 ° C |, pronunciation=None, extra_data=\"{'translat...\")\n",
      "Translated(src=hi, dest=en, text=✍️kuc poetry named our Pappu\n",
      "   \n",
      "     The boat was about to sink hard to win in the future\n",
      "     The Congress of hand clapping for Pappu Maul\n",
      "\n",
      "# Modi_ha_to_mumkin_ha\n",
      "\n",
      "@Chls_delhi\n",
      " \n",
      "@Sumit__hindu\n",
      " \n",
      "@ Keshu_777, pronunciation=None, extra_data=\"{'translat...\")\n",
      "Translated(src=hi, dest=en, text=Former President of untold things of life\n",
      "#Franbnukerge\n",
      "Https://tiksio/VasV8WlWww, pronunciation=None, extra_data=\"{'translat...\")\n",
      "Translated(src=hi, dest=en, text=@ArvindKejriwal country farmer wants these farmers know itself\n",
      "Against such vile Kmina between Delhi riot lured haunting and slap can also eat it to farmers forbid so good\n",
      "AAP has only opposed every bill the government\n",
      "370,\n",
      "3 Divorce\n",
      "Chhaa\n",
      "Yanha to the Ram temple it has decided to court, pronunciation=None, extra_data=\"{'translat...\")\n",
      "Translated(src=hi, dest=en, text=Came across the 42 million figure corona transition in the country you will be surprised to know the figures for new cases\n",
      "@ Brmhprks7 #ZeeJankariOnCorona\n",
      "Https://tiksio/eh5R7yVAoM, pronunciation=None, extra_data=\"{'translat...\")\n",
      "Translated(src=hi, dest=en, text=@Live_Hindustan a porcupine telling Alia drunkard Hvsi thy about father\n",
      "The world knows tera father how big Creep hai, pronunciation=None, extra_data=\"{'translat...\")\n",
      "Translated(src=hi, dest=en, text=The BJP came to power through the social platform and promote the things that lie in the same platform today sir receiving dislike it in bulk.\n",
      "\n",
      "Boss walks., pronunciation=None, extra_data=\"{'translat...\")\n",
      "Translated(src=hi, dest=en, text=... while 1.3 per cent in Hamirpur, 1.2 percent in Sambhal, 01 percent in Hathras, 0.8 percent went Pie lowest positivity at 0.7 percent, and Mahoba in Baghpat: ACS, Medical and Health, Mr. Amit Mohan Prasad, pronunciation=None, extra_data=\"{'translat...\")\n",
      "Translated(src=hi, dest=en, text=Upcoming races will be proud of you we-Asro\n",
      "When seen will focus on those of you who 'trying'.\n",
      "\n",
      "Born in Gorakhpur, English, Urdu, Persian erudite scholar, Raghupati Sahay 'firaq gorakhpuri were great poet of Urdu.\n",
      "\n",
      "I pay them humble tribute on the occasion of his birthday., pronunciation=None, extra_data=\"{'translat...\")\n",
      "Translated(src=hi, dest=en, text=Arnab would equally benefit journalism from Goswami's Muslims as Mukhtar Abbas Naqvi.\n",
      "\n",
      "#Arrestantiindiaarnb, pronunciation=None, extra_data=\"{'translat...\")\n",
      "Translated(src=hi, dest=en, text=It Moinuddin Kerala. He entered the JNU in 1989. If year after year, he enrolled in BA, MA, MPhil and PhD Fir, then he should leave JNU in 2001 and should start to work., pronunciation=None, extra_data=\"{'translat...\")\n",
      "Translated(src=hi, dest=en, text=#RajasthanRoyals to ask the butler to #RCB been a fan of funny answers\n",
      "Https://tiksio/fYRZutkyC0, pronunciation=None, extra_data=\"{'translat...\")\n",
      "Translated(src=hi, dest=en, text=Is it because #Delhigenocide #DelhiPolice nd 4wks? Does anyone think .. that police are doing their job Kkto they take off to see the video of your misunderstanding ..... @ IndiaToday @TimesNow Question the ones who r 2b questioned. Media Your Job. @Hriahulgndhi @priynkgndhi., pronunciation=None, extra_data=\"{'translat...\")\n",
      "Translated(src=hi, dest=en, text=@ Anuragkashyap72 @PriyankaKhimani drunkard brother ....\n",
      "Longer running films ever made on this, pronunciation=None, extra_data=\"{'translat...\")\n",
      "Translated(src=hi, dest=en, text=Pdosi- sudden marriage of your son\n",
      "How broke ..\n",
      " Father - a bastard spread rumors\n",
      "That it is Congress, pronunciation=None, extra_data=\"{'translat...\")\n",
      "Translated(src=hi, dest=en, text=Slogan began in Mumbai # # Pakistan Zindabad .. !!\n",
      "Slogans seem to Pakistan Zindabad the Minister # Abbu_ajhmi quota on Thackeray Government # SP party!\n",
      "Honorable Sir @AmitShah live request to the Pakistan fans, chased out badly nation traitor traitors ..\n",
      "@ःNoindia, pronunciation=None, extra_data=\"{'translat...\")\n",
      "Translated(src=hi, dest=en, text=Lokayukta action: Mining Officer Pradeep raided three locations in Khanna; Found apartment-houses in Indore, Rs 9 lakh Bhopal cash and house and found two car https://t.co/DWzlwmpbTp #PradeepKhanna #Indore @OfficeofSSC, pronunciation=None, extra_data=\"{'translat...\")\n",
      "Translated(src=hi, dest=en, text=Punk Grdi Alam are they now be left to the Rajya Sabha. Sin put what duplicity party leader @ArvindKejriwal ray Keju should @SanjayAzadSln put petrol in the ass fuckin hoping ..\n",
      "#ShameOnYou # sin party https://t.co/et490HhBhi, pronunciation=None, extra_data=\"{'translat...\")\n",
      "Translated(src=hi, dest=en, text=@AcharyaPramodk examine hookah smoker doing Asthana was engaged on the charges of corruption, CBI went to lock Brocade office went away due to a friend's drama took place at Modi night, pronunciation=None, extra_data=\"{'translat...\")\n",
      "Translated(src=hi, dest=en, text=Special Frontier began in the last iteration of commandos Nima Tenjin Force slogan Hail Mother India ... https://t.co/uvXZN16I8g, pronunciation=None, extra_data=\"{'translat...\")\n",
      "Translated(src=hi, dest=en, text=Petrol Diesel Price: Today's peace, learn the prices of your city\n",
      "Https://tiksio/q65QZQZ37u via @nwbrttimes\n",
      "#Fetrolfriche #diselfriche, pronunciation=None, extra_data=\"{'translat...\")\n"
     ]
    },
    {
     "name": "stdout",
     "output_type": "stream",
     "text": [
      "Translated(src=hi, dest=en, text=Indian Army was going to air strikes in Nepal. However, Nepal's army has demolished the aircraft., pronunciation=None, extra_data=\"{'translat...\")\n",
      "Translated(src=hi, dest=en, text=Largest Fucking Naughty pimp swollen issues with https://t.co/6wiksUdR3v, pronunciation=None, extra_data=\"{'translat...\")\n",
      "Translated(src=hi, dest=en, text=1000 square km LAC. The area occupied by China ': Press Review https://t.co/tQNf3NWsE5, pronunciation=None, extra_data=\"{'translat...\")\n",
      "Translated(src=hi, dest=en, text=@Pawankhera wind G\n",
      "There was a man lying day and all the people know that lying\n",
      "And then next day was when speaking it was true, but the people that believed that it ended a dominant am so Congress speaking fuckin lie Now you guys relax under the tamarind tree, pronunciation=None, extra_data=\"{'translat...\")\n",
      "Translated(src=hi, dest=en, text=@ZeeNews\n",
      "In front of the slogan started Pakistan Zindabad in Mumbai also Minister, pronunciation=None, extra_data=\"{'translat...\")\n",
      "Translated(src=hi, dest=en, text=Bihar: Look at 'smart' parrot, use the smartphone, see the YouTube video of your choice\n",
      "\n",
      "Niranjan Singh reports\n",
      "\n",
      "Https://tiksio/HlNJTZNx8G, pronunciation=None, extra_data=\"{'translat...\")\n",
      "Translated(src=hi, dest=en, text=Close will campaign in Bihar elections will Kangana Ranaut school / college, pronunciation=None, extra_data=\"{'translat...\")\n",
      "Translated(src=hi, dest=en, text=# The third round of monthly sero survey to determine the prevalence of Kovid # 19 in Delhi will start today. During this time will be about 17,000 samples., pronunciation=None, extra_data=\"{'translat...\")\n",
      "Translated(src=hi, dest=en, text=Bihar's power equation: hot about the outcome of the Bihar Assembly election speculation in the market right now\n",
      "#Bhihrelechtions #bihrpolitichs @surenderkisore\n",
      "Https://tiksio/0m7d9Z47xC, pronunciation=None, extra_data=\"{'translat...\")\n",
      "Translated(src=hi, dest=en, text=West under Sharia law in Bengal people atrocities on most Bangladeshi Rohingya Muslims have no voice on atrocities on Hindus are multiple areas where insects Ksekyulrijm, where the Constitution of India., pronunciation=None, extra_data=\"{'translat...\")\n",
      "Translated(src=hi, dest=en, text=That advice if you Naseeruddin Shah, Munawar Rana, Aamir Khan, Javed Akhtar, we're very happy, pronunciation=None, extra_data=\"{'translat...\")\n",
      "Translated(src=hi, dest=en, text=#Amethi villagers alleged goat theft beaten grabbed the thief, his arms and legs shackled villagers case of the Pitai, the video beating a thief viral, police sent to arrest the accused thief jail, Sangrampur Misruli village station. @Amethipoliche # WorldEyesOnCBI4SSR #uffoliche #polichenews, pronunciation=None, extra_data=\"{'translat...\")\n",
      "Translated(src=hi, dest=en, text=Boy hanging imposed in #Kasganj domestic fights, father's place was the elder brother Job, was upset because the economic case to hoist Road mosque youth, Soron. @Ksgnjpoliche @uppoliche #polichemedianews, pronunciation=None, extra_data=\"{'translat...\")\n",
      "Translated(src=hi, dest=en, text=The chosen preach the criminal, alcohol smugglers Golu alias Santosh attached under Yadav and Chandan Yadav earned by crime property each house estimated to be worth Rs 1 crore 35 lakh District Magistrate Section under orders Jaunpur 14 (1) Gangestr Act been seized.\n",
      "Https://tiksio/TbjBp8SiTH Https://tiksio/9PZAB038x3, pronunciation=None, extra_data=\"{'translat...\")\n",
      "Translated(src=hi, dest=en, text=RT @ ReshmaHindusta1: RIA prison was what the big deal ??\n",
      "\n",
      "Sanjeev Bhatt in jail\n",
      "Wisdom in Parliament\n",
      "Nirav Modi abroad\n",
      "\n",
      "Folded c ..., pronunciation=None, extra_data=\"{'translat...\")\n",
      "Translated(src=hi, dest=en, text=Times exclusive: was running 100 days preparing Jediulaivkcom rally already 16.8 million visitors\n",
      "Https://tiksio/jj5n99ibmb #bhihrelechtions @jduonline @nitiskhumr, pronunciation=None, extra_data=\"{'translat...\")\n",
      "Translated(src=hi, dest=en, text=@Bebaak_Ladka @babu_saffron small to pay.\n",
      "Via - neighborhood bitch, pronunciation=None, extra_data=\"{'translat...\")\n",
      "Translated(src=hi, dest=en, text=Brothers say misrule that says this administration, that .... Dushasn say, this autocratic regime and Hitler's imperial Madhya Pradesh government @gireesh_ji @PankajSinghAAP @ArvindKejriwal @narendramodi @ChouhanShivraj @BansalNewsMPCG @ MPTETjoining2 #GiveMPTETjoiningOrAllowToDie https://t.co / qgWSzBtqpU, pronunciation=None, extra_data=\"{'translat...\")\n",
      "Translated(src=hi, dest=en, text=Bihar lives on Jehanabad red has lost land border, was caused by lack of oxygen killed\n",
      "\n",
      "Ranjit Rajan report from Jehanabad\n",
      "\n",
      "#Chin #ladk #jehnbd\n",
      "\n",
      "Https://tiksio/jxaQKN9AI5, pronunciation=None, extra_data=\"{'translat...\")\n",
      "Translated(src=hi, dest=en, text=#CoronavirusUpdateinIndia received after the record increase in new cases large Relief\n",
      "# COVID19 #coroninindia\n",
      "Https://tiksio/aoFVqjvphW, pronunciation=None, extra_data=\"{'translat...\")\n",
      "Translated(src=hi, dest=en, text=Let religion risk in Bihar early\n",
      " All Andbkt https://t.co/U5gXhfXtXd, pronunciation=None, extra_data=\"{'translat...\")\n",
      "Translated(src=hi, dest=en, text=@laluprasadrjd do some wandering in the wrong direction, he questioned me mention 1000 scandal Party Large leaders preach everyday press conferences every 5 scandal in the last 15 years have been lost in that is caused by your party in Bihar in Bihar Explain forced to answer him every day, pronunciation=None, extra_data=\"{'translat...\")\n",
      "Translated(src=hi, dest=en, text=Corona world: Trump said AstraZeneca vaccine reached the trial phase 3, will trial on 30 thousand people; 25.6 million in the case https://t.co/9VD972S3Jg #CoronaUpdatesOnBhaskar # COVID19 #CoronaVaccine #DonaldTrump, pronunciation=None, extra_data=\"{'translat...\")\n",
      "Translated(src=hi, dest=en, text=These dogs never give into the hands of the public\n",
      "Well look their status or not ...\n",
      "\n",
      "Sala wolf .... https://t.co/25BQpQvFsA, pronunciation=None, extra_data=\"{'translat...\")\n",
      "Translated(src=hi, dest=en, text=Picture of funeral pregnant Hthani .. tribute. #Kerel, pronunciation=None, extra_data=\"{'translat...\")\n",
      "Translated(src=hi, dest=en, text=Rhea inside, really come out? See \"Republic of Mahabharata sucharita Kukreti #LIVE India:\n",
      "Https://tiksio/G945HvzM0Z\n",
      "\n",
      "YouTube Live TV:\n",
      "Https://tiksio/P8bk9R5TiX Https://tiksio/3Kkz208kQh, pronunciation=None, extra_data=\"{'translat...\")\n",
      "Translated(src=hi, dest=en, text=#BREAKING | Home arrived Rhea Chakraborty after questioning; NCB questioned will tomorrow\n",
      "\n",
      "See asks #LIVE the Republic of India Aishwarya India ': https://t.co/G945HvzM0Z\n",
      "\n",
      "YouTube Live TV:\n",
      "Https://tiksio/P8bk9R5TiX Https://tiksio/2mmhr5hc0, pronunciation=None, extra_data=\"{'translat...\")\n",
      "Translated(src=hi, dest=en, text=The self-sufficient and building of modern India, the huge importance of education.\n",
      "\n",
      "Similarly with thinking in the country to give a new national education policy after three decades we have been successful.\n",
      "\n",
      "They also will meet potential make him a global citizen, including students with links to the root. #AatmaNirbharBharat Https://tiksio/tutuke35ln, pronunciation=None, extra_data=\"{'translat...\")\n",
      "Translated(src=hi, dest=en, text=India against China's action\n",
      "\n",
      "#Video #fubrg_mobail\n",
      "\n",
      "Https://tiksio/kshrgmcli4, pronunciation=None, extra_data=\"{'translat...\")\n"
     ]
    }
   ],
   "source": [
    "text='tum kasie ho?'\n",
    "t=Translator()\n",
    "print(t.translate('उदितराज जी हिम्मत जुटा कर उस नेता के लिए कुछ'))\n",
    "\n",
    "for i in data['Post']:\n",
    "    try:\n",
    "        print(t.translate(str(i)))\n",
    "    except:\n",
    "        do=1\n"
   ]
  },
  {
   "cell_type": "code",
   "execution_count": null,
   "metadata": {},
   "outputs": [],
   "source": []
  },
  {
   "cell_type": "code",
   "execution_count": null,
   "metadata": {},
   "outputs": [],
   "source": []
  }
 ],
 "metadata": {
  "colab": {
   "collapsed_sections": [],
   "name": "D(18).ipynb",
   "provenance": []
  },
  "kernelspec": {
   "display_name": "Python 3",
   "language": "python",
   "name": "python3"
  },
  "language_info": {
   "codemirror_mode": {
    "name": "ipython",
    "version": 3
   },
   "file_extension": ".py",
   "mimetype": "text/x-python",
   "name": "python",
   "nbconvert_exporter": "python",
   "pygments_lexer": "ipython3",
   "version": "3.8.2"
  }
 },
 "nbformat": 4,
 "nbformat_minor": 1
}
