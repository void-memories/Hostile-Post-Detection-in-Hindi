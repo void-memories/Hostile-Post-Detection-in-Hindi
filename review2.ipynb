{
 "cells": [
  {
   "cell_type": "markdown",
   "metadata": {
    "id": "8f-WoJkTU1o5"
   },
   "source": [
    "# Team ID - Team 8\n",
    "# B Div - 5th Sem - CSE\n",
    "# Overview of Hostile Post Detection in Hindi\n",
    "- **Goals:** To predict the label set of the set of post collected from Twitter and facebook.\n",
    "\n",
    "- **Traning data:** post with their label.\n",
    "\n",
    "- **Tesing data:** set of posts.\n",
    "- **Types of post:** \n",
    "1. *Fake News:* A claim or information that is verified to be not true.\n",
    "2. *Hate Speech:* A post targeting a specific group of people based on their ethnicity, religious beliefs, geographical belonging, race, etc., with malicious intentions of spreading hate or encouraging violence.\n",
    "3. *Offensive:* A post containing profanity, impolite, rude, or vulgar language to insult a targeted individual or group.\n",
    "4. *Defamation:* A mis-information regarding an individual or group.\n",
    "5. *Non-hostile:* A post without any hostility.\n",
    "\n",
    "\n",
    "\n",
    "- **dataset.csv:** contains trainng data.\n",
    "\n",
    "\n",
    "- **Team**\n",
    "- **Kirti Kunj Bajbai   - 01fe18bcs094**\n",
    "- Naman Anand         - 01fe18bcs119\n",
    "- Himanshu Mishra     - 01fe18bcs081\n",
    "- Gunjan Mahajan      - 01fe18bcs078\n"
   ]
  },
  {
   "cell_type": "markdown",
   "metadata": {
    "id": "FIDdsC6QU1o9"
   },
   "source": [
    "## Exploring dataset"
   ]
  },
  {
   "cell_type": "code",
   "execution_count": 1,
   "metadata": {
    "id": "y7HpR5wZU1o-"
   },
   "outputs": [],
   "source": [
    "# importing libraries\n",
    "import pandas as pd     \n",
    "import numpy as np\n",
    "import seaborn as sb\n",
    "import matplotlib.pyplot as plt\n",
    "pd.set_option('display.max_colwidth',1)"
   ]
  },
  {
   "cell_type": "markdown",
   "metadata": {},
   "source": [
    "#### load data"
   ]
  },
  {
   "cell_type": "code",
   "execution_count": 2,
   "metadata": {
    "id": "rUt4QAhXU1pA"
   },
   "outputs": [],
   "source": [
    "data = pd.read_csv(\"dataset.csv\")"
   ]
  },
  {
   "cell_type": "markdown",
   "metadata": {},
   "source": [
    "#### How many posts do we have in training set"
   ]
  },
  {
   "cell_type": "code",
   "execution_count": 3,
   "metadata": {
    "colab": {
     "base_uri": "https://localhost:8080/",
     "height": 34
    },
    "id": "45rtWWwZU1pD",
    "outputId": "bc6df1e9-9a1b-417d-995e-e5df931cc021"
   },
   "outputs": [
    {
     "name": "stdout",
     "output_type": "stream",
     "text": [
      "We have 5728 posts in the training set.\n"
     ]
    }
   ],
   "source": [
    "print(\"We have\", data.shape[0], \"posts in the training set.\")"
   ]
  },
  {
   "cell_type": "markdown",
   "metadata": {},
   "source": [
    "#### First and last five posts of dataset"
   ]
  },
  {
   "cell_type": "code",
   "execution_count": 4,
   "metadata": {
    "colab": {
     "base_uri": "https://localhost:8080/",
     "height": 195
    },
    "id": "yorlo8vIU1pH",
    "outputId": "d99a370c-a07c-4c61-f6c5-e85e7e65d841"
   },
   "outputs": [
    {
     "data": {
      "text/html": [
       "<div>\n",
       "<style scoped>\n",
       "    .dataframe tbody tr th:only-of-type {\n",
       "        vertical-align: middle;\n",
       "    }\n",
       "\n",
       "    .dataframe tbody tr th {\n",
       "        vertical-align: top;\n",
       "    }\n",
       "\n",
       "    .dataframe thead th {\n",
       "        text-align: right;\n",
       "    }\n",
       "</style>\n",
       "<table border=\"1\" class=\"dataframe\">\n",
       "  <thead>\n",
       "    <tr style=\"text-align: right;\">\n",
       "      <th></th>\n",
       "      <th>Unique ID</th>\n",
       "      <th>Post</th>\n",
       "      <th>Labels Set</th>\n",
       "      <th>Unnamed: 3</th>\n",
       "      <th>Unnamed: 4</th>\n",
       "    </tr>\n",
       "  </thead>\n",
       "  <tbody>\n",
       "    <tr>\n",
       "      <th>0</th>\n",
       "      <td>1</td>\n",
       "      <td>मेरे देश के हिन्दु बहुत निराले है। कुछ तो पक्के राम भक्त है और कुछ बाबर के साले है \\n\\n🙏 जय श्री राम 🙏</td>\n",
       "      <td>hate,offensive</td>\n",
       "      <td>NaN</td>\n",
       "      <td>NaN</td>\n",
       "    </tr>\n",
       "    <tr>\n",
       "      <th>1</th>\n",
       "      <td>2</td>\n",
       "      <td>सरकार हमेशा से किसानों की कमाई को बढ़ाने के लिए नई-नई स्कीमें लाती रहती है, ताकि उन पर ज्यादा आर्थिक बोझ न पड़े.\\n\\nhttps://t.co/8iy2MJSBAs</td>\n",
       "      <td>non-hostile</td>\n",
       "      <td>NaN</td>\n",
       "      <td>NaN</td>\n",
       "    </tr>\n",
       "    <tr>\n",
       "      <th>2</th>\n",
       "      <td>3</td>\n",
       "      <td>सुशांत ने जो बिजनेस डील 9 जून को की थी, वो डील दीपेश को सुशांत की हत्या के दिन ही क्यों याद आई? देखिए 'पूछता है भारत' अर्नब के साथ रिपब्लिक भारत पर #LIVE :  https://t.co/G945HvzM0Z https://t.co/KfH7xF1IdM</td>\n",
       "      <td>non-hostile</td>\n",
       "      <td>NaN</td>\n",
       "      <td>NaN</td>\n",
       "    </tr>\n",
       "    <tr>\n",
       "      <th>3</th>\n",
       "      <td>4</td>\n",
       "      <td>@prabhav218 साले जेएनयू छाप कमिने लोग हिन्दुओं को यह कहते है की संविधान सबको बराबर अधिकार देता है। सच्चाई यह है कि यह बराबर अधिकार नहीं देता है।</td>\n",
       "      <td>defamation,offensive</td>\n",
       "      <td>NaN</td>\n",
       "      <td>NaN</td>\n",
       "    </tr>\n",
       "    <tr>\n",
       "      <th>4</th>\n",
       "      <td>5</td>\n",
       "      <td>#unlock4guidelines - अनलॉक-4 के लिए गाइडलाइन्स जारी\\n\\n- 7 सितंबर से देशभर में मेट्रो सेवा शुरु होगी\\n- 21 सितंबर के बाद रैलियों और बाकी फंक्शन में 100 लोगों को इजाजत\\n- कंटेनमेंट जोन में कोई छूट नहीं\\n- सिनेमाहॉल अभी बंद रहेंगे\\n- 9 से 12वीं के छात्र 21 सितंबर के बाद स्कूल जा सकेंगे. https://t.co/4e6lysg0VR</td>\n",
       "      <td>non-hostile</td>\n",
       "      <td>NaN</td>\n",
       "      <td>NaN</td>\n",
       "    </tr>\n",
       "  </tbody>\n",
       "</table>\n",
       "</div>"
      ],
      "text/plain": [
       "   Unique ID  \\\n",
       "0  1           \n",
       "1  2           \n",
       "2  3           \n",
       "3  4           \n",
       "4  5           \n",
       "\n",
       "                                                                                                                                                                                                                                                                                                                    Post  \\\n",
       "0  मेरे देश के हिन्दु बहुत निराले है। कुछ तो पक्के राम भक्त है और कुछ बाबर के साले है \\n\\n🙏 जय श्री राम 🙏                                                                                                                                                                                                                  \n",
       "1  सरकार हमेशा से किसानों की कमाई को बढ़ाने के लिए नई-नई स्कीमें लाती रहती है, ताकि उन पर ज्यादा आर्थिक बोझ न पड़े.\\n\\nhttps://t.co/8iy2MJSBAs                                                                                                                                                                             \n",
       "2  सुशांत ने जो बिजनेस डील 9 जून को की थी, वो डील दीपेश को सुशांत की हत्या के दिन ही क्यों याद आई? देखिए 'पूछता है भारत' अर्नब के साथ रिपब्लिक भारत पर #LIVE :  https://t.co/G945HvzM0Z https://t.co/KfH7xF1IdM                                                                                                            \n",
       "3  @prabhav218 साले जेएनयू छाप कमिने लोग हिन्दुओं को यह कहते है की संविधान सबको बराबर अधिकार देता है। सच्चाई यह है कि यह बराबर अधिकार नहीं देता है।                                                                                                                                                                        \n",
       "4  #unlock4guidelines - अनलॉक-4 के लिए गाइडलाइन्स जारी\\n\\n- 7 सितंबर से देशभर में मेट्रो सेवा शुरु होगी\\n- 21 सितंबर के बाद रैलियों और बाकी फंक्शन में 100 लोगों को इजाजत\\n- कंटेनमेंट जोन में कोई छूट नहीं\\n- सिनेमाहॉल अभी बंद रहेंगे\\n- 9 से 12वीं के छात्र 21 सितंबर के बाद स्कूल जा सकेंगे. https://t.co/4e6lysg0VR   \n",
       "\n",
       "             Labels Set  Unnamed: 3  Unnamed: 4  \n",
       "0  hate,offensive       NaN         NaN          \n",
       "1  non-hostile          NaN         NaN          \n",
       "2  non-hostile          NaN         NaN          \n",
       "3  defamation,offensive NaN         NaN          \n",
       "4  non-hostile          NaN         NaN          "
      ]
     },
     "execution_count": 4,
     "metadata": {},
     "output_type": "execute_result"
    }
   ],
   "source": [
    "data.head()"
   ]
  },
  {
   "cell_type": "code",
   "execution_count": 5,
   "metadata": {
    "colab": {
     "base_uri": "https://localhost:8080/",
     "height": 195
    },
    "id": "LBjtXf6CVsBp",
    "outputId": "dd051ee8-53db-41b5-db36-66e5e94e4641"
   },
   "outputs": [
    {
     "data": {
      "text/html": [
       "<div>\n",
       "<style scoped>\n",
       "    .dataframe tbody tr th:only-of-type {\n",
       "        vertical-align: middle;\n",
       "    }\n",
       "\n",
       "    .dataframe tbody tr th {\n",
       "        vertical-align: top;\n",
       "    }\n",
       "\n",
       "    .dataframe thead th {\n",
       "        text-align: right;\n",
       "    }\n",
       "</style>\n",
       "<table border=\"1\" class=\"dataframe\">\n",
       "  <thead>\n",
       "    <tr style=\"text-align: right;\">\n",
       "      <th></th>\n",
       "      <th>Unique ID</th>\n",
       "      <th>Post</th>\n",
       "      <th>Labels Set</th>\n",
       "      <th>Unnamed: 3</th>\n",
       "      <th>Unnamed: 4</th>\n",
       "    </tr>\n",
       "  </thead>\n",
       "  <tbody>\n",
       "    <tr>\n",
       "      <th>5723</th>\n",
       "      <td>5724</td>\n",
       "      <td>उदितराज जी हिम्मत  जुटा कर उस नेता के लिए कुछ कह दीजिये जिसके स्वागत में मुंबई स्टेशन पर पाकिस्तान जिंदाबाद के नारे लगे विरोध कर दें मान्य होगा की आप देशभक्त हैं वरना अनर्गल प्रलाप न करें</td>\n",
       "      <td>hate</td>\n",
       "      <td>NaN</td>\n",
       "      <td>NaN</td>\n",
       "    </tr>\n",
       "    <tr>\n",
       "      <th>5724</th>\n",
       "      <td>5725</td>\n",
       "      <td>उप्र: पीएम रिपोर्ट में खुलासा: हार्टअटैक से हुई थी पूर्व विधायक निर्वेंद्र की मौत; शरीर पर नहीं मिले चोट के निशान, बेटे ने पिटाई कर हत्या का दावा किया था\\nhttps://t.co/YaFEzPhTDC #NirvendraMishra @Uppolice @UPGovt</td>\n",
       "      <td>non-hostile</td>\n",
       "      <td>NaN</td>\n",
       "      <td>NaN</td>\n",
       "    </tr>\n",
       "    <tr>\n",
       "      <th>5725</th>\n",
       "      <td>5726</td>\n",
       "      <td>नौकरी गंवा चुके दोस्त की मदद: नगद के बजाए गिफ्ट कार्ड देने के बारे में सोचें, चुका सकते हैं नेटफ्लिक्स और जिम की फीस; हालचाल जानें, लेकिन ज्यादा नहीं https://t.co/l6kFR8eiBf #HelpYourFriend #Jobless #COVID19 https://t.co/YOKsAyndNa</td>\n",
       "      <td>non-hostile</td>\n",
       "      <td>NaN</td>\n",
       "      <td>NaN</td>\n",
       "    </tr>\n",
       "    <tr>\n",
       "      <th>5726</th>\n",
       "      <td>5727</td>\n",
       "      <td>बंगाल में हिन्दू मरे हैं इसलिए मुझे कोई फर्क नहीं पड़ता –#रविश कुमार\\n\\n</td>\n",
       "      <td>fake</td>\n",
       "      <td>NaN</td>\n",
       "      <td>NaN</td>\n",
       "    </tr>\n",
       "    <tr>\n",
       "      <th>5727</th>\n",
       "      <td>5728</td>\n",
       "      <td>रक्षा मंत्री @rajnathsingh ने पूर्व राष्ट्रपति #PranabMukherjee के निधन पर शोक व्यक्त किया\\n\\nविवरण : https://t.co/aLE7aVtWy9</td>\n",
       "      <td>non-hostile</td>\n",
       "      <td>NaN</td>\n",
       "      <td>NaN</td>\n",
       "    </tr>\n",
       "  </tbody>\n",
       "</table>\n",
       "</div>"
      ],
      "text/plain": [
       "      Unique ID  \\\n",
       "5723  5724        \n",
       "5724  5725        \n",
       "5725  5726        \n",
       "5726  5727        \n",
       "5727  5728        \n",
       "\n",
       "                                                                                                                                                                                                                                         Post  \\\n",
       "5723  उदितराज जी हिम्मत  जुटा कर उस नेता के लिए कुछ कह दीजिये जिसके स्वागत में मुंबई स्टेशन पर पाकिस्तान जिंदाबाद के नारे लगे विरोध कर दें मान्य होगा की आप देशभक्त हैं वरना अनर्गल प्रलाप न करें                                               \n",
       "5724  उप्र: पीएम रिपोर्ट में खुलासा: हार्टअटैक से हुई थी पूर्व विधायक निर्वेंद्र की मौत; शरीर पर नहीं मिले चोट के निशान, बेटे ने पिटाई कर हत्या का दावा किया था\\nhttps://t.co/YaFEzPhTDC #NirvendraMishra @Uppolice @UPGovt                     \n",
       "5725  नौकरी गंवा चुके दोस्त की मदद: नगद के बजाए गिफ्ट कार्ड देने के बारे में सोचें, चुका सकते हैं नेटफ्लिक्स और जिम की फीस; हालचाल जानें, लेकिन ज्यादा नहीं https://t.co/l6kFR8eiBf #HelpYourFriend #Jobless #COVID19 https://t.co/YOKsAyndNa   \n",
       "5726  बंगाल में हिन्दू मरे हैं इसलिए मुझे कोई फर्क नहीं पड़ता –#रविश कुमार\\n\\n                                                                                                                                                                  \n",
       "5727  रक्षा मंत्री @rajnathsingh ने पूर्व राष्ट्रपति #PranabMukherjee के निधन पर शोक व्यक्त किया\\n\\nविवरण : https://t.co/aLE7aVtWy9                                                                                                             \n",
       "\n",
       "       Labels Set  Unnamed: 3  Unnamed: 4  \n",
       "5723  hate        NaN         NaN          \n",
       "5724  non-hostile NaN         NaN          \n",
       "5725  non-hostile NaN         NaN          \n",
       "5726  fake        NaN         NaN          \n",
       "5727  non-hostile NaN         NaN          "
      ]
     },
     "execution_count": 5,
     "metadata": {},
     "output_type": "execute_result"
    }
   ],
   "source": [
    "data.tail()"
   ]
  },
  {
   "cell_type": "markdown",
   "metadata": {},
   "source": [
    "#### Information about the attributes and tupples."
   ]
  },
  {
   "cell_type": "code",
   "execution_count": 6,
   "metadata": {
    "colab": {
     "base_uri": "https://localhost:8080/",
     "height": 218
    },
    "id": "K0nEa0QLU1pJ",
    "outputId": "83a0c220-f70f-41b4-b35e-fd84d23778da"
   },
   "outputs": [
    {
     "name": "stdout",
     "output_type": "stream",
     "text": [
      "<class 'pandas.core.frame.DataFrame'>\n",
      "RangeIndex: 5728 entries, 0 to 5727\n",
      "Data columns (total 5 columns):\n",
      " #   Column      Non-Null Count  Dtype  \n",
      "---  ------      --------------  -----  \n",
      " 0   Unique ID   5728 non-null   int64  \n",
      " 1   Post        5728 non-null   object \n",
      " 2   Labels Set  5728 non-null   object \n",
      " 3   Unnamed: 3  0 non-null      float64\n",
      " 4   Unnamed: 4  0 non-null      float64\n",
      "dtypes: float64(2), int64(1), object(2)\n",
      "memory usage: 223.9+ KB\n"
     ]
    }
   ],
   "source": [
    "data.info()"
   ]
  },
  {
   "cell_type": "markdown",
   "metadata": {},
   "source": [
    "#### removing extra columns"
   ]
  },
  {
   "cell_type": "code",
   "execution_count": 7,
   "metadata": {
    "id": "Cuusc2RuU1pM"
   },
   "outputs": [],
   "source": [
    "data=data.drop(data.columns[[0,3,4]], axis=1)"
   ]
  },
  {
   "cell_type": "markdown",
   "metadata": {},
   "source": [
    "#### New information of data "
   ]
  },
  {
   "cell_type": "code",
   "execution_count": 8,
   "metadata": {
    "colab": {
     "base_uri": "https://localhost:8080/",
     "height": 168
    },
    "id": "NLO9o5MpU1pP",
    "outputId": "d1d6e10a-2d79-41ef-aeda-9b5f28709da0"
   },
   "outputs": [
    {
     "name": "stdout",
     "output_type": "stream",
     "text": [
      "<class 'pandas.core.frame.DataFrame'>\n",
      "RangeIndex: 5728 entries, 0 to 5727\n",
      "Data columns (total 2 columns):\n",
      " #   Column      Non-Null Count  Dtype \n",
      "---  ------      --------------  ----- \n",
      " 0   Post        5728 non-null   object\n",
      " 1   Labels Set  5728 non-null   object\n",
      "dtypes: object(2)\n",
      "memory usage: 89.6+ KB\n"
     ]
    }
   ],
   "source": [
    "data.info()"
   ]
  },
  {
   "cell_type": "code",
   "execution_count": 9,
   "metadata": {
    "colab": {
     "base_uri": "https://localhost:8080/",
     "height": 195
    },
    "id": "da8yvF7jU1pR",
    "outputId": "a1b54760-70e9-4e44-e025-857e8748458f"
   },
   "outputs": [
    {
     "data": {
      "text/html": [
       "<div>\n",
       "<style scoped>\n",
       "    .dataframe tbody tr th:only-of-type {\n",
       "        vertical-align: middle;\n",
       "    }\n",
       "\n",
       "    .dataframe tbody tr th {\n",
       "        vertical-align: top;\n",
       "    }\n",
       "\n",
       "    .dataframe thead th {\n",
       "        text-align: right;\n",
       "    }\n",
       "</style>\n",
       "<table border=\"1\" class=\"dataframe\">\n",
       "  <thead>\n",
       "    <tr style=\"text-align: right;\">\n",
       "      <th></th>\n",
       "      <th>Post</th>\n",
       "      <th>Labels Set</th>\n",
       "    </tr>\n",
       "  </thead>\n",
       "  <tbody>\n",
       "    <tr>\n",
       "      <th>0</th>\n",
       "      <td>मेरे देश के हिन्दु बहुत निराले है। कुछ तो पक्के राम भक्त है और कुछ बाबर के साले है \\n\\n🙏 जय श्री राम 🙏</td>\n",
       "      <td>hate,offensive</td>\n",
       "    </tr>\n",
       "    <tr>\n",
       "      <th>1</th>\n",
       "      <td>सरकार हमेशा से किसानों की कमाई को बढ़ाने के लिए नई-नई स्कीमें लाती रहती है, ताकि उन पर ज्यादा आर्थिक बोझ न पड़े.\\n\\nhttps://t.co/8iy2MJSBAs</td>\n",
       "      <td>non-hostile</td>\n",
       "    </tr>\n",
       "    <tr>\n",
       "      <th>2</th>\n",
       "      <td>सुशांत ने जो बिजनेस डील 9 जून को की थी, वो डील दीपेश को सुशांत की हत्या के दिन ही क्यों याद आई? देखिए 'पूछता है भारत' अर्नब के साथ रिपब्लिक भारत पर #LIVE :  https://t.co/G945HvzM0Z https://t.co/KfH7xF1IdM</td>\n",
       "      <td>non-hostile</td>\n",
       "    </tr>\n",
       "    <tr>\n",
       "      <th>3</th>\n",
       "      <td>@prabhav218 साले जेएनयू छाप कमिने लोग हिन्दुओं को यह कहते है की संविधान सबको बराबर अधिकार देता है। सच्चाई यह है कि यह बराबर अधिकार नहीं देता है।</td>\n",
       "      <td>defamation,offensive</td>\n",
       "    </tr>\n",
       "    <tr>\n",
       "      <th>4</th>\n",
       "      <td>#unlock4guidelines - अनलॉक-4 के लिए गाइडलाइन्स जारी\\n\\n- 7 सितंबर से देशभर में मेट्रो सेवा शुरु होगी\\n- 21 सितंबर के बाद रैलियों और बाकी फंक्शन में 100 लोगों को इजाजत\\n- कंटेनमेंट जोन में कोई छूट नहीं\\n- सिनेमाहॉल अभी बंद रहेंगे\\n- 9 से 12वीं के छात्र 21 सितंबर के बाद स्कूल जा सकेंगे. https://t.co/4e6lysg0VR</td>\n",
       "      <td>non-hostile</td>\n",
       "    </tr>\n",
       "  </tbody>\n",
       "</table>\n",
       "</div>"
      ],
      "text/plain": [
       "                                                                                                                                                                                                                                                                                                                    Post  \\\n",
       "0  मेरे देश के हिन्दु बहुत निराले है। कुछ तो पक्के राम भक्त है और कुछ बाबर के साले है \\n\\n🙏 जय श्री राम 🙏                                                                                                                                                                                                                  \n",
       "1  सरकार हमेशा से किसानों की कमाई को बढ़ाने के लिए नई-नई स्कीमें लाती रहती है, ताकि उन पर ज्यादा आर्थिक बोझ न पड़े.\\n\\nhttps://t.co/8iy2MJSBAs                                                                                                                                                                             \n",
       "2  सुशांत ने जो बिजनेस डील 9 जून को की थी, वो डील दीपेश को सुशांत की हत्या के दिन ही क्यों याद आई? देखिए 'पूछता है भारत' अर्नब के साथ रिपब्लिक भारत पर #LIVE :  https://t.co/G945HvzM0Z https://t.co/KfH7xF1IdM                                                                                                            \n",
       "3  @prabhav218 साले जेएनयू छाप कमिने लोग हिन्दुओं को यह कहते है की संविधान सबको बराबर अधिकार देता है। सच्चाई यह है कि यह बराबर अधिकार नहीं देता है।                                                                                                                                                                        \n",
       "4  #unlock4guidelines - अनलॉक-4 के लिए गाइडलाइन्स जारी\\n\\n- 7 सितंबर से देशभर में मेट्रो सेवा शुरु होगी\\n- 21 सितंबर के बाद रैलियों और बाकी फंक्शन में 100 लोगों को इजाजत\\n- कंटेनमेंट जोन में कोई छूट नहीं\\n- सिनेमाहॉल अभी बंद रहेंगे\\n- 9 से 12वीं के छात्र 21 सितंबर के बाद स्कूल जा सकेंगे. https://t.co/4e6lysg0VR   \n",
       "\n",
       "             Labels Set  \n",
       "0  hate,offensive        \n",
       "1  non-hostile           \n",
       "2  non-hostile           \n",
       "3  defamation,offensive  \n",
       "4  non-hostile           "
      ]
     },
     "execution_count": 9,
     "metadata": {},
     "output_type": "execute_result"
    }
   ],
   "source": [
    "data.head()"
   ]
  },
  {
   "cell_type": "code",
   "execution_count": 10,
   "metadata": {
    "colab": {
     "base_uri": "https://localhost:8080/",
     "height": 195
    },
    "id": "IFRAZ75BU1pU",
    "outputId": "02134fbe-b8f5-447f-9ef8-7ebd5dabf9a7"
   },
   "outputs": [
    {
     "data": {
      "text/html": [
       "<div>\n",
       "<style scoped>\n",
       "    .dataframe tbody tr th:only-of-type {\n",
       "        vertical-align: middle;\n",
       "    }\n",
       "\n",
       "    .dataframe tbody tr th {\n",
       "        vertical-align: top;\n",
       "    }\n",
       "\n",
       "    .dataframe thead th {\n",
       "        text-align: right;\n",
       "    }\n",
       "</style>\n",
       "<table border=\"1\" class=\"dataframe\">\n",
       "  <thead>\n",
       "    <tr style=\"text-align: right;\">\n",
       "      <th></th>\n",
       "      <th>Post</th>\n",
       "      <th>Labels Set</th>\n",
       "    </tr>\n",
       "  </thead>\n",
       "  <tbody>\n",
       "    <tr>\n",
       "      <th>5723</th>\n",
       "      <td>उदितराज जी हिम्मत  जुटा कर उस नेता के लिए कुछ कह दीजिये जिसके स्वागत में मुंबई स्टेशन पर पाकिस्तान जिंदाबाद के नारे लगे विरोध कर दें मान्य होगा की आप देशभक्त हैं वरना अनर्गल प्रलाप न करें</td>\n",
       "      <td>hate</td>\n",
       "    </tr>\n",
       "    <tr>\n",
       "      <th>5724</th>\n",
       "      <td>उप्र: पीएम रिपोर्ट में खुलासा: हार्टअटैक से हुई थी पूर्व विधायक निर्वेंद्र की मौत; शरीर पर नहीं मिले चोट के निशान, बेटे ने पिटाई कर हत्या का दावा किया था\\nhttps://t.co/YaFEzPhTDC #NirvendraMishra @Uppolice @UPGovt</td>\n",
       "      <td>non-hostile</td>\n",
       "    </tr>\n",
       "    <tr>\n",
       "      <th>5725</th>\n",
       "      <td>नौकरी गंवा चुके दोस्त की मदद: नगद के बजाए गिफ्ट कार्ड देने के बारे में सोचें, चुका सकते हैं नेटफ्लिक्स और जिम की फीस; हालचाल जानें, लेकिन ज्यादा नहीं https://t.co/l6kFR8eiBf #HelpYourFriend #Jobless #COVID19 https://t.co/YOKsAyndNa</td>\n",
       "      <td>non-hostile</td>\n",
       "    </tr>\n",
       "    <tr>\n",
       "      <th>5726</th>\n",
       "      <td>बंगाल में हिन्दू मरे हैं इसलिए मुझे कोई फर्क नहीं पड़ता –#रविश कुमार\\n\\n</td>\n",
       "      <td>fake</td>\n",
       "    </tr>\n",
       "    <tr>\n",
       "      <th>5727</th>\n",
       "      <td>रक्षा मंत्री @rajnathsingh ने पूर्व राष्ट्रपति #PranabMukherjee के निधन पर शोक व्यक्त किया\\n\\nविवरण : https://t.co/aLE7aVtWy9</td>\n",
       "      <td>non-hostile</td>\n",
       "    </tr>\n",
       "  </tbody>\n",
       "</table>\n",
       "</div>"
      ],
      "text/plain": [
       "                                                                                                                                                                                                                                         Post  \\\n",
       "5723  उदितराज जी हिम्मत  जुटा कर उस नेता के लिए कुछ कह दीजिये जिसके स्वागत में मुंबई स्टेशन पर पाकिस्तान जिंदाबाद के नारे लगे विरोध कर दें मान्य होगा की आप देशभक्त हैं वरना अनर्गल प्रलाप न करें                                               \n",
       "5724  उप्र: पीएम रिपोर्ट में खुलासा: हार्टअटैक से हुई थी पूर्व विधायक निर्वेंद्र की मौत; शरीर पर नहीं मिले चोट के निशान, बेटे ने पिटाई कर हत्या का दावा किया था\\nhttps://t.co/YaFEzPhTDC #NirvendraMishra @Uppolice @UPGovt                     \n",
       "5725  नौकरी गंवा चुके दोस्त की मदद: नगद के बजाए गिफ्ट कार्ड देने के बारे में सोचें, चुका सकते हैं नेटफ्लिक्स और जिम की फीस; हालचाल जानें, लेकिन ज्यादा नहीं https://t.co/l6kFR8eiBf #HelpYourFriend #Jobless #COVID19 https://t.co/YOKsAyndNa   \n",
       "5726  बंगाल में हिन्दू मरे हैं इसलिए मुझे कोई फर्क नहीं पड़ता –#रविश कुमार\\n\\n                                                                                                                                                                  \n",
       "5727  रक्षा मंत्री @rajnathsingh ने पूर्व राष्ट्रपति #PranabMukherjee के निधन पर शोक व्यक्त किया\\n\\nविवरण : https://t.co/aLE7aVtWy9                                                                                                             \n",
       "\n",
       "       Labels Set  \n",
       "5723  hate         \n",
       "5724  non-hostile  \n",
       "5725  non-hostile  \n",
       "5726  fake         \n",
       "5727  non-hostile  "
      ]
     },
     "execution_count": 10,
     "metadata": {},
     "output_type": "execute_result"
    }
   ],
   "source": [
    "data.tail()"
   ]
  },
  {
   "cell_type": "markdown",
   "metadata": {},
   "source": [
    "#### Calculating the null values in each columns"
   ]
  },
  {
   "cell_type": "code",
   "execution_count": 11,
   "metadata": {
    "colab": {
     "base_uri": "https://localhost:8080/",
     "height": 67
    },
    "id": "k4NQUDcHU1pW",
    "outputId": "9b3ea895-fc04-444e-e4e6-71f08cae4333"
   },
   "outputs": [
    {
     "data": {
      "text/plain": [
       "Post          0\n",
       "Labels Set    0\n",
       "dtype: int64"
      ]
     },
     "execution_count": 11,
     "metadata": {},
     "output_type": "execute_result"
    }
   ],
   "source": [
    "data.isnull().sum()"
   ]
  },
  {
   "cell_type": "markdown",
   "metadata": {
    "id": "IeEtVtaYi7Tk"
   },
   "source": [
    "#### Number of columns and rows in train data set"
   ]
  },
  {
   "cell_type": "code",
   "execution_count": 12,
   "metadata": {
    "colab": {
     "base_uri": "https://localhost:8080/",
     "height": 34
    },
    "id": "UrpjElybibvK",
    "outputId": "cabbf91c-d579-4f96-f2b2-43659b538766"
   },
   "outputs": [
    {
     "name": "stdout",
     "output_type": "stream",
     "text": [
      "(5728, 2) is the dimension of the data\n"
     ]
    }
   ],
   "source": [
    "data.shape\n",
    "print(data.shape,\"is the dimension of the data\")"
   ]
  },
  {
   "cell_type": "markdown",
   "metadata": {
    "id": "EMUZ2jXZmkmR"
   },
   "source": [
    "#### Checking for the duplicates in the dataset."
   ]
  },
  {
   "cell_type": "code",
   "execution_count": 13,
   "metadata": {},
   "outputs": [
    {
     "name": "stdout",
     "output_type": "stream",
     "text": [
      "10\n"
     ]
    }
   ],
   "source": [
    "print(len(data['Post'])-len(set(data['Post'])))"
   ]
  },
  {
   "cell_type": "markdown",
   "metadata": {},
   "source": [
    "#### Calculating the number and percentage of different types of post."
   ]
  },
  {
   "cell_type": "code",
   "execution_count": 14,
   "metadata": {
    "colab": {
     "base_uri": "https://localhost:8080/",
     "height": 118
    },
    "id": "ZLxcrMXpWk8Y",
    "outputId": "d0dbcfee-d3e3-4ace-b775-b6cabaf6cd50",
    "scrolled": false
   },
   "outputs": [
    {
     "name": "stdout",
     "output_type": "stream",
     "text": [
      "             count percentage\n",
      "hate         792    12.58%   \n",
      "offensive    742    11.79%   \n",
      "non-hostile  3050   48.47%   \n",
      "defamation   564    8.963%   \n",
      "fake         1144   18.18%   \n"
     ]
    }
   ],
   "source": [
    "d={}\n",
    "total=0\n",
    "for i in data['Labels Set']:\n",
    "    ar=list(i.split(','))\n",
    "    for j in ar:\n",
    "        try:\n",
    "            d[j]+=1\n",
    "        except:\n",
    "            d[j]=1\n",
    "        total+=1\n",
    "\n",
    "\n",
    "percentageHolder={}\n",
    "for i in d:\n",
    "    percentageHolder[i]=str((d[i]/total)*100)[:5]+'%'\n",
    "\n",
    "\n",
    "\n",
    "table={'count':d,'percentage':percentageHolder}\n",
    "print(pd.DataFrame(table))"
   ]
  },
  {
   "cell_type": "markdown",
   "metadata": {},
   "source": [
    "#### Represntation of label"
   ]
  },
  {
   "cell_type": "code",
   "execution_count": 15,
   "metadata": {
    "colab": {
     "base_uri": "https://localhost:8080/",
     "height": 357
    },
    "id": "sbCPQocVU1pZ",
    "outputId": "ac082a34-8536-4ce8-917f-6a57d802bcb0"
   },
   "outputs": [
    {
     "data": {
      "image/png": "[encoded data removed]",
      "text/plain": [
       "<Figure size 432x432 with 1 Axes>"
      ]
     },
     "metadata": {},
     "output_type": "display_data"
    }
   ],
   "source": [
    "#pie chart creation\n",
    "\n",
    "labels = list(d.keys())\n",
    "values = list(d.values())\n",
    "plt.figure(figsize=(6,6))\n",
    "plt.pie(values, labels=labels,autopct=\"%1.2f%%\")\n",
    "plt.show()"
   ]
  },
  {
   "cell_type": "markdown",
   "metadata": {},
   "source": [
    "Analysis:\n",
    "\n",
    "\n",
    "Data is biased towards non-hostile post."
   ]
  },
  {
   "cell_type": "code",
   "execution_count": 16,
   "metadata": {
    "colab": {
     "base_uri": "https://localhost:8080/",
     "height": 547
    },
    "id": "eqzu6pkKpD4H",
    "outputId": "684775c9-1446-495a-aa63-56284337b084"
   },
   "outputs": [
    {
     "data": {
      "text/plain": [
       "([0, 1, 2, 3, 4],\n",
       " [Text(0, 0, ''),\n",
       "  Text(0, 0, ''),\n",
       "  Text(0, 0, ''),\n",
       "  Text(0, 0, ''),\n",
       "  Text(0, 0, '')])"
      ]
     },
     "execution_count": 16,
     "metadata": {},
     "output_type": "execute_result"
    },
    {
     "data": {
      "image/png": "[encoded data removed]",
      "text/plain": [
       "<Figure size 432x288 with 1 Axes>"
      ]
     },
     "metadata": {
      "needs_background": "light"
     },
     "output_type": "display_data"
    }
   ],
   "source": [
    "# Bar Plot\n",
    "plt.bar(d.keys(), d.values(), 0.6, color=['g','g','r','g','g'])\n",
    "plt.xlabel(\"Labels\", labelpad=14)\n",
    "plt.ylabel(\"Frequency\", labelpad=14)\n",
    "sb.set(font_scale=1.4)\n",
    "plt.xticks(fontsize=14, rotation=90)"
   ]
  },
  {
   "cell_type": "markdown",
   "metadata": {
    "id": "SQ5Y6zW_U1pb"
   },
   "source": [
    "Analysis:\n",
    "\n",
    "1) We observe that non-hostile posts has the highest proportion i.e more than 3000."
   ]
  },
  {
   "cell_type": "code",
   "execution_count": 17,
   "metadata": {},
   "outputs": [
    {
     "name": "stdout",
     "output_type": "stream",
     "text": [
      "<class 'pandas.core.frame.DataFrame'>\n",
      "RangeIndex: 5728 entries, 0 to 5727\n",
      "Data columns (total 2 columns):\n",
      " #   Column      Non-Null Count  Dtype \n",
      "---  ------      --------------  ----- \n",
      " 0   Post        5728 non-null   object\n",
      " 1   Labels Set  5728 non-null   object\n",
      "dtypes: object(2)\n",
      "memory usage: 89.6+ KB\n"
     ]
    }
   ],
   "source": [
    "data.info()"
   ]
  },
  {
   "cell_type": "code",
   "execution_count": 18,
   "metadata": {},
   "outputs": [],
   "source": [
    "#PREPROCESSING"
   ]
  },
  {
   "cell_type": "code",
   "execution_count": 19,
   "metadata": {},
   "outputs": [
    {
     "name": "stdout",
     "output_type": "stream",
     "text": [
      "[['fake', 1102], ['fake', 2670]]\n",
      "[['offensive', 2733], ['offensive', 3128]]\n",
      "[['hate', 1135], ['hate', 3217]]\n",
      "[['hate,offensive', 3086], ['hate,offensive', 3409]]\n",
      "[['hate,offensive', 1372], ['hate,offensive', 4523]]\n",
      "[['defamation,offensive', 2850], ['defamation,offensive', 4655]]\n",
      "[['hate', 2467], ['defamation,offensive', 4970]]\n",
      "[['offensive', 153], ['offensive', 5037]]\n",
      "[['offensive', 153], ['offensive', 5037], ['offensive', 5425]]\n",
      "[['hate,offensive', 1372], ['hate,offensive', 4523], ['hate,offensive', 5550]]\n"
     ]
    }
   ],
   "source": [
    "#Checking if the duplicate posts have duplicate labels or not\n",
    "\n",
    "temp=set()\n",
    "d={}\n",
    "index=0\n",
    "for i in data['Post']:\n",
    "    if i not in temp:\n",
    "        temp.add(i)\n",
    "        d[i]=[[data['Labels Set'][index],index]]\n",
    "    else:\n",
    "        d[i].append([data['Labels Set'][index],index])\n",
    "        print(d[i])\n",
    "    index+=1\n",
    "        "
   ]
  },
  {
   "cell_type": "code",
   "execution_count": 20,
   "metadata": {},
   "outputs": [
    {
     "data": {
      "text/html": [
       "<div>\n",
       "<style scoped>\n",
       "    .dataframe tbody tr th:only-of-type {\n",
       "        vertical-align: middle;\n",
       "    }\n",
       "\n",
       "    .dataframe tbody tr th {\n",
       "        vertical-align: top;\n",
       "    }\n",
       "\n",
       "    .dataframe thead th {\n",
       "        text-align: right;\n",
       "    }\n",
       "</style>\n",
       "<table border=\"1\" class=\"dataframe\">\n",
       "  <thead>\n",
       "    <tr style=\"text-align: right;\">\n",
       "      <th></th>\n",
       "      <th>Post</th>\n",
       "      <th>Labels Set</th>\n",
       "    </tr>\n",
       "  </thead>\n",
       "  <tbody>\n",
       "    <tr>\n",
       "      <th>0</th>\n",
       "      <td>मेरे देश के हिन्दु बहुत निराले है। कुछ तो पक्के राम भक्त है और कुछ बाबर के साले है \\n\\n🙏 जय श्री राम 🙏</td>\n",
       "      <td>hate,offensive</td>\n",
       "    </tr>\n",
       "    <tr>\n",
       "      <th>1</th>\n",
       "      <td>सरकार हमेशा से किसानों की कमाई को बढ़ाने के लिए नई-नई स्कीमें लाती रहती है, ताकि उन पर ज्यादा आर्थिक बोझ न पड़े.\\n\\nhttps://t.co/8iy2MJSBAs</td>\n",
       "      <td>non-hostile</td>\n",
       "    </tr>\n",
       "    <tr>\n",
       "      <th>2</th>\n",
       "      <td>सुशांत ने जो बिजनेस डील 9 जून को की थी, वो डील दीपेश को सुशांत की हत्या के दिन ही क्यों याद आई? देखिए 'पूछता है भारत' अर्नब के साथ रिपब्लिक भारत पर #LIVE :  https://t.co/G945HvzM0Z https://t.co/KfH7xF1IdM</td>\n",
       "      <td>non-hostile</td>\n",
       "    </tr>\n",
       "    <tr>\n",
       "      <th>3</th>\n",
       "      <td>@prabhav218 साले जेएनयू छाप कमिने लोग हिन्दुओं को यह कहते है की संविधान सबको बराबर अधिकार देता है। सच्चाई यह है कि यह बराबर अधिकार नहीं देता है।</td>\n",
       "      <td>defamation,offensive</td>\n",
       "    </tr>\n",
       "    <tr>\n",
       "      <th>4</th>\n",
       "      <td>#unlock4guidelines - अनलॉक-4 के लिए गाइडलाइन्स जारी\\n\\n- 7 सितंबर से देशभर में मेट्रो सेवा शुरु होगी\\n- 21 सितंबर के बाद रैलियों और बाकी फंक्शन में 100 लोगों को इजाजत\\n- कंटेनमेंट जोन में कोई छूट नहीं\\n- सिनेमाहॉल अभी बंद रहेंगे\\n- 9 से 12वीं के छात्र 21 सितंबर के बाद स्कूल जा सकेंगे. https://t.co/4e6lysg0VR</td>\n",
       "      <td>non-hostile</td>\n",
       "    </tr>\n",
       "    <tr>\n",
       "      <th>...</th>\n",
       "      <td>...</td>\n",
       "      <td>...</td>\n",
       "    </tr>\n",
       "    <tr>\n",
       "      <th>5713</th>\n",
       "      <td>उदितराज जी हिम्मत  जुटा कर उस नेता के लिए कुछ कह दीजिये जिसके स्वागत में मुंबई स्टेशन पर पाकिस्तान जिंदाबाद के नारे लगे विरोध कर दें मान्य होगा की आप देशभक्त हैं वरना अनर्गल प्रलाप न करें</td>\n",
       "      <td>hate</td>\n",
       "    </tr>\n",
       "    <tr>\n",
       "      <th>5714</th>\n",
       "      <td>उप्र: पीएम रिपोर्ट में खुलासा: हार्टअटैक से हुई थी पूर्व विधायक निर्वेंद्र की मौत; शरीर पर नहीं मिले चोट के निशान, बेटे ने पिटाई कर हत्या का दावा किया था\\nhttps://t.co/YaFEzPhTDC #NirvendraMishra @Uppolice @UPGovt</td>\n",
       "      <td>non-hostile</td>\n",
       "    </tr>\n",
       "    <tr>\n",
       "      <th>5715</th>\n",
       "      <td>नौकरी गंवा चुके दोस्त की मदद: नगद के बजाए गिफ्ट कार्ड देने के बारे में सोचें, चुका सकते हैं नेटफ्लिक्स और जिम की फीस; हालचाल जानें, लेकिन ज्यादा नहीं https://t.co/l6kFR8eiBf #HelpYourFriend #Jobless #COVID19 https://t.co/YOKsAyndNa</td>\n",
       "      <td>non-hostile</td>\n",
       "    </tr>\n",
       "    <tr>\n",
       "      <th>5716</th>\n",
       "      <td>बंगाल में हिन्दू मरे हैं इसलिए मुझे कोई फर्क नहीं पड़ता –#रविश कुमार\\n\\n</td>\n",
       "      <td>fake</td>\n",
       "    </tr>\n",
       "    <tr>\n",
       "      <th>5717</th>\n",
       "      <td>रक्षा मंत्री @rajnathsingh ने पूर्व राष्ट्रपति #PranabMukherjee के निधन पर शोक व्यक्त किया\\n\\nविवरण : https://t.co/aLE7aVtWy9</td>\n",
       "      <td>non-hostile</td>\n",
       "    </tr>\n",
       "  </tbody>\n",
       "</table>\n",
       "<p>5718 rows × 2 columns</p>\n",
       "</div>"
      ],
      "text/plain": [
       "                                                                                                                                                                                                                                                                                                                       Post  \\\n",
       "0     मेरे देश के हिन्दु बहुत निराले है। कुछ तो पक्के राम भक्त है और कुछ बाबर के साले है \\n\\n🙏 जय श्री राम 🙏                                                                                                                                                                                                                  \n",
       "1     सरकार हमेशा से किसानों की कमाई को बढ़ाने के लिए नई-नई स्कीमें लाती रहती है, ताकि उन पर ज्यादा आर्थिक बोझ न पड़े.\\n\\nhttps://t.co/8iy2MJSBAs                                                                                                                                                                             \n",
       "2     सुशांत ने जो बिजनेस डील 9 जून को की थी, वो डील दीपेश को सुशांत की हत्या के दिन ही क्यों याद आई? देखिए 'पूछता है भारत' अर्नब के साथ रिपब्लिक भारत पर #LIVE :  https://t.co/G945HvzM0Z https://t.co/KfH7xF1IdM                                                                                                            \n",
       "3     @prabhav218 साले जेएनयू छाप कमिने लोग हिन्दुओं को यह कहते है की संविधान सबको बराबर अधिकार देता है। सच्चाई यह है कि यह बराबर अधिकार नहीं देता है।                                                                                                                                                                        \n",
       "4     #unlock4guidelines - अनलॉक-4 के लिए गाइडलाइन्स जारी\\n\\n- 7 सितंबर से देशभर में मेट्रो सेवा शुरु होगी\\n- 21 सितंबर के बाद रैलियों और बाकी फंक्शन में 100 लोगों को इजाजत\\n- कंटेनमेंट जोन में कोई छूट नहीं\\n- सिनेमाहॉल अभी बंद रहेंगे\\n- 9 से 12वीं के छात्र 21 सितंबर के बाद स्कूल जा सकेंगे. https://t.co/4e6lysg0VR   \n",
       "...                                                                                                                                                                                                                                                                                                                     ...   \n",
       "5713  उदितराज जी हिम्मत  जुटा कर उस नेता के लिए कुछ कह दीजिये जिसके स्वागत में मुंबई स्टेशन पर पाकिस्तान जिंदाबाद के नारे लगे विरोध कर दें मान्य होगा की आप देशभक्त हैं वरना अनर्गल प्रलाप न करें                                                                                                                             \n",
       "5714  उप्र: पीएम रिपोर्ट में खुलासा: हार्टअटैक से हुई थी पूर्व विधायक निर्वेंद्र की मौत; शरीर पर नहीं मिले चोट के निशान, बेटे ने पिटाई कर हत्या का दावा किया था\\nhttps://t.co/YaFEzPhTDC #NirvendraMishra @Uppolice @UPGovt                                                                                                   \n",
       "5715  नौकरी गंवा चुके दोस्त की मदद: नगद के बजाए गिफ्ट कार्ड देने के बारे में सोचें, चुका सकते हैं नेटफ्लिक्स और जिम की फीस; हालचाल जानें, लेकिन ज्यादा नहीं https://t.co/l6kFR8eiBf #HelpYourFriend #Jobless #COVID19 https://t.co/YOKsAyndNa                                                                                 \n",
       "5716  बंगाल में हिन्दू मरे हैं इसलिए मुझे कोई फर्क नहीं पड़ता –#रविश कुमार\\n\\n                                                                                                                                                                                                                                                \n",
       "5717  रक्षा मंत्री @rajnathsingh ने पूर्व राष्ट्रपति #PranabMukherjee के निधन पर शोक व्यक्त किया\\n\\nविवरण : https://t.co/aLE7aVtWy9                                                                                                                                                                                           \n",
       "\n",
       "                Labels Set  \n",
       "0     hate,offensive        \n",
       "1     non-hostile           \n",
       "2     non-hostile           \n",
       "3     defamation,offensive  \n",
       "4     non-hostile           \n",
       "...           ...           \n",
       "5713  hate                  \n",
       "5714  non-hostile           \n",
       "5715  non-hostile           \n",
       "5716  fake                  \n",
       "5717  non-hostile           \n",
       "\n",
       "[5718 rows x 2 columns]"
      ]
     },
     "execution_count": 20,
     "metadata": {},
     "output_type": "execute_result"
    }
   ],
   "source": [
    "#removing duplicate rows\n",
    "\n",
    "postTemp={'Post':[],'Labels Set':[]}\n",
    "visited=set()\n",
    "index=0\n",
    "\n",
    "for i in data['Post']:\n",
    "    if i not in visited and index!=4970:\n",
    "        postTemp['Post'].append(i)\n",
    "        postTemp['Labels Set'].append(data['Labels Set'][index])\n",
    "        visited.add(i)\n",
    "    index+=1\n",
    "        \n",
    "data=pd.DataFrame.from_dict(postTemp)\n",
    "\n",
    "data"
   ]
  },
  {
   "cell_type": "code",
   "execution_count": 21,
   "metadata": {},
   "outputs": [
    {
     "name": "stdout",
     "output_type": "stream",
     "text": [
      "{'hate': 4.361675126903553, 'offensive': 4.1961852861035425, 'non-hostile': 9.021311475409837, 'defamation': 4.329181494661921, 'fake': 3.583552055993001} {'hate': 0.35913705583756345, 'offensive': 0.2997275204359673, 'non-hostile': 1.0859016393442622, 'defamation': 0.2846975088967972, 'fake': 0.23184601924759404} {'hate': 0.6294416243654822, 'offensive': 0.9373297002724795, 'non-hostile': 0.6888524590163935, 'defamation': 0.6209964412811388, 'fake': 0.23184601924759404}\n"
     ]
    }
   ],
   "source": [
    "labelPost={}\n",
    "punchCnt={}\n",
    "hashCnt={}\n",
    "mentionCnt={}\n",
    "\n",
    "f=open(\"punctuations.txt\",\"r\")\n",
    "puch=set(f.read().split('\\n'))\n",
    "\n",
    "\n",
    "for i in range(len(data['Post'])):\n",
    "    for j in list(data['Labels Set'][i].split(',')):\n",
    "        try:\n",
    "            labelPost[j].append(data['Post'][i])\n",
    "        except:\n",
    "            labelPost[j]=[(data['Post'][i])]\n",
    "        \n",
    "\n",
    "#check for Punctuations\n",
    "\n",
    "for i in labelPost:\n",
    "    for j in labelPost[i]:\n",
    "        for char in j:\n",
    "            if char in puch:\n",
    "                try:\n",
    "                    punchCnt[i]+=1\n",
    "                except:\n",
    "                    punchCnt[i]=1\n",
    "\n",
    "for i in labelPost:\n",
    "    for j in labelPost[i]:\n",
    "        for char in j:\n",
    "            if char == '#':\n",
    "                try:\n",
    "                    hashCnt[i]+=1\n",
    "                except:\n",
    "                    hashCnt[i]=1\n",
    "                    \n",
    "for i in labelPost:\n",
    "    for j in labelPost[i]:\n",
    "        for char in j:\n",
    "            if char == '@':\n",
    "                try:\n",
    "                    mentionCnt[i]+=1\n",
    "                except:\n",
    "                    mentionCnt[i]=1\n",
    "                    \n",
    "for i in punchCnt:\n",
    "    punchCnt[i]/=len(labelPost[i])\n",
    "for i in hashCnt:\n",
    "    hashCnt[i]/=len(labelPost[i])\n",
    "for i in mentionCnt:\n",
    "    mentionCnt[i]/=len(labelPost[i])\n",
    "    \n",
    "print(punchCnt,hashCnt,mentionCnt)"
   ]
  },
  {
   "cell_type": "code",
   "execution_count": 22,
   "metadata": {},
   "outputs": [
    {
     "data": {
      "image/png": "[encoded data removed]",
      "text/plain": [
       "<Figure size 432x288 with 1 Axes>"
      ]
     },
     "metadata": {},
     "output_type": "display_data"
    }
   ],
   "source": [
    "#avg punctuations\n",
    "plt.bar(list(punchCnt.keys()), list(punchCnt.values()), 0.6, color=['b','g','r','grey','orange'])\n",
    "plt.xlabel(\"Labels\", labelpad=14)\n",
    "plt.ylabel(\"Average punctuations per post\", labelpad=14)\n",
    "sb.set(font_scale=1.4)\n",
    "plt.xticks(fontsize=14, rotation=90)\n",
    "# for index, value in enumerate(punchCnt.values()):\n",
    "#     plt.text(value, index, str(value))\n",
    "plt.show()"
   ]
  },
  {
   "cell_type": "code",
   "execution_count": 23,
   "metadata": {},
   "outputs": [
    {
     "data": {
      "image/png": "[encoded data removed]",
      "text/plain": [
       "<Figure size 432x288 with 1 Axes>"
      ]
     },
     "metadata": {},
     "output_type": "display_data"
    }
   ],
   "source": [
    "#avg hashtags\n",
    "plt.bar(hashCnt.keys(), hashCnt.values(), 0.6, color=['b','g','r','grey','orange'])\n",
    "plt.xlabel(\"Labels\", labelpad=14)\n",
    "plt.ylabel(\"Average hashtags per post\", labelpad=14)\n",
    "sb.set(font_scale=1.4)\n",
    "plt.xticks(fontsize=14, rotation=90)\n",
    "plt.show()"
   ]
  },
  {
   "cell_type": "code",
   "execution_count": 24,
   "metadata": {},
   "outputs": [
    {
     "data": {
      "image/png": "[encoded data removed]",
      "text/plain": [
       "<Figure size 432x288 with 1 Axes>"
      ]
     },
     "metadata": {},
     "output_type": "display_data"
    }
   ],
   "source": [
    "#avg mentions\n",
    "plt.bar(mentionCnt.keys(), mentionCnt.values(), 0.6, color=['b','g','r','grey','orange'])\n",
    "plt.xlabel(\"Labels\", labelpad=14)\n",
    "plt.ylabel(\"Average mentions per post\", labelpad=14)\n",
    "sb.set(font_scale=1.4)\n",
    "plt.xticks(fontsize=14, rotation=90)\n",
    "plt.show()"
   ]
  },
  {
   "cell_type": "code",
   "execution_count": 25,
   "metadata": {},
   "outputs": [
    {
     "data": {
      "text/html": [
       "<div>\n",
       "<style scoped>\n",
       "    .dataframe tbody tr th:only-of-type {\n",
       "        vertical-align: middle;\n",
       "    }\n",
       "\n",
       "    .dataframe tbody tr th {\n",
       "        vertical-align: top;\n",
       "    }\n",
       "\n",
       "    .dataframe thead th {\n",
       "        text-align: right;\n",
       "    }\n",
       "</style>\n",
       "<table border=\"1\" class=\"dataframe\">\n",
       "  <thead>\n",
       "    <tr style=\"text-align: right;\">\n",
       "      <th></th>\n",
       "      <th>Post</th>\n",
       "      <th>Labels Set</th>\n",
       "    </tr>\n",
       "  </thead>\n",
       "  <tbody>\n",
       "    <tr>\n",
       "      <th>0</th>\n",
       "      <td>मेरे देश के हिन्दु बहुत निराले है। कुछ तो पक्के राम भक्त है और कुछ बाबर के साले है \\n\\n🙏 जय श्री राम 🙏</td>\n",
       "      <td>hate,offensive</td>\n",
       "    </tr>\n",
       "    <tr>\n",
       "      <th>1</th>\n",
       "      <td>सरकार हमेशा से किसानों की कमाई को बढ़ाने के लिए नई-नई स्कीमें लाती रहती है, ताकि उन पर ज्यादा आर्थिक बोझ न पड़े.\\n\\n</td>\n",
       "      <td>non-hostile</td>\n",
       "    </tr>\n",
       "    <tr>\n",
       "      <th>2</th>\n",
       "      <td>सुशांत ने जो बिजनेस डील 9 जून को की थी, वो डील दीपेश को सुशांत की हत्या के दिन ही क्यों याद आई? देखिए 'पूछता है भारत' अर्नब के साथ रिपब्लिक भारत पर #LIVE :</td>\n",
       "      <td>non-hostile</td>\n",
       "    </tr>\n",
       "    <tr>\n",
       "      <th>3</th>\n",
       "      <td>साले जेएनयू छाप कमिने लोग हिन्दुओं को यह कहते है की संविधान सबको बराबर अधिकार देता है। सच्चाई यह है कि यह बराबर अधिकार नहीं देता है।</td>\n",
       "      <td>defamation,offensive</td>\n",
       "    </tr>\n",
       "    <tr>\n",
       "      <th>4</th>\n",
       "      <td>#unlock4guidelines - अनलॉक-4 के लिए गाइडलाइन्स जारी\\n\\n- 7 सितंबर से देशभर में मेट्रो सेवा शुरु होगी\\n- 21 सितंबर के बाद रैलियों और बाकी फंक्शन में 100 लोगों को इजाजत\\n- कंटेनमेंट जोन में कोई छूट नहीं\\n- सिनेमाहॉल अभी बंद रहेंगे\\n- 9 से 12वीं के छात्र 21 सितंबर के बाद स्कूल जा सकेंगे.</td>\n",
       "      <td>non-hostile</td>\n",
       "    </tr>\n",
       "    <tr>\n",
       "      <th>...</th>\n",
       "      <td>...</td>\n",
       "      <td>...</td>\n",
       "    </tr>\n",
       "    <tr>\n",
       "      <th>5713</th>\n",
       "      <td>उदितराज जी हिम्मत  जुटा कर उस नेता के लिए कुछ कह दीजिये जिसके स्वागत में मुंबई स्टेशन पर पाकिस्तान जिंदाबाद के नारे लगे विरोध कर दें मान्य होगा की आप देशभक्त हैं वरना अनर्गल प्रलाप न करें</td>\n",
       "      <td>hate</td>\n",
       "    </tr>\n",
       "    <tr>\n",
       "      <th>5714</th>\n",
       "      <td>उप्र: पीएम रिपोर्ट में खुलासा: हार्टअटैक से हुई थी पूर्व विधायक निर्वेंद्र की मौत; शरीर पर नहीं मिले चोट के निशान, बेटे ने पिटाई कर हत्या का दावा किया था\\n #NirvendraMishra</td>\n",
       "      <td>non-hostile</td>\n",
       "    </tr>\n",
       "    <tr>\n",
       "      <th>5715</th>\n",
       "      <td>नौकरी गंवा चुके दोस्त की मदद: नगद के बजाए गिफ्ट कार्ड देने के बारे में सोचें, चुका सकते हैं नेटफ्लिक्स और जिम की फीस; हालचाल जानें, लेकिन ज्यादा नहीं  #HelpYourFriend #Jobless #COVID19</td>\n",
       "      <td>non-hostile</td>\n",
       "    </tr>\n",
       "    <tr>\n",
       "      <th>5716</th>\n",
       "      <td>बंगाल में हिन्दू मरे हैं इसलिए मुझे कोई फर्क नहीं पड़ता –#रविश कुमार\\n\\n</td>\n",
       "      <td>fake</td>\n",
       "    </tr>\n",
       "    <tr>\n",
       "      <th>5717</th>\n",
       "      <td>रक्षा मंत्री  ने पूर्व राष्ट्रपति #PranabMukherjee के निधन पर शोक व्यक्त किया\\n\\nविवरण :</td>\n",
       "      <td>non-hostile</td>\n",
       "    </tr>\n",
       "  </tbody>\n",
       "</table>\n",
       "<p>5718 rows × 2 columns</p>\n",
       "</div>"
      ],
      "text/plain": [
       "                                                                                                                                                                                                                                                                                                Post  \\\n",
       "0     मेरे देश के हिन्दु बहुत निराले है। कुछ तो पक्के राम भक्त है और कुछ बाबर के साले है \\n\\n🙏 जय श्री राम 🙏                                                                                                                                                                                           \n",
       "1     सरकार हमेशा से किसानों की कमाई को बढ़ाने के लिए नई-नई स्कीमें लाती रहती है, ताकि उन पर ज्यादा आर्थिक बोझ न पड़े.\\n\\n                                                                                                                                                                             \n",
       "2     सुशांत ने जो बिजनेस डील 9 जून को की थी, वो डील दीपेश को सुशांत की हत्या के दिन ही क्यों याद आई? देखिए 'पूछता है भारत' अर्नब के साथ रिपब्लिक भारत पर #LIVE :                                                                                                                                      \n",
       "3      साले जेएनयू छाप कमिने लोग हिन्दुओं को यह कहते है की संविधान सबको बराबर अधिकार देता है। सच्चाई यह है कि यह बराबर अधिकार नहीं देता है।                                                                                                                                                            \n",
       "4     #unlock4guidelines - अनलॉक-4 के लिए गाइडलाइन्स जारी\\n\\n- 7 सितंबर से देशभर में मेट्रो सेवा शुरु होगी\\n- 21 सितंबर के बाद रैलियों और बाकी फंक्शन में 100 लोगों को इजाजत\\n- कंटेनमेंट जोन में कोई छूट नहीं\\n- सिनेमाहॉल अभी बंद रहेंगे\\n- 9 से 12वीं के छात्र 21 सितंबर के बाद स्कूल जा सकेंगे.    \n",
       "...                                                                                                                                                                                                                                                                                              ...   \n",
       "5713  उदितराज जी हिम्मत  जुटा कर उस नेता के लिए कुछ कह दीजिये जिसके स्वागत में मुंबई स्टेशन पर पाकिस्तान जिंदाबाद के नारे लगे विरोध कर दें मान्य होगा की आप देशभक्त हैं वरना अनर्गल प्रलाप न करें                                                                                                      \n",
       "5714  उप्र: पीएम रिपोर्ट में खुलासा: हार्टअटैक से हुई थी पूर्व विधायक निर्वेंद्र की मौत; शरीर पर नहीं मिले चोट के निशान, बेटे ने पिटाई कर हत्या का दावा किया था\\n #NirvendraMishra                                                                                                                     \n",
       "5715  नौकरी गंवा चुके दोस्त की मदद: नगद के बजाए गिफ्ट कार्ड देने के बारे में सोचें, चुका सकते हैं नेटफ्लिक्स और जिम की फीस; हालचाल जानें, लेकिन ज्यादा नहीं  #HelpYourFriend #Jobless #COVID19                                                                                                         \n",
       "5716  बंगाल में हिन्दू मरे हैं इसलिए मुझे कोई फर्क नहीं पड़ता –#रविश कुमार\\n\\n                                                                                                                                                                                                                         \n",
       "5717  रक्षा मंत्री  ने पूर्व राष्ट्रपति #PranabMukherjee के निधन पर शोक व्यक्त किया\\n\\nविवरण :                                                                                                                                                                                                         \n",
       "\n",
       "                Labels Set  \n",
       "0     hate,offensive        \n",
       "1     non-hostile           \n",
       "2     non-hostile           \n",
       "3     defamation,offensive  \n",
       "4     non-hostile           \n",
       "...           ...           \n",
       "5713  hate                  \n",
       "5714  non-hostile           \n",
       "5715  non-hostile           \n",
       "5716  fake                  \n",
       "5717  non-hostile           \n",
       "\n",
       "[5718 rows x 2 columns]"
      ]
     },
     "execution_count": 25,
     "metadata": {},
     "output_type": "execute_result"
    }
   ],
   "source": [
    "#removing urls & mentions from the string\n",
    "\n",
    "data['Post'] = data['Post'].str.replace('http\\S+|www.\\S+|@\\S+', '', case=False)\n",
    "\n",
    "data"
   ]
  },
  {
   "cell_type": "code",
   "execution_count": 26,
   "metadata": {},
   "outputs": [
    {
     "data": {
      "text/html": [
       "<div>\n",
       "<style scoped>\n",
       "    .dataframe tbody tr th:only-of-type {\n",
       "        vertical-align: middle;\n",
       "    }\n",
       "\n",
       "    .dataframe tbody tr th {\n",
       "        vertical-align: top;\n",
       "    }\n",
       "\n",
       "    .dataframe thead th {\n",
       "        text-align: right;\n",
       "    }\n",
       "</style>\n",
       "<table border=\"1\" class=\"dataframe\">\n",
       "  <thead>\n",
       "    <tr style=\"text-align: right;\">\n",
       "      <th></th>\n",
       "      <th>Post</th>\n",
       "      <th>Labels Set</th>\n",
       "      <th>Hashtag</th>\n",
       "    </tr>\n",
       "  </thead>\n",
       "  <tbody>\n",
       "    <tr>\n",
       "      <th>0</th>\n",
       "      <td>मेरे देश के हिन्दु बहुत निराले है। कुछ तो पक्के राम भक्त है और कुछ बाबर के साले है \\n\\n🙏 जय श्री राम 🙏</td>\n",
       "      <td>hate,offensive</td>\n",
       "      <td>[]</td>\n",
       "    </tr>\n",
       "    <tr>\n",
       "      <th>1</th>\n",
       "      <td>सरकार हमेशा से किसानों की कमाई को बढ़ाने के लिए नई-नई स्कीमें लाती रहती है, ताकि उन पर ज्यादा आर्थिक बोझ न पड़े.\\n\\n</td>\n",
       "      <td>non-hostile</td>\n",
       "      <td>[]</td>\n",
       "    </tr>\n",
       "    <tr>\n",
       "      <th>2</th>\n",
       "      <td>सुशांत ने जो बिजनेस डील 9 जून को की थी, वो डील दीपेश को सुशांत की हत्या के दिन ही क्यों याद आई? देखिए 'पूछता है भारत' अर्नब के साथ रिपब्लिक भारत पर  :</td>\n",
       "      <td>non-hostile</td>\n",
       "      <td>[#LIVE]</td>\n",
       "    </tr>\n",
       "    <tr>\n",
       "      <th>3</th>\n",
       "      <td>साले जेएनयू छाप कमिने लोग हिन्दुओं को यह कहते है की संविधान सबको बराबर अधिकार देता है। सच्चाई यह है कि यह बराबर अधिकार नहीं देता है।</td>\n",
       "      <td>defamation,offensive</td>\n",
       "      <td>[]</td>\n",
       "    </tr>\n",
       "    <tr>\n",
       "      <th>4</th>\n",
       "      <td>- अनलॉक-4 के लिए गाइडलाइन्स जारी\\n\\n- 7 सितंबर से देशभर में मेट्रो सेवा शुरु होगी\\n- 21 सितंबर के बाद रैलियों और बाकी फंक्शन में 100 लोगों को इजाजत\\n- कंटेनमेंट जोन में कोई छूट नहीं\\n- सिनेमाहॉल अभी बंद रहेंगे\\n- 9 से 12वीं के छात्र 21 सितंबर के बाद स्कूल जा सकेंगे.</td>\n",
       "      <td>non-hostile</td>\n",
       "      <td>[#unlock4guidelines]</td>\n",
       "    </tr>\n",
       "    <tr>\n",
       "      <th>...</th>\n",
       "      <td>...</td>\n",
       "      <td>...</td>\n",
       "      <td>...</td>\n",
       "    </tr>\n",
       "    <tr>\n",
       "      <th>5713</th>\n",
       "      <td>उदितराज जी हिम्मत  जुटा कर उस नेता के लिए कुछ कह दीजिये जिसके स्वागत में मुंबई स्टेशन पर पाकिस्तान जिंदाबाद के नारे लगे विरोध कर दें मान्य होगा की आप देशभक्त हैं वरना अनर्गल प्रलाप न करें</td>\n",
       "      <td>hate</td>\n",
       "      <td>[]</td>\n",
       "    </tr>\n",
       "    <tr>\n",
       "      <th>5714</th>\n",
       "      <td>उप्र: पीएम रिपोर्ट में खुलासा: हार्टअटैक से हुई थी पूर्व विधायक निर्वेंद्र की मौत; शरीर पर नहीं मिले चोट के निशान, बेटे ने पिटाई कर हत्या का दावा किया था\\n</td>\n",
       "      <td>non-hostile</td>\n",
       "      <td>[#NirvendraMishra]</td>\n",
       "    </tr>\n",
       "    <tr>\n",
       "      <th>5715</th>\n",
       "      <td>नौकरी गंवा चुके दोस्त की मदद: नगद के बजाए गिफ्ट कार्ड देने के बारे में सोचें, चुका सकते हैं नेटफ्लिक्स और जिम की फीस; हालचाल जानें, लेकिन ज्यादा नहीं</td>\n",
       "      <td>non-hostile</td>\n",
       "      <td>[#HelpYourFriend, #Jobless, #COVID19]</td>\n",
       "    </tr>\n",
       "    <tr>\n",
       "      <th>5716</th>\n",
       "      <td>बंगाल में हिन्दू मरे हैं इसलिए मुझे कोई फर्क नहीं पड़ता – कुमार\\n\\n</td>\n",
       "      <td>fake</td>\n",
       "      <td>[#रविश]</td>\n",
       "    </tr>\n",
       "    <tr>\n",
       "      <th>5717</th>\n",
       "      <td>रक्षा मंत्री  ने पूर्व राष्ट्रपति  के निधन पर शोक व्यक्त किया\\n\\nविवरण :</td>\n",
       "      <td>non-hostile</td>\n",
       "      <td>[#PranabMukherjee]</td>\n",
       "    </tr>\n",
       "  </tbody>\n",
       "</table>\n",
       "<p>5718 rows × 3 columns</p>\n",
       "</div>"
      ],
      "text/plain": [
       "                                                                                                                                                                                                                                                                              Post  \\\n",
       "0     मेरे देश के हिन्दु बहुत निराले है। कुछ तो पक्के राम भक्त है और कुछ बाबर के साले है \\n\\n🙏 जय श्री राम 🙏                                                                                                                                                                         \n",
       "1     सरकार हमेशा से किसानों की कमाई को बढ़ाने के लिए नई-नई स्कीमें लाती रहती है, ताकि उन पर ज्यादा आर्थिक बोझ न पड़े.\\n\\n                                                                                                                                                           \n",
       "2     सुशांत ने जो बिजनेस डील 9 जून को की थी, वो डील दीपेश को सुशांत की हत्या के दिन ही क्यों याद आई? देखिए 'पूछता है भारत' अर्नब के साथ रिपब्लिक भारत पर  :                                                                                                                         \n",
       "3      साले जेएनयू छाप कमिने लोग हिन्दुओं को यह कहते है की संविधान सबको बराबर अधिकार देता है। सच्चाई यह है कि यह बराबर अधिकार नहीं देता है।                                                                                                                                          \n",
       "4      - अनलॉक-4 के लिए गाइडलाइन्स जारी\\n\\n- 7 सितंबर से देशभर में मेट्रो सेवा शुरु होगी\\n- 21 सितंबर के बाद रैलियों और बाकी फंक्शन में 100 लोगों को इजाजत\\n- कंटेनमेंट जोन में कोई छूट नहीं\\n- सिनेमाहॉल अभी बंद रहेंगे\\n- 9 से 12वीं के छात्र 21 सितंबर के बाद स्कूल जा सकेंगे.    \n",
       "...                                                                                                                                                                                                                                                                            ...   \n",
       "5713  उदितराज जी हिम्मत  जुटा कर उस नेता के लिए कुछ कह दीजिये जिसके स्वागत में मुंबई स्टेशन पर पाकिस्तान जिंदाबाद के नारे लगे विरोध कर दें मान्य होगा की आप देशभक्त हैं वरना अनर्गल प्रलाप न करें                                                                                    \n",
       "5714  उप्र: पीएम रिपोर्ट में खुलासा: हार्टअटैक से हुई थी पूर्व विधायक निर्वेंद्र की मौत; शरीर पर नहीं मिले चोट के निशान, बेटे ने पिटाई कर हत्या का दावा किया था\\n                                                                                                                    \n",
       "5715  नौकरी गंवा चुके दोस्त की मदद: नगद के बजाए गिफ्ट कार्ड देने के बारे में सोचें, चुका सकते हैं नेटफ्लिक्स और जिम की फीस; हालचाल जानें, लेकिन ज्यादा नहीं                                                                                                                          \n",
       "5716  बंगाल में हिन्दू मरे हैं इसलिए मुझे कोई फर्क नहीं पड़ता – कुमार\\n\\n                                                                                                                                                                                                            \n",
       "5717  रक्षा मंत्री  ने पूर्व राष्ट्रपति  के निधन पर शोक व्यक्त किया\\n\\nविवरण :                                                                                                                                                                                                       \n",
       "\n",
       "                Labels Set                                Hashtag  \n",
       "0     hate,offensive        []                                     \n",
       "1     non-hostile           []                                     \n",
       "2     non-hostile           [#LIVE]                                \n",
       "3     defamation,offensive  []                                     \n",
       "4     non-hostile           [#unlock4guidelines]                   \n",
       "...           ...                            ...                   \n",
       "5713  hate                  []                                     \n",
       "5714  non-hostile           [#NirvendraMishra]                     \n",
       "5715  non-hostile           [#HelpYourFriend, #Jobless, #COVID19]  \n",
       "5716  fake                  [#रविश]                                \n",
       "5717  non-hostile           [#PranabMukherjee]                     \n",
       "\n",
       "[5718 rows x 3 columns]"
      ]
     },
     "execution_count": 26,
     "metadata": {},
     "output_type": "execute_result"
    }
   ],
   "source": [
    "#separating Hashtags\n",
    "ht=[]\n",
    "\n",
    "\n",
    "for i in data['Post']:\n",
    "    temp=[]\n",
    "    start=0\n",
    "    for j in i:\n",
    "        if j=='#':\n",
    "            start=1\n",
    "            holder=''\n",
    "        if j==' ' and start:\n",
    "            start=0\n",
    "            temp.append(holder)\n",
    "            \n",
    "        elif start==1:\n",
    "            holder+=j\n",
    "    ht.append(temp)\n",
    "            \n",
    "data['Hashtag']=ht\n",
    "\n",
    "data['Post'] = data['Post'].str.replace('#\\S+', '', case=False)\n",
    "\n",
    "data"
   ]
  },
  {
   "cell_type": "code",
   "execution_count": 27,
   "metadata": {},
   "outputs": [
    {
     "data": {
      "text/html": [
       "<div>\n",
       "<style scoped>\n",
       "    .dataframe tbody tr th:only-of-type {\n",
       "        vertical-align: middle;\n",
       "    }\n",
       "\n",
       "    .dataframe tbody tr th {\n",
       "        vertical-align: top;\n",
       "    }\n",
       "\n",
       "    .dataframe thead th {\n",
       "        text-align: right;\n",
       "    }\n",
       "</style>\n",
       "<table border=\"1\" class=\"dataframe\">\n",
       "  <thead>\n",
       "    <tr style=\"text-align: right;\">\n",
       "      <th></th>\n",
       "      <th>Post</th>\n",
       "      <th>Labels Set</th>\n",
       "      <th>Hashtag</th>\n",
       "    </tr>\n",
       "  </thead>\n",
       "  <tbody>\n",
       "    <tr>\n",
       "      <th>0</th>\n",
       "      <td>मेरे देश के हिन्दु बहुत निराले है। कुछ तो पक्के राम भक्त है और कुछ बाबर के साले है \\n\\n🙏 जय श्री राम 🙏</td>\n",
       "      <td>hate,offensive</td>\n",
       "      <td>[]</td>\n",
       "    </tr>\n",
       "    <tr>\n",
       "      <th>1</th>\n",
       "      <td>सरकार हमेशा से किसानों की कमाई को बढ़ाने के लिए नई नई स्कीमें लाती रहती है  ताकि उन पर ज्यादा आर्थिक बोझ न पड़े \\n\\n</td>\n",
       "      <td>non-hostile</td>\n",
       "      <td>[]</td>\n",
       "    </tr>\n",
       "    <tr>\n",
       "      <th>2</th>\n",
       "      <td>सुशांत ने जो बिजनेस डील 9 जून को की थी  वो डील दीपेश को सुशांत की हत्या के दिन ही क्यों याद आई  देखिए  पूछता है भारत  अर्नब के साथ रिपब्लिक भारत पर</td>\n",
       "      <td>non-hostile</td>\n",
       "      <td>[#LIVE]</td>\n",
       "    </tr>\n",
       "    <tr>\n",
       "      <th>3</th>\n",
       "      <td>साले जेएनयू छाप कमिने लोग हिन्दुओं को यह कहते है की संविधान सबको बराबर अधिकार देता है। सच्चाई यह है कि यह बराबर अधिकार नहीं देता है।</td>\n",
       "      <td>defamation,offensive</td>\n",
       "      <td>[]</td>\n",
       "    </tr>\n",
       "    <tr>\n",
       "      <th>4</th>\n",
       "      <td>अनलॉक 4 के लिए गाइडलाइन्स जारी\\n\\n  7 सितंबर से देशभर में मेट्रो सेवा शुरु होगी\\n  21 सितंबर के बाद रैलियों और बाकी फंक्शन में 100 लोगों को इजाजत\\n  कंटेनमेंट जोन में कोई छूट नहीं\\n  सिनेमाहॉल अभी बंद रहेंगे\\n  9 से 12वीं के छात्र 21 सितंबर के बाद स्कूल जा सकेंगे</td>\n",
       "      <td>non-hostile</td>\n",
       "      <td>[#unlock4guidelines]</td>\n",
       "    </tr>\n",
       "    <tr>\n",
       "      <th>...</th>\n",
       "      <td>...</td>\n",
       "      <td>...</td>\n",
       "      <td>...</td>\n",
       "    </tr>\n",
       "    <tr>\n",
       "      <th>5713</th>\n",
       "      <td>उदितराज जी हिम्मत  जुटा कर उस नेता के लिए कुछ कह दीजिये जिसके स्वागत में मुंबई स्टेशन पर पाकिस्तान जिंदाबाद के नारे लगे विरोध कर दें मान्य होगा की आप देशभक्त हैं वरना अनर्गल प्रलाप न करें</td>\n",
       "      <td>hate</td>\n",
       "      <td>[]</td>\n",
       "    </tr>\n",
       "    <tr>\n",
       "      <th>5714</th>\n",
       "      <td>उप्र  पीएम रिपोर्ट में खुलासा  हार्टअटैक से हुई थी पूर्व विधायक निर्वेंद्र की मौत  शरीर पर नहीं मिले चोट के निशान  बेटे ने पिटाई कर हत्या का दावा किया था\\n</td>\n",
       "      <td>non-hostile</td>\n",
       "      <td>[#NirvendraMishra]</td>\n",
       "    </tr>\n",
       "    <tr>\n",
       "      <th>5715</th>\n",
       "      <td>नौकरी गंवा चुके दोस्त की मदद  नगद के बजाए गिफ्ट कार्ड देने के बारे में सोचें  चुका सकते हैं नेटफ्लिक्स और जिम की फीस  हालचाल जानें  लेकिन ज्यादा नहीं</td>\n",
       "      <td>non-hostile</td>\n",
       "      <td>[#HelpYourFriend, #Jobless, #COVID19]</td>\n",
       "    </tr>\n",
       "    <tr>\n",
       "      <th>5716</th>\n",
       "      <td>बंगाल में हिन्दू मरे हैं इसलिए मुझे कोई फर्क नहीं पड़ता   कुमार\\n\\n</td>\n",
       "      <td>fake</td>\n",
       "      <td>[#रविश]</td>\n",
       "    </tr>\n",
       "    <tr>\n",
       "      <th>5717</th>\n",
       "      <td>रक्षा मंत्री  ने पूर्व राष्ट्रपति  के निधन पर शोक व्यक्त किया\\n\\nविवरण</td>\n",
       "      <td>non-hostile</td>\n",
       "      <td>[#PranabMukherjee]</td>\n",
       "    </tr>\n",
       "  </tbody>\n",
       "</table>\n",
       "<p>5718 rows × 3 columns</p>\n",
       "</div>"
      ],
      "text/plain": [
       "                                                                                                                                                                                                                                                                              Post  \\\n",
       "0     मेरे देश के हिन्दु बहुत निराले है। कुछ तो पक्के राम भक्त है और कुछ बाबर के साले है \\n\\n🙏 जय श्री राम 🙏                                                                                                                                                                         \n",
       "1     सरकार हमेशा से किसानों की कमाई को बढ़ाने के लिए नई नई स्कीमें लाती रहती है  ताकि उन पर ज्यादा आर्थिक बोझ न पड़े \\n\\n                                                                                                                                                           \n",
       "2     सुशांत ने जो बिजनेस डील 9 जून को की थी  वो डील दीपेश को सुशांत की हत्या के दिन ही क्यों याद आई  देखिए  पूछता है भारत  अर्नब के साथ रिपब्लिक भारत पर                                                                                                                            \n",
       "3      साले जेएनयू छाप कमिने लोग हिन्दुओं को यह कहते है की संविधान सबको बराबर अधिकार देता है। सच्चाई यह है कि यह बराबर अधिकार नहीं देता है।                                                                                                                                          \n",
       "4        अनलॉक 4 के लिए गाइडलाइन्स जारी\\n\\n  7 सितंबर से देशभर में मेट्रो सेवा शुरु होगी\\n  21 सितंबर के बाद रैलियों और बाकी फंक्शन में 100 लोगों को इजाजत\\n  कंटेनमेंट जोन में कोई छूट नहीं\\n  सिनेमाहॉल अभी बंद रहेंगे\\n  9 से 12वीं के छात्र 21 सितंबर के बाद स्कूल जा सकेंगे     \n",
       "...                                                                                                                                                                                                                                                                            ...   \n",
       "5713  उदितराज जी हिम्मत  जुटा कर उस नेता के लिए कुछ कह दीजिये जिसके स्वागत में मुंबई स्टेशन पर पाकिस्तान जिंदाबाद के नारे लगे विरोध कर दें मान्य होगा की आप देशभक्त हैं वरना अनर्गल प्रलाप न करें                                                                                    \n",
       "5714  उप्र  पीएम रिपोर्ट में खुलासा  हार्टअटैक से हुई थी पूर्व विधायक निर्वेंद्र की मौत  शरीर पर नहीं मिले चोट के निशान  बेटे ने पिटाई कर हत्या का दावा किया था\\n                                                                                                                    \n",
       "5715  नौकरी गंवा चुके दोस्त की मदद  नगद के बजाए गिफ्ट कार्ड देने के बारे में सोचें  चुका सकते हैं नेटफ्लिक्स और जिम की फीस  हालचाल जानें  लेकिन ज्यादा नहीं                                                                                                                          \n",
       "5716  बंगाल में हिन्दू मरे हैं इसलिए मुझे कोई फर्क नहीं पड़ता   कुमार\\n\\n                                                                                                                                                                                                            \n",
       "5717  रक्षा मंत्री  ने पूर्व राष्ट्रपति  के निधन पर शोक व्यक्त किया\\n\\nविवरण                                                                                                                                                                                                         \n",
       "\n",
       "                Labels Set                                Hashtag  \n",
       "0     hate,offensive        []                                     \n",
       "1     non-hostile           []                                     \n",
       "2     non-hostile           [#LIVE]                                \n",
       "3     defamation,offensive  []                                     \n",
       "4     non-hostile           [#unlock4guidelines]                   \n",
       "...           ...                            ...                   \n",
       "5713  hate                  []                                     \n",
       "5714  non-hostile           [#NirvendraMishra]                     \n",
       "5715  non-hostile           [#HelpYourFriend, #Jobless, #COVID19]  \n",
       "5716  fake                  [#रविश]                                \n",
       "5717  non-hostile           [#PranabMukherjee]                     \n",
       "\n",
       "[5718 rows x 3 columns]"
      ]
     },
     "execution_count": 27,
     "metadata": {},
     "output_type": "execute_result"
    }
   ],
   "source": [
    "#removing Punctuations\n",
    "\n",
    "f=open(\"punctuations.txt\",\"r\")\n",
    "punctuations=set(f.read().split('\\n'))\n",
    "index=0\n",
    "\n",
    "for i in data['Post']:\n",
    "    temp=''\n",
    "    for j in i:\n",
    "        if j not in punctuations:\n",
    "            temp+=j\n",
    "        else:\n",
    "            temp+=' '\n",
    "    data['Post'][index]=temp\n",
    "    index+=1\n",
    "    \n",
    "data"
   ]
  },
  {
   "cell_type": "code",
   "execution_count": 28,
   "metadata": {},
   "outputs": [
    {
     "data": {
      "text/html": [
       "<div>\n",
       "<style scoped>\n",
       "    .dataframe tbody tr th:only-of-type {\n",
       "        vertical-align: middle;\n",
       "    }\n",
       "\n",
       "    .dataframe tbody tr th {\n",
       "        vertical-align: top;\n",
       "    }\n",
       "\n",
       "    .dataframe thead th {\n",
       "        text-align: right;\n",
       "    }\n",
       "</style>\n",
       "<table border=\"1\" class=\"dataframe\">\n",
       "  <thead>\n",
       "    <tr style=\"text-align: right;\">\n",
       "      <th></th>\n",
       "      <th>Post</th>\n",
       "      <th>Labels Set</th>\n",
       "      <th>Hashtag</th>\n",
       "    </tr>\n",
       "  </thead>\n",
       "  <tbody>\n",
       "    <tr>\n",
       "      <th>0</th>\n",
       "      <td>मेरे देश के हिन्दु निराले है। पक्के राम भक्त बाबर के साले \\n\\n🙏 जय श्री राम 🙏</td>\n",
       "      <td>hate,offensive</td>\n",
       "      <td>[]</td>\n",
       "    </tr>\n",
       "    <tr>\n",
       "      <th>1</th>\n",
       "      <td>सरकार हमेशा किसानों कमाई बढ़ाने के नई नई स्कीमें लाती ताकि आर्थिक बोझ न पड़े \\n\\n</td>\n",
       "      <td>non-hostile</td>\n",
       "      <td>[]</td>\n",
       "    </tr>\n",
       "    <tr>\n",
       "      <th>2</th>\n",
       "      <td>सुशांत बिजनेस डील 9 जून वो डील दीपेश सुशांत हत्या के दिन याद आई देखिए पूछता भारत अर्नब के रिपब्लिक भारत</td>\n",
       "      <td>non-hostile</td>\n",
       "      <td>[#LIVE]</td>\n",
       "    </tr>\n",
       "    <tr>\n",
       "      <th>3</th>\n",
       "      <td>साले जेएनयू छाप कमिने लोग हिन्दुओं संविधान सबको बराबर अधिकार देता है। सच्चाई बराबर अधिकार नहीं देता है।</td>\n",
       "      <td>defamation,offensive</td>\n",
       "      <td>[]</td>\n",
       "    </tr>\n",
       "    <tr>\n",
       "      <th>4</th>\n",
       "      <td>अनलॉक 4 के गाइडलाइन्स जारी\\n\\n 7 सितंबर देशभर मेट्रो सेवा शुरु होगी\\n 21 सितंबर के रैलियों बाकी फंक्शन 100 लोगों इजाजत\\n कंटेनमेंट जोन छूट नहीं\\n सिनेमाहॉल रहेंगे\\n 9 12वीं के छात्र 21 सितंबर के स्कूल सकेंगे</td>\n",
       "      <td>non-hostile</td>\n",
       "      <td>[#unlock4guidelines]</td>\n",
       "    </tr>\n",
       "    <tr>\n",
       "      <th>...</th>\n",
       "      <td>...</td>\n",
       "      <td>...</td>\n",
       "      <td>...</td>\n",
       "    </tr>\n",
       "    <tr>\n",
       "      <th>5713</th>\n",
       "      <td>उदितराज जी हिम्मत जुटा नेता के कह दीजिये जिसके स्वागत मुंबई स्टेशन पाकिस्तान जिंदाबाद के नारे लगे विरोध दें मान्य होगा देशभक्त वरना अनर्गल प्रलाप न</td>\n",
       "      <td>hate</td>\n",
       "      <td>[]</td>\n",
       "    </tr>\n",
       "    <tr>\n",
       "      <th>5714</th>\n",
       "      <td>उप्र पीएम रिपोर्ट खुलासा हार्टअटैक पूर्व विधायक निर्वेंद्र मौत शरीर नहीं मिले चोट के निशान बेटे पिटाई हत्या दावा था\\n</td>\n",
       "      <td>non-hostile</td>\n",
       "      <td>[#NirvendraMishra]</td>\n",
       "    </tr>\n",
       "    <tr>\n",
       "      <th>5715</th>\n",
       "      <td>नौकरी गंवा चुके दोस्त मदद नगद के बजाए गिफ्ट कार्ड देने के बारे सोचें चुका नेटफ्लिक्स जिम फीस हालचाल जानें नहीं</td>\n",
       "      <td>non-hostile</td>\n",
       "      <td>[#HelpYourFriend, #Jobless, #COVID19]</td>\n",
       "    </tr>\n",
       "    <tr>\n",
       "      <th>5716</th>\n",
       "      <td>बंगाल हिन्दू मरे मुझे फर्क नहीं पड़ता कुमार\\n\\n</td>\n",
       "      <td>fake</td>\n",
       "      <td>[#रविश]</td>\n",
       "    </tr>\n",
       "    <tr>\n",
       "      <th>5717</th>\n",
       "      <td>रक्षा मंत्री पूर्व राष्ट्रपति के निधन शोक व्यक्त किया\\n\\nविवरण</td>\n",
       "      <td>non-hostile</td>\n",
       "      <td>[#PranabMukherjee]</td>\n",
       "    </tr>\n",
       "  </tbody>\n",
       "</table>\n",
       "<p>5718 rows × 3 columns</p>\n",
       "</div>"
      ],
      "text/plain": [
       "                                                                                                                                                                                                                  Post  \\\n",
       "0     मेरे देश के हिन्दु निराले है। पक्के राम भक्त बाबर के साले \\n\\n🙏 जय श्री राम 🙏                                                                                                                                      \n",
       "1     सरकार हमेशा किसानों कमाई बढ़ाने के नई नई स्कीमें लाती ताकि आर्थिक बोझ न पड़े \\n\\n                                                                                                                                  \n",
       "2     सुशांत बिजनेस डील 9 जून वो डील दीपेश सुशांत हत्या के दिन याद आई देखिए पूछता भारत अर्नब के रिपब्लिक भारत                                                                                                            \n",
       "3     साले जेएनयू छाप कमिने लोग हिन्दुओं संविधान सबको बराबर अधिकार देता है। सच्चाई बराबर अधिकार नहीं देता है।                                                                                                            \n",
       "4     अनलॉक 4 के गाइडलाइन्स जारी\\n\\n 7 सितंबर देशभर मेट्रो सेवा शुरु होगी\\n 21 सितंबर के रैलियों बाकी फंक्शन 100 लोगों इजाजत\\n कंटेनमेंट जोन छूट नहीं\\n सिनेमाहॉल रहेंगे\\n 9 12वीं के छात्र 21 सितंबर के स्कूल सकेंगे    \n",
       "...                                                                                                                                                                                                                ...   \n",
       "5713  उदितराज जी हिम्मत जुटा नेता के कह दीजिये जिसके स्वागत मुंबई स्टेशन पाकिस्तान जिंदाबाद के नारे लगे विरोध दें मान्य होगा देशभक्त वरना अनर्गल प्रलाप न                                                                \n",
       "5714  उप्र पीएम रिपोर्ट खुलासा हार्टअटैक पूर्व विधायक निर्वेंद्र मौत शरीर नहीं मिले चोट के निशान बेटे पिटाई हत्या दावा था\\n                                                                                              \n",
       "5715  नौकरी गंवा चुके दोस्त मदद नगद के बजाए गिफ्ट कार्ड देने के बारे सोचें चुका नेटफ्लिक्स जिम फीस हालचाल जानें नहीं                                                                                                     \n",
       "5716  बंगाल हिन्दू मरे मुझे फर्क नहीं पड़ता कुमार\\n\\n                                                                                                                                                                    \n",
       "5717  रक्षा मंत्री पूर्व राष्ट्रपति के निधन शोक व्यक्त किया\\n\\nविवरण                                                                                                                                                     \n",
       "\n",
       "                Labels Set                                Hashtag  \n",
       "0     hate,offensive        []                                     \n",
       "1     non-hostile           []                                     \n",
       "2     non-hostile           [#LIVE]                                \n",
       "3     defamation,offensive  []                                     \n",
       "4     non-hostile           [#unlock4guidelines]                   \n",
       "...           ...                            ...                   \n",
       "5713  hate                  []                                     \n",
       "5714  non-hostile           [#NirvendraMishra]                     \n",
       "5715  non-hostile           [#HelpYourFriend, #Jobless, #COVID19]  \n",
       "5716  fake                  [#रविश]                                \n",
       "5717  non-hostile           [#PranabMukherjee]                     \n",
       "\n",
       "[5718 rows x 3 columns]"
      ]
     },
     "execution_count": 28,
     "metadata": {},
     "output_type": "execute_result"
    }
   ],
   "source": [
    "#removing stop words \n",
    "\n",
    "f=open(\"stopWords.txt\",\"r\")\n",
    "stopWords=set(f.read().split('\\n'))\n",
    "\n",
    "index=0\n",
    "\n",
    "for i in data['Post']:\n",
    "    temp=''\n",
    "    words=i.split(' ')\n",
    "    for j in words:\n",
    "        if j not in stopWords:\n",
    "            temp+=j\n",
    "            temp+=' '\n",
    "    data['Post'][index]=temp\n",
    "    index+=1\n",
    "\n",
    "data"
   ]
  },
  {
   "cell_type": "code",
   "execution_count": 29,
   "metadata": {},
   "outputs": [
    {
     "data": {
      "text/html": [
       "<div>\n",
       "<style scoped>\n",
       "    .dataframe tbody tr th:only-of-type {\n",
       "        vertical-align: middle;\n",
       "    }\n",
       "\n",
       "    .dataframe tbody tr th {\n",
       "        vertical-align: top;\n",
       "    }\n",
       "\n",
       "    .dataframe thead th {\n",
       "        text-align: right;\n",
       "    }\n",
       "</style>\n",
       "<table border=\"1\" class=\"dataframe\">\n",
       "  <thead>\n",
       "    <tr style=\"text-align: right;\">\n",
       "      <th></th>\n",
       "      <th>Post</th>\n",
       "      <th>Labels Set</th>\n",
       "      <th>Hashtag</th>\n",
       "      <th>emojis</th>\n",
       "    </tr>\n",
       "  </thead>\n",
       "  <tbody>\n",
       "    <tr>\n",
       "      <th>0</th>\n",
       "      <td>रक्षा मंत्री पूर्व राष्ट्रपति के निधन शोक व्यक्त किया\\n\\nविवरण</td>\n",
       "      <td>hate,offensive</td>\n",
       "      <td>[]</td>\n",
       "      <td>[🙏, 🙏]</td>\n",
       "    </tr>\n",
       "    <tr>\n",
       "      <th>1</th>\n",
       "      <td>सरकार हमेशा किसानों कमाई बढ़ाने के नई नई स्कीमें लाती ताकि आर्थिक बोझ न पड़े \\n\\n</td>\n",
       "      <td>non-hostile</td>\n",
       "      <td>[]</td>\n",
       "      <td>[]</td>\n",
       "    </tr>\n",
       "    <tr>\n",
       "      <th>2</th>\n",
       "      <td>सुशांत बिजनेस डील 9 जून वो डील दीपेश सुशांत हत्या के दिन याद आई देखिए पूछता भारत अर्नब के रिपब्लिक भारत</td>\n",
       "      <td>non-hostile</td>\n",
       "      <td>[#LIVE]</td>\n",
       "      <td>[]</td>\n",
       "    </tr>\n",
       "    <tr>\n",
       "      <th>3</th>\n",
       "      <td>साले जेएनयू छाप कमिने लोग हिन्दुओं संविधान सबको बराबर अधिकार देता है। सच्चाई बराबर अधिकार नहीं देता है।</td>\n",
       "      <td>defamation,offensive</td>\n",
       "      <td>[]</td>\n",
       "      <td>[]</td>\n",
       "    </tr>\n",
       "    <tr>\n",
       "      <th>4</th>\n",
       "      <td>अनलॉक 4 के गाइडलाइन्स जारी\\n\\n 7 सितंबर देशभर मेट्रो सेवा शुरु होगी\\n 21 सितंबर के रैलियों बाकी फंक्शन 100 लोगों इजाजत\\n कंटेनमेंट जोन छूट नहीं\\n सिनेमाहॉल रहेंगे\\n 9 12वीं के छात्र 21 सितंबर के स्कूल सकेंगे</td>\n",
       "      <td>non-hostile</td>\n",
       "      <td>[#unlock4guidelines]</td>\n",
       "      <td>[]</td>\n",
       "    </tr>\n",
       "    <tr>\n",
       "      <th>...</th>\n",
       "      <td>...</td>\n",
       "      <td>...</td>\n",
       "      <td>...</td>\n",
       "      <td>...</td>\n",
       "    </tr>\n",
       "    <tr>\n",
       "      <th>5713</th>\n",
       "      <td>उदितराज जी हिम्मत जुटा नेता के कह दीजिये जिसके स्वागत मुंबई स्टेशन पाकिस्तान जिंदाबाद के नारे लगे विरोध दें मान्य होगा देशभक्त वरना अनर्गल प्रलाप न</td>\n",
       "      <td>hate</td>\n",
       "      <td>[]</td>\n",
       "      <td>[]</td>\n",
       "    </tr>\n",
       "    <tr>\n",
       "      <th>5714</th>\n",
       "      <td>उप्र पीएम रिपोर्ट खुलासा हार्टअटैक पूर्व विधायक निर्वेंद्र मौत शरीर नहीं मिले चोट के निशान बेटे पिटाई हत्या दावा था\\n</td>\n",
       "      <td>non-hostile</td>\n",
       "      <td>[#NirvendraMishra]</td>\n",
       "      <td>[]</td>\n",
       "    </tr>\n",
       "    <tr>\n",
       "      <th>5715</th>\n",
       "      <td>नौकरी गंवा चुके दोस्त मदद नगद के बजाए गिफ्ट कार्ड देने के बारे सोचें चुका नेटफ्लिक्स जिम फीस हालचाल जानें नहीं</td>\n",
       "      <td>non-hostile</td>\n",
       "      <td>[#HelpYourFriend, #Jobless, #COVID19]</td>\n",
       "      <td>[]</td>\n",
       "    </tr>\n",
       "    <tr>\n",
       "      <th>5716</th>\n",
       "      <td>बंगाल हिन्दू मरे मुझे फर्क नहीं पड़ता कुमार\\n\\n</td>\n",
       "      <td>fake</td>\n",
       "      <td>[#रविश]</td>\n",
       "      <td>[]</td>\n",
       "    </tr>\n",
       "    <tr>\n",
       "      <th>5717</th>\n",
       "      <td>रक्षा मंत्री पूर्व राष्ट्रपति के निधन शोक व्यक्त किया\\n\\nविवरण</td>\n",
       "      <td>non-hostile</td>\n",
       "      <td>[#PranabMukherjee]</td>\n",
       "      <td>[]</td>\n",
       "    </tr>\n",
       "  </tbody>\n",
       "</table>\n",
       "<p>5718 rows × 4 columns</p>\n",
       "</div>"
      ],
      "text/plain": [
       "                                                                                                                                                                                                                  Post  \\\n",
       "0     रक्षा मंत्री पूर्व राष्ट्रपति के निधन शोक व्यक्त किया\\n\\nविवरण                                                                                                                                                     \n",
       "1     सरकार हमेशा किसानों कमाई बढ़ाने के नई नई स्कीमें लाती ताकि आर्थिक बोझ न पड़े \\n\\n                                                                                                                                  \n",
       "2     सुशांत बिजनेस डील 9 जून वो डील दीपेश सुशांत हत्या के दिन याद आई देखिए पूछता भारत अर्नब के रिपब्लिक भारत                                                                                                            \n",
       "3     साले जेएनयू छाप कमिने लोग हिन्दुओं संविधान सबको बराबर अधिकार देता है। सच्चाई बराबर अधिकार नहीं देता है।                                                                                                            \n",
       "4     अनलॉक 4 के गाइडलाइन्स जारी\\n\\n 7 सितंबर देशभर मेट्रो सेवा शुरु होगी\\n 21 सितंबर के रैलियों बाकी फंक्शन 100 लोगों इजाजत\\n कंटेनमेंट जोन छूट नहीं\\n सिनेमाहॉल रहेंगे\\n 9 12वीं के छात्र 21 सितंबर के स्कूल सकेंगे    \n",
       "...                                                                                                                                                                                                                ...   \n",
       "5713  उदितराज जी हिम्मत जुटा नेता के कह दीजिये जिसके स्वागत मुंबई स्टेशन पाकिस्तान जिंदाबाद के नारे लगे विरोध दें मान्य होगा देशभक्त वरना अनर्गल प्रलाप न                                                                \n",
       "5714  उप्र पीएम रिपोर्ट खुलासा हार्टअटैक पूर्व विधायक निर्वेंद्र मौत शरीर नहीं मिले चोट के निशान बेटे पिटाई हत्या दावा था\\n                                                                                              \n",
       "5715  नौकरी गंवा चुके दोस्त मदद नगद के बजाए गिफ्ट कार्ड देने के बारे सोचें चुका नेटफ्लिक्स जिम फीस हालचाल जानें नहीं                                                                                                     \n",
       "5716  बंगाल हिन्दू मरे मुझे फर्क नहीं पड़ता कुमार\\n\\n                                                                                                                                                                    \n",
       "5717  रक्षा मंत्री पूर्व राष्ट्रपति के निधन शोक व्यक्त किया\\n\\nविवरण                                                                                                                                                     \n",
       "\n",
       "                Labels Set                                Hashtag  emojis  \n",
       "0     hate,offensive        []                                     [🙏, 🙏]  \n",
       "1     non-hostile           []                                     []      \n",
       "2     non-hostile           [#LIVE]                                []      \n",
       "3     defamation,offensive  []                                     []      \n",
       "4     non-hostile           [#unlock4guidelines]                   []      \n",
       "...           ...                            ...                   ..      \n",
       "5713  hate                  []                                     []      \n",
       "5714  non-hostile           [#NirvendraMishra]                     []      \n",
       "5715  non-hostile           [#HelpYourFriend, #Jobless, #COVID19]  []      \n",
       "5716  fake                  [#रविश]                                []      \n",
       "5717  non-hostile           [#PranabMukherjee]                     []      \n",
       "\n",
       "[5718 rows x 4 columns]"
      ]
     },
     "execution_count": 29,
     "metadata": {},
     "output_type": "execute_result"
    }
   ],
   "source": [
    "#separating emojis\n",
    "\n",
    "emojis=[]\n",
    "index=0\n",
    "\n",
    "for i in data['Post']:\n",
    "    post=\"\"\n",
    "    temp=[]\n",
    "    for j in i:\n",
    "        if (u'\\u0900' <= j <= u'\\u097f' or j==' ' or j.isdigit() or j=='\\n' or j.isalpha()):\n",
    "            post+=j\n",
    "        else:\n",
    "            temp.append(j)\n",
    "    emojis.append(temp)\n",
    "    data['Post'][index]=post\n",
    "    index=0\n",
    "    \n",
    "data['emojis']=emojis\n",
    "\n",
    "data"
   ]
  },
  {
   "cell_type": "code",
   "execution_count": 30,
   "metadata": {},
   "outputs": [],
   "source": [
    "#english specific preprocessing"
   ]
  },
  {
   "cell_type": "code",
   "execution_count": 31,
   "metadata": {},
   "outputs": [],
   "source": [
    "#Translating hindi to english using \"googletrans\" API\n",
    "# import time\n",
    "# errorCounter=0\n",
    "# cnt=0\n",
    "# eng=[]\n",
    "# f = open(\"res.txt\", \"a\")\n",
    "# f.write(\"Now the file has more content!\")\n",
    "# for i in range(5728):\n",
    "#     t=Translator()\n",
    "#     cnt+=1\n",
    "#     time.sleep(1)\n",
    "    \n",
    "#     print(cnt,errorCounter)\n",
    "#     # if i%5==0:\n",
    "#     #     time.sleep(1)\n",
    "#     try:\n",
    "#         f.write(t.translate(translationInput[i]).text)\n",
    "#         f.write('\\n')\n",
    "#     except:\n",
    "#         errorCounter+=1\n",
    "# print(\"Total Loss = \" + str(errorCounter))"
   ]
  },
  {
   "cell_type": "code",
   "execution_count": 32,
   "metadata": {},
   "outputs": [
    {
     "data": {
      "text/html": [
       "<div>\n",
       "<style scoped>\n",
       "    .dataframe tbody tr th:only-of-type {\n",
       "        vertical-align: middle;\n",
       "    }\n",
       "\n",
       "    .dataframe tbody tr th {\n",
       "        vertical-align: top;\n",
       "    }\n",
       "\n",
       "    .dataframe thead th {\n",
       "        text-align: right;\n",
       "    }\n",
       "</style>\n",
       "<table border=\"1\" class=\"dataframe\">\n",
       "  <thead>\n",
       "    <tr style=\"text-align: right;\">\n",
       "      <th></th>\n",
       "      <th>English Post</th>\n",
       "    </tr>\n",
       "  </thead>\n",
       "  <tbody>\n",
       "    <tr>\n",
       "      <th>0</th>\n",
       "      <td>now the file has more content!my country is hindu very unique in. something is sure ram devotee and brother of babar jai shri ram</td>\n",
       "    </tr>\n",
       "    <tr>\n",
       "      <th>1</th>\n",
       "      <td>sushant has a business deal was june they deal dipesh is sushant asks killing day see i only remember why the republic of india arnab india</td>\n",
       "    </tr>\n",
       "    <tr>\n",
       "      <th>2</th>\n",
       "      <td>brother jnu impression kmine people constitution hindus say it gives everyone equal rights. the truth is that it does not have equal rights.</td>\n",
       "    </tr>\n",
       "    <tr>\n",
       "      <th>3</th>\n",
       "      <td>after september unlock starts across metro service in september issued guidelines rallies and cinema, there is no rest allowed containment zone in function will be closed from now will be the school after the student september th</td>\n",
       "    </tr>\n",
       "    <tr>\n",
       "      <th>4</th>\n",
       "      <td>record case in the country</td>\n",
       "    </tr>\n",
       "    <tr>\n",
       "      <th>...</th>\n",
       "      <td>...</td>\n",
       "    </tr>\n",
       "    <tr>\n",
       "      <th>2900</th>\n",
       "      <td>can in the next hours is arrested rhea caught another drug padlr</td>\n",
       "    </tr>\n",
       "    <tr>\n",
       "      <th>2901</th>\n",
       "      <td>we have seen born dogs in the house of a staunch hindu lion is seen lick tlve of these dogs.</td>\n",
       "    </tr>\n",
       "    <tr>\n",
       "      <th>2902</th>\n",
       "      <td>up pm report revealing was the hartatak former legislator nirvendra death marks son did not harm the body claimed the killing was beating</td>\n",
       "    </tr>\n",
       "    <tr>\n",
       "      <th>2903</th>\n",
       "      <td>can already think about giving gift cards instead of jobs lost cash with the help of friends learn netflix and doing gym fees but not much</td>\n",
       "    </tr>\n",
       "    <tr>\n",
       "      <th>2904</th>\n",
       "      <td></td>\n",
       "    </tr>\n",
       "  </tbody>\n",
       "</table>\n",
       "<p>2905 rows × 1 columns</p>\n",
       "</div>"
      ],
      "text/plain": [
       "                                                                                                                                                                                                                               English Post\n",
       "0     now the file has more content!my country is hindu very unique in. something is sure ram devotee and brother of babar jai shri ram                                                                                                    \n",
       "1     sushant has a business deal was june they deal dipesh is sushant asks killing day see i only remember why the republic of india arnab india                                                                                          \n",
       "2     brother jnu impression kmine people constitution hindus say it gives everyone equal rights. the truth is that it does not have equal rights.                                                                                         \n",
       "3     after september unlock starts across metro service in september issued guidelines rallies and cinema, there is no rest allowed containment zone in function will be closed from now will be the school after the student september th\n",
       "4     record case in the country                                                                                                                                                                                                           \n",
       "...                          ...                                                                                                                                                                                                           \n",
       "2900  can in the next hours is arrested rhea caught another drug padlr                                                                                                                                                                     \n",
       "2901  we have seen born dogs in the house of a staunch hindu lion is seen lick tlve of these dogs.                                                                                                                                         \n",
       "2902  up pm report revealing was the hartatak former legislator nirvendra death marks son did not harm the body claimed the killing was beating                                                                                            \n",
       "2903  can already think about giving gift cards instead of jobs lost cash with the help of friends learn netflix and doing gym fees but not much                                                                                           \n",
       "2904                                                                                                                                                                                                                                       \n",
       "\n",
       "[2905 rows x 1 columns]"
      ]
     },
     "execution_count": 32,
     "metadata": {},
     "output_type": "execute_result"
    }
   ],
   "source": [
    "#lowercasing \n",
    "\n",
    "f = open(\"res.txt\", \"r\")\n",
    "englishPost=list(f.read().split('\\n'))\n",
    "\n",
    "for i in range(len(englishPost)):\n",
    "    englishPost[i]=englishPost[i].lower()\n",
    "\n",
    "engDF=pd.DataFrame.from_dict({'English Post':englishPost})\n",
    "engDF"
   ]
  },
  {
   "cell_type": "code",
   "execution_count": 33,
   "metadata": {},
   "outputs": [
    {
     "data": {
      "text/html": [
       "<div>\n",
       "<style scoped>\n",
       "    .dataframe tbody tr th:only-of-type {\n",
       "        vertical-align: middle;\n",
       "    }\n",
       "\n",
       "    .dataframe tbody tr th {\n",
       "        vertical-align: top;\n",
       "    }\n",
       "\n",
       "    .dataframe thead th {\n",
       "        text-align: right;\n",
       "    }\n",
       "</style>\n",
       "<table border=\"1\" class=\"dataframe\">\n",
       "  <thead>\n",
       "    <tr style=\"text-align: right;\">\n",
       "      <th></th>\n",
       "      <th>English Post</th>\n",
       "    </tr>\n",
       "  </thead>\n",
       "  <tbody>\n",
       "    <tr>\n",
       "      <th>0</th>\n",
       "      <td></td>\n",
       "    </tr>\n",
       "    <tr>\n",
       "      <th>1</th>\n",
       "      <td>sushant has a business deal was june they deal dipesh is sushant asks killing day see i only remember why the republic of india arnab india</td>\n",
       "    </tr>\n",
       "    <tr>\n",
       "      <th>2</th>\n",
       "      <td>brother jnu impression kmine people constitution hindus say it gives everyone equal rights. the truth is that it does not have equal rights.</td>\n",
       "    </tr>\n",
       "    <tr>\n",
       "      <th>3</th>\n",
       "      <td>after september unlock starts across metro service in september issued guidelines rallies and cinema, there is no rest allowed containment zone in function will be closed from now will be the school after the student september th</td>\n",
       "    </tr>\n",
       "    <tr>\n",
       "      <th>4</th>\n",
       "      <td>record case in the country</td>\n",
       "    </tr>\n",
       "    <tr>\n",
       "      <th>...</th>\n",
       "      <td>...</td>\n",
       "    </tr>\n",
       "    <tr>\n",
       "      <th>2900</th>\n",
       "      <td>can in the next hours is arrested rhea caught another drug padlr</td>\n",
       "    </tr>\n",
       "    <tr>\n",
       "      <th>2901</th>\n",
       "      <td>we have seen born dogs in the house of a staunch hindu lion is seen lick tlve of these dogs.</td>\n",
       "    </tr>\n",
       "    <tr>\n",
       "      <th>2902</th>\n",
       "      <td>up pm report revealing was the hartatak former legislator nirvendra death marks son did not harm the body claimed the killing was beating</td>\n",
       "    </tr>\n",
       "    <tr>\n",
       "      <th>2903</th>\n",
       "      <td>can already think about giving gift cards instead of jobs lost cash with the help of friends learn netflix and doing gym fees but not much</td>\n",
       "    </tr>\n",
       "    <tr>\n",
       "      <th>2904</th>\n",
       "      <td></td>\n",
       "    </tr>\n",
       "  </tbody>\n",
       "</table>\n",
       "<p>2905 rows × 1 columns</p>\n",
       "</div>"
      ],
      "text/plain": [
       "                                                                                                                                                                                                                               English Post\n",
       "0                                                                                                                                                                                                                                          \n",
       "1     sushant has a business deal was june they deal dipesh is sushant asks killing day see i only remember why the republic of india arnab india                                                                                          \n",
       "2     brother jnu impression kmine people constitution hindus say it gives everyone equal rights. the truth is that it does not have equal rights.                                                                                         \n",
       "3     after september unlock starts across metro service in september issued guidelines rallies and cinema, there is no rest allowed containment zone in function will be closed from now will be the school after the student september th\n",
       "4     record case in the country                                                                                                                                                                                                           \n",
       "...                          ...                                                                                                                                                                                                           \n",
       "2900  can in the next hours is arrested rhea caught another drug padlr                                                                                                                                                                     \n",
       "2901  we have seen born dogs in the house of a staunch hindu lion is seen lick tlve of these dogs.                                                                                                                                         \n",
       "2902  up pm report revealing was the hartatak former legislator nirvendra death marks son did not harm the body claimed the killing was beating                                                                                            \n",
       "2903  can already think about giving gift cards instead of jobs lost cash with the help of friends learn netflix and doing gym fees but not much                                                                                           \n",
       "2904                                                                                                                                                                                                                                       \n",
       "\n",
       "[2905 rows x 1 columns]"
      ]
     },
     "execution_count": 33,
     "metadata": {},
     "output_type": "execute_result"
    }
   ],
   "source": [
    "#Stemming\n",
    "\n",
    "from nltk.stem import PorterStemmer \n",
    "from nltk.tokenize import word_tokenize \n",
    "   \n",
    "ps = PorterStemmer()\n",
    "index=0\n",
    "\n",
    "for i in englishPost:\n",
    "    sentence=''\n",
    "    for word in i:\n",
    "        sentence+=ps.stem(word)\n",
    "    englishPost[index]=sentence\n",
    "    index+=0\n",
    "    \n",
    "engDF=pd.DataFrame.from_dict({'English Post':englishPost})\n",
    "engDF"
   ]
  },
  {
   "cell_type": "code",
   "execution_count": 34,
   "metadata": {},
   "outputs": [
    {
     "data": {
      "text/html": [
       "<div>\n",
       "<style scoped>\n",
       "    .dataframe tbody tr th:only-of-type {\n",
       "        vertical-align: middle;\n",
       "    }\n",
       "\n",
       "    .dataframe tbody tr th {\n",
       "        vertical-align: top;\n",
       "    }\n",
       "\n",
       "    .dataframe thead th {\n",
       "        text-align: right;\n",
       "    }\n",
       "</style>\n",
       "<table border=\"1\" class=\"dataframe\">\n",
       "  <thead>\n",
       "    <tr style=\"text-align: right;\">\n",
       "      <th></th>\n",
       "      <th>English Post</th>\n",
       "    </tr>\n",
       "  </thead>\n",
       "  <tbody>\n",
       "    <tr>\n",
       "      <th>0</th>\n",
       "      <td></td>\n",
       "    </tr>\n",
       "    <tr>\n",
       "      <th>1</th>\n",
       "      <td>sushant has a business deal was june they deal dipesh is sushant asks killing day see i only remember why the republic of india arnab india</td>\n",
       "    </tr>\n",
       "    <tr>\n",
       "      <th>2</th>\n",
       "      <td>brother jnu impression kmine people constitution hindus say it gives everyone equal rights. the truth is that it does not have equal rights.</td>\n",
       "    </tr>\n",
       "    <tr>\n",
       "      <th>3</th>\n",
       "      <td>after september unlock starts across metro service in september issued guidelines rallies and cinema, there is no rest allowed containment zone in function will be closed from now will be the school after the student september th</td>\n",
       "    </tr>\n",
       "    <tr>\n",
       "      <th>4</th>\n",
       "      <td>record case in the country</td>\n",
       "    </tr>\n",
       "    <tr>\n",
       "      <th>...</th>\n",
       "      <td>...</td>\n",
       "    </tr>\n",
       "    <tr>\n",
       "      <th>2900</th>\n",
       "      <td>can in the next hours is arrested rhea caught another drug padlr</td>\n",
       "    </tr>\n",
       "    <tr>\n",
       "      <th>2901</th>\n",
       "      <td>we have seen born dogs in the house of a staunch hindu lion is seen lick tlve of these dogs.</td>\n",
       "    </tr>\n",
       "    <tr>\n",
       "      <th>2902</th>\n",
       "      <td>up pm report revealing was the hartatak former legislator nirvendra death marks son did not harm the body claimed the killing was beating</td>\n",
       "    </tr>\n",
       "    <tr>\n",
       "      <th>2903</th>\n",
       "      <td>can already think about giving gift cards instead of jobs lost cash with the help of friends learn netflix and doing gym fees but not much</td>\n",
       "    </tr>\n",
       "    <tr>\n",
       "      <th>2904</th>\n",
       "      <td></td>\n",
       "    </tr>\n",
       "  </tbody>\n",
       "</table>\n",
       "<p>2905 rows × 1 columns</p>\n",
       "</div>"
      ],
      "text/plain": [
       "                                                                                                                                                                                                                               English Post\n",
       "0                                                                                                                                                                                                                                          \n",
       "1     sushant has a business deal was june they deal dipesh is sushant asks killing day see i only remember why the republic of india arnab india                                                                                          \n",
       "2     brother jnu impression kmine people constitution hindus say it gives everyone equal rights. the truth is that it does not have equal rights.                                                                                         \n",
       "3     after september unlock starts across metro service in september issued guidelines rallies and cinema, there is no rest allowed containment zone in function will be closed from now will be the school after the student september th\n",
       "4     record case in the country                                                                                                                                                                                                           \n",
       "...                          ...                                                                                                                                                                                                           \n",
       "2900  can in the next hours is arrested rhea caught another drug padlr                                                                                                                                                                     \n",
       "2901  we have seen born dogs in the house of a staunch hindu lion is seen lick tlve of these dogs.                                                                                                                                         \n",
       "2902  up pm report revealing was the hartatak former legislator nirvendra death marks son did not harm the body claimed the killing was beating                                                                                            \n",
       "2903  can already think about giving gift cards instead of jobs lost cash with the help of friends learn netflix and doing gym fees but not much                                                                                           \n",
       "2904                                                                                                                                                                                                                                       \n",
       "\n",
       "[2905 rows x 1 columns]"
      ]
     },
     "execution_count": 34,
     "metadata": {},
     "output_type": "execute_result"
    }
   ],
   "source": [
    "#removing stop words from english\n",
    "\n",
    "f=open(\"stopWordsEnglish.txt\",\"r\")\n",
    "stopWordsEnglish=set(f.read().split('\\n'))\n",
    "\n",
    "index=0\n",
    "\n",
    "for i in englishPost:\n",
    "    words=i.split(' ')\n",
    "    sentence=''\n",
    "    for word in words:\n",
    "        if word not in stopWordsEnglish:\n",
    "            sentence+=word\n",
    "    englishPost[index]=sentence\n",
    "    index=0\n",
    "\n",
    "engDF=pd.DataFrame.from_dict({'English Post':englishPost})\n",
    "engDF"
   ]
  },
  {
   "cell_type": "code",
   "execution_count": null,
   "metadata": {},
   "outputs": [],
   "source": []
  }
 ],
 "metadata": {
  "colab": {
   "collapsed_sections": [],
   "name": "D(18).ipynb",
   "provenance": []
  },
  "kernelspec": {
   "display_name": "Python 3",
   "language": "python",
   "name": "python3"
  },
  "language_info": {
   "codemirror_mode": {
    "name": "ipython",
    "version": 3
   },
   "file_extension": ".py",
   "mimetype": "text/x-python",
   "name": "python",
   "nbconvert_exporter": "python",
   "pygments_lexer": "ipython3",
   "version": "3.8.2"
  }
 },
 "nbformat": 4,
 "nbformat_minor": 1
}
